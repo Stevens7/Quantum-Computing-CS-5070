{
  "nbformat": 4,
  "nbformat_minor": 0,
  "metadata": {
    "colab": {
      "provenance": []
    },
    "kernelspec": {
      "name": "python3",
      "display_name": "Python 3"
    },
    "language_info": {
      "name": "python"
    }
  },
  "cells": [
    {
      "cell_type": "markdown",
      "source": [
        "In this exercise, you will teleport the quantum state\n",
        "$$\\sqrt{0.70}\\vert0\\rangle + \\sqrt{0.30}\\vert1\\rangle$$ from Alice's qubit to Bob's qubit. Recall that the teleportation algorithm consists of four major components:\n",
        "\n",
        "1. Initializing the state to be teleported. We will do this on Alice's qubit `q0`.\n",
        "2. Creating entanglement between two qubits. We will use qubits `q1` and `q2` for this. Recall that Alice owns `q1`, and Bob owns `q2`.\n",
        "3. Applying a Bell measurement on Alice's qubits `q0` and `q1`.\n",
        "4. Applying classically controlled operations on Bob's qubit `q2` depending on the outcomes of the Bell measurement on Alice's qubits.\n",
        "\n",
        "This exercise guides you through each of these steps."
      ],
      "metadata": {
        "id": "BY4sWspK9mJb"
      }
    },
    {
      "cell_type": "code",
      "source": [
        "# Importing standard Qiskit libraries\n",
        "!pip install qiskit\n",
        "from qiskit import QuantumCircuit  #Importing the QuantumCircuit function from Qiskit. We will use this to create our quantum circuits!\n",
        "\n",
        "# We will use these functions to run our circuit and visualize its final state\n",
        "from qiskit import Aer, execute\n",
        "from qiskit.visualization import *\n",
        "import math\n",
        "import warnings  # We are using this library to suppress some warning messages\n",
        "warnings.filterwarnings(\"ignore\")\n",
        "\n",
        "print(\"Libraries imported successfully!\")"
      ],
      "metadata": {
        "id": "xVB9ufr6A_h-",
        "colab": {
          "base_uri": "https://localhost:8080/"
        },
        "outputId": "161bab5e-8ee2-4057-e943-17a96ed89bec"
      },
      "execution_count": null,
      "outputs": [
        {
          "output_type": "stream",
          "name": "stdout",
          "text": [
            "Looking in indexes: https://pypi.org/simple, https://us-python.pkg.dev/colab-wheels/public/simple/\n",
            "Collecting qiskit\n",
            "  Downloading qiskit-0.43.0.tar.gz (10.0 kB)\n",
            "  Installing build dependencies ... \u001b[?25l\u001b[?25hdone\n",
            "  Getting requirements to build wheel ... \u001b[?25l\u001b[?25hdone\n",
            "  Installing backend dependencies ... \u001b[?25l\u001b[?25hdone\n",
            "  Preparing metadata (pyproject.toml) ... \u001b[?25l\u001b[?25hdone\n",
            "Collecting qiskit-aer==0.12.0\n",
            "  Downloading qiskit_aer-0.12.0-cp310-cp310-manylinux_2_17_x86_64.manylinux2014_x86_64.whl (12.8 MB)\n",
            "\u001b[2K     \u001b[90m━━━━━━━━━━━━━━━━━━━━━━━━━━━━━━━━━━━━━━━━\u001b[0m \u001b[32m12.8/12.8 MB\u001b[0m \u001b[31m54.3 MB/s\u001b[0m eta \u001b[36m0:00:00\u001b[0m\n",
            "\u001b[?25hCollecting qiskit-terra==0.24.0\n",
            "  Downloading qiskit_terra-0.24.0-cp310-cp310-manylinux_2_17_x86_64.manylinux2014_x86_64.whl (5.9 MB)\n",
            "\u001b[2K     \u001b[90m━━━━━━━━━━━━━━━━━━━━━━━━━━━━━━━━━━━━━━━━\u001b[0m \u001b[32m5.9/5.9 MB\u001b[0m \u001b[31m37.9 MB/s\u001b[0m eta \u001b[36m0:00:00\u001b[0m\n",
            "\u001b[?25hCollecting qiskit-ibmq-provider==0.20.2\n",
            "  Downloading qiskit_ibmq_provider-0.20.2-py3-none-any.whl (241 kB)\n",
            "\u001b[2K     \u001b[90m━━━━━━━━━━━━━━━━━━━━━━━━━━━━━━━━━━━━━━\u001b[0m \u001b[32m241.5/241.5 kB\u001b[0m \u001b[31m23.7 MB/s\u001b[0m eta \u001b[36m0:00:00\u001b[0m\n",
            "\u001b[?25hRequirement already satisfied: scipy>=1.0 in /usr/local/lib/python3.10/dist-packages (from qiskit-aer==0.12.0->qiskit) (1.10.1)\n",
            "Requirement already satisfied: numpy>=1.16.3 in /usr/local/lib/python3.10/dist-packages (from qiskit-aer==0.12.0->qiskit) (1.22.4)\n",
            "Requirement already satisfied: websocket-client>=1.5.1 in /usr/local/lib/python3.10/dist-packages (from qiskit-ibmq-provider==0.20.2->qiskit) (1.5.1)\n",
            "Requirement already satisfied: urllib3>=1.21.1 in /usr/local/lib/python3.10/dist-packages (from qiskit-ibmq-provider==0.20.2->qiskit) (1.26.15)\n",
            "Requirement already satisfied: requests>=2.19 in /usr/local/lib/python3.10/dist-packages (from qiskit-ibmq-provider==0.20.2->qiskit) (2.27.1)\n",
            "Collecting requests-ntlm<=1.1.0\n",
            "  Downloading requests_ntlm-1.1.0-py2.py3-none-any.whl (5.7 kB)\n",
            "Collecting websockets>=10.0\n",
            "  Downloading websockets-11.0.2-cp310-cp310-manylinux_2_5_x86_64.manylinux1_x86_64.manylinux_2_17_x86_64.manylinux2014_x86_64.whl (129 kB)\n",
            "\u001b[2K     \u001b[90m━━━━━━━━━━━━━━━━━━━━━━━━━━━━━━━━━━━━━━\u001b[0m \u001b[32m129.9/129.9 kB\u001b[0m \u001b[31m12.5 MB/s\u001b[0m eta \u001b[36m0:00:00\u001b[0m\n",
            "\u001b[?25hRequirement already satisfied: python-dateutil>=2.8.0 in /usr/local/lib/python3.10/dist-packages (from qiskit-ibmq-provider==0.20.2->qiskit) (2.8.2)\n",
            "Collecting stevedore>=3.0.0\n",
            "  Downloading stevedore-5.0.0-py3-none-any.whl (49 kB)\n",
            "\u001b[2K     \u001b[90m━━━━━━━━━━━━━━━━━━━━━━━━━━━━━━━━━━━━━━━━\u001b[0m \u001b[32m49.6/49.6 kB\u001b[0m \u001b[31m2.1 MB/s\u001b[0m eta \u001b[36m0:00:00\u001b[0m\n",
            "\u001b[?25hCollecting rustworkx>=0.12.0\n",
            "  Downloading rustworkx-0.12.1-cp310-cp310-manylinux_2_17_x86_64.manylinux2014_x86_64.whl (1.9 MB)\n",
            "\u001b[2K     \u001b[90m━━━━━━━━━━━━━━━━━━━━━━━━━━━━━━━━━━━━━━━━\u001b[0m \u001b[32m1.9/1.9 MB\u001b[0m \u001b[31m59.2 MB/s\u001b[0m eta \u001b[36m0:00:00\u001b[0m\n",
            "\u001b[?25hRequirement already satisfied: psutil>=5 in /usr/local/lib/python3.10/dist-packages (from qiskit-terra==0.24.0->qiskit) (5.9.5)\n",
            "Collecting ply>=3.10\n",
            "  Downloading ply-3.11-py2.py3-none-any.whl (49 kB)\n",
            "\u001b[2K     \u001b[90m━━━━━━━━━━━━━━━━━━━━━━━━━━━━━━━━━━━━━━━━\u001b[0m \u001b[32m49.6/49.6 kB\u001b[0m \u001b[31m6.1 MB/s\u001b[0m eta \u001b[36m0:00:00\u001b[0m\n",
            "\u001b[?25hCollecting symengine<0.10,>=0.9\n",
            "  Downloading symengine-0.9.2-cp310-cp310-manylinux2010_x86_64.whl (37.5 MB)\n",
            "\u001b[2K     \u001b[90m━━━━━━━━━━━━━━━━━━━━━━━━━━━━━━━━━━━━━━━━\u001b[0m \u001b[32m37.5/37.5 MB\u001b[0m \u001b[31m15.9 MB/s\u001b[0m eta \u001b[36m0:00:00\u001b[0m\n",
            "\u001b[?25hCollecting dill>=0.3\n",
            "  Downloading dill-0.3.6-py3-none-any.whl (110 kB)\n",
            "\u001b[2K     \u001b[90m━━━━━━━━━━━━━━━━━━━━━━━━━━━━━━━━━━━━━━\u001b[0m \u001b[32m110.5/110.5 kB\u001b[0m \u001b[31m11.6 MB/s\u001b[0m eta \u001b[36m0:00:00\u001b[0m\n",
            "\u001b[?25hRequirement already satisfied: sympy>=1.3 in /usr/local/lib/python3.10/dist-packages (from qiskit-terra==0.24.0->qiskit) (1.11.1)\n",
            "Requirement already satisfied: six>=1.5 in /usr/local/lib/python3.10/dist-packages (from python-dateutil>=2.8.0->qiskit-ibmq-provider==0.20.2->qiskit) (1.16.0)\n",
            "Requirement already satisfied: idna<4,>=2.5 in /usr/local/lib/python3.10/dist-packages (from requests>=2.19->qiskit-ibmq-provider==0.20.2->qiskit) (3.4)\n",
            "Requirement already satisfied: certifi>=2017.4.17 in /usr/local/lib/python3.10/dist-packages (from requests>=2.19->qiskit-ibmq-provider==0.20.2->qiskit) (2022.12.7)\n",
            "Requirement already satisfied: charset-normalizer~=2.0.0 in /usr/local/lib/python3.10/dist-packages (from requests>=2.19->qiskit-ibmq-provider==0.20.2->qiskit) (2.0.12)\n",
            "Collecting ntlm-auth>=1.0.2\n",
            "  Downloading ntlm_auth-1.5.0-py2.py3-none-any.whl (29 kB)\n",
            "Requirement already satisfied: cryptography>=1.3 in /usr/local/lib/python3.10/dist-packages (from requests-ntlm<=1.1.0->qiskit-ibmq-provider==0.20.2->qiskit) (40.0.2)\n",
            "Collecting pbr!=2.1.0,>=2.0.0\n",
            "  Downloading pbr-5.11.1-py2.py3-none-any.whl (112 kB)\n",
            "\u001b[2K     \u001b[90m━━━━━━━━━━━━━━━━━━━━━━━━━━━━━━━━━━━━━━\u001b[0m \u001b[32m112.7/112.7 kB\u001b[0m \u001b[31m12.2 MB/s\u001b[0m eta \u001b[36m0:00:00\u001b[0m\n",
            "\u001b[?25hRequirement already satisfied: mpmath>=0.19 in /usr/local/lib/python3.10/dist-packages (from sympy>=1.3->qiskit-terra==0.24.0->qiskit) (1.3.0)\n",
            "Requirement already satisfied: cffi>=1.12 in /usr/local/lib/python3.10/dist-packages (from cryptography>=1.3->requests-ntlm<=1.1.0->qiskit-ibmq-provider==0.20.2->qiskit) (1.15.1)\n",
            "Requirement already satisfied: pycparser in /usr/local/lib/python3.10/dist-packages (from cffi>=1.12->cryptography>=1.3->requests-ntlm<=1.1.0->qiskit-ibmq-provider==0.20.2->qiskit) (2.21)\n",
            "Building wheels for collected packages: qiskit\n",
            "  Building wheel for qiskit (pyproject.toml) ... \u001b[?25l\u001b[?25hdone\n",
            "  Created wheel for qiskit: filename=qiskit-0.43.0-py3-none-any.whl size=8013 sha256=9b130d198a177f10da7853a7f25a7bd5e5dd8616af16fcffd3f59d8df2f135bd\n",
            "  Stored in directory: /root/.cache/pip/wheels/11/fe/bc/59531707126e693bad48c61c0b86f3870b49f8f7ad49c18209\n",
            "Successfully built qiskit\n",
            "Installing collected packages: ply, websockets, symengine, rustworkx, pbr, ntlm-auth, dill, stevedore, requests-ntlm, qiskit-terra, qiskit-ibmq-provider, qiskit-aer, qiskit\n",
            "Successfully installed dill-0.3.6 ntlm-auth-1.5.0 pbr-5.11.1 ply-3.11 qiskit-0.43.0 qiskit-aer-0.12.0 qiskit-ibmq-provider-0.20.2 qiskit-terra-0.24.0 requests-ntlm-1.1.0 rustworkx-0.12.1 stevedore-5.0.0 symengine-0.9.2 websockets-11.0.2\n",
            "Libraries imported successfully!\n"
          ]
        }
      ]
    },
    {
      "cell_type": "markdown",
      "source": [
        "### Initializing the state to be teleported"
      ],
      "metadata": {
        "id": "yuLfmVRc943e"
      }
    },
    {
      "cell_type": "markdown",
      "source": [
        "First, create a quantum circuit that creates the state $$\\sqrt{0.70}\\vert0\\rangle + \\sqrt{0.30}\\vert1\\rangle$$ You can do this by using `Qiskit`'s `initialize` function."
      ],
      "metadata": {
        "id": "PKrXjLwN96NC"
      }
    },
    {
      "cell_type": "code",
      "source": [
        "def initialize_qubit(given_circuit, qubit_index):\n",
        "\n",
        "    import numpy as np\n",
        "    ### WRITE YOUR CODE BETWEEN THESE LINES - START\n",
        "\n",
        "    # define the input state\n",
        "    input_state = [0.7**0.5, 0.3**0.5]\n",
        "\n",
        "    # create a quantum circuit with the number of qubits\n",
        "    given_circuit = QuantumCircuit(qubit_index + 1)\n",
        "\n",
        "    # initialize the qubits to the input state\n",
        "    given_circuit.initialize(input_state, qubit_index)\n",
        "\n",
        "    ### WRITE YOUR CODE BETWEEN THESE LINES - END\n",
        "\n",
        "    return given_circuit"
      ],
      "metadata": {
        "id": "aU2a5gqq9x4x"
      },
      "execution_count": null,
      "outputs": []
    },
    {
      "cell_type": "markdown",
      "source": [
        "Next, we need to create entanglement between Alice's and Bob's qubits."
      ],
      "metadata": {
        "id": "9Wi6zJV6-C3a"
      }
    },
    {
      "cell_type": "code",
      "source": [
        "def entangle_qubits(given_circuit, qubit_Alice, qubit_Bob):\n",
        "\n",
        "    ### WRITE YOUR CODE BETWEEN THESE LINES - START\n",
        "    given_circuit.barrier()\n",
        "    given_circuit.cnot(qubit_Alice, qubit_Bob)\n",
        "\n",
        "    ### WRITE YOUR CODE BETWEEN THESE LINES - END\n",
        "\n",
        "    return given_circuit"
      ],
      "metadata": {
        "id": "2o9XVQmw-GGf"
      },
      "execution_count": null,
      "outputs": []
    },
    {
      "cell_type": "markdown",
      "source": [
        "Next, we need to do a Bell measurement of Alice's qubits."
      ],
      "metadata": {
        "id": "Q2J_6ZFe-I98"
      }
    },
    {
      "cell_type": "code",
      "source": [
        "def bell_meas_Alice_qubits(given_circuit, qubit1_Alice, qubit2_Alice, clbit1_Alice, clbit2_Alice):\n",
        "\n",
        "    ### WRITE YOUR CODE BETWEEN THESE LINES - START\n",
        "    given_circuit.barrier()\n",
        "    given_circuit.measure(qubit1_Alice, clbit1_Alice)\n",
        "    given_circuit.measure(qubit2_Alice, clbit2_Alice)\n",
        "    ### WRITE YOUR CODE BETWEEN THESE LINES - END\n",
        "\n",
        "    return given_circuit"
      ],
      "metadata": {
        "id": "qlkW1NTZ-Lew"
      },
      "execution_count": null,
      "outputs": []
    },
    {
      "cell_type": "markdown",
      "source": [
        "Finally, we apply controlled operations on Bob's qubit. Recall that the controlled operations are applied in this order:\n",
        "\n",
        "- an $X$ gate is applied on Bob's qubit if the measurement coutcome of Alice's second qubit, `clbit2_Alice`, is `1`.\n",
        "- a $Z$ gate is applied on Bob's qubit if the measurement coutcome of Alice's first qubit, `clbit1_Alice`, is `1`.\n",
        "\n"
      ],
      "metadata": {
        "id": "POb_MPrw-Ou9"
      }
    },
    {
      "cell_type": "code",
      "source": [
        "def controlled_ops_Bob_qubit(given_circuit, qubit_Bob, clbit1_Alice, clbit2_Alice):\n",
        "\n",
        "    ### WRITE YOUR CODE BETWEEN THESE LINES - START\n",
        "    given_circuit.x(qubit_Bob).c_if(clbit2_Alice, 1) # Apply gates if the registers\n",
        "    given_circuit.z(qubit_Bob).c_if(clbit1_Alice, 1) # are in the state '1'\n",
        "    ### WRITE YOUR CODE BETWEEN THESE LINES - END\n",
        "\n",
        "    return given_circuit"
      ],
      "metadata": {
        "id": "mz2kBdYi-S9J"
      },
      "execution_count": null,
      "outputs": []
    },
    {
      "cell_type": "markdown",
      "source": [
        "The next lines of code put everything together. **You do not need to modify anything below, but you will need to run the cell.**"
      ],
      "metadata": {
        "id": "kiCMPojp-cJ1"
      }
    },
    {
      "cell_type": "code",
      "source": [
        "### imports\n",
        "from qiskit import QuantumRegister, ClassicalRegister\n",
        "\n",
        "### set up the qubits and classical bits\n",
        "all_qubits_Alice = QuantumRegister(2)\n",
        "all_qubits_Bob = QuantumRegister(1)\n",
        "creg1_Alice = ClassicalRegister(1)\n",
        "creg2_Alice = ClassicalRegister(1)\n",
        "\n",
        "### quantum teleportation circuit here\n",
        "\n",
        "# Initialize\n",
        "mycircuit = QuantumCircuit(all_qubits_Alice, all_qubits_Bob, creg1_Alice, creg2_Alice)\n",
        "initialize_qubit(mycircuit, 0)\n",
        "mycircuit.barrier()\n",
        "\n",
        "# Entangle\n",
        "entangle_qubits(mycircuit, 1, 2)\n",
        "mycircuit.barrier()\n",
        "\n",
        "# Do a Bell measurement\n",
        "bell_meas_Alice_qubits(mycircuit, all_qubits_Alice[0], all_qubits_Alice[1], creg1_Alice, creg2_Alice)\n",
        "mycircuit.barrier()\n",
        "\n",
        "# Apply classically controlled quantum gates\n",
        "controlled_ops_Bob_qubit(mycircuit, all_qubits_Bob[0], creg1_Alice, creg2_Alice)\n",
        "\n",
        "### Look at the complete circuit\n",
        "mycircuit.draw()"
      ],
      "metadata": {
        "id": "3L7M1IGd-fYl",
        "colab": {
          "base_uri": "https://localhost:8080/",
          "height": 202
        },
        "outputId": "b62b857e-14c5-4501-99d8-ef651debb62c"
      },
      "execution_count": null,
      "outputs": [
        {
          "output_type": "execute_result",
          "data": {
            "text/plain": [
              "        ░       ░  ░ ┌─┐    ░               \n",
              "q10_0: ─░───────░──░─┤M├────░───────────────\n",
              "        ░       ░  ░ └╥┘┌─┐ ░               \n",
              "q10_1: ─░───■───░──░──╫─┤M├─░───────────────\n",
              "        ░ ┌─┴─┐ ░  ░  ║ └╥┘ ░  ┌───┐  ┌───┐ \n",
              "  q11: ─░─┤ X ├─░──░──╫──╫──░──┤ X ├──┤ Z ├─\n",
              "        ░ └───┘ ░  ░  ║  ║  ░  └─╥─┘  └─╥─┘ \n",
              "                      ║  ║       ║   ┌──╨──┐\n",
              " c8: 1/═══════════════╩══╬═══════╬═══╡ 0x1 ╞\n",
              "                      0  ║    ┌──╨──┐└─────┘\n",
              " c9: 1/══════════════════╩════╡ 0x1 ╞═══════\n",
              "                         0    └─────┘       "
            ],
            "text/html": [
              "<pre style=\"word-wrap: normal;white-space: pre;background: #fff0;line-height: 1.1;font-family: &quot;Courier New&quot;,Courier,monospace\">        ░       ░  ░ ┌─┐    ░               \n",
              "q10_0: ─░───────░──░─┤M├────░───────────────\n",
              "        ░       ░  ░ └╥┘┌─┐ ░               \n",
              "q10_1: ─░───■───░──░──╫─┤M├─░───────────────\n",
              "        ░ ┌─┴─┐ ░  ░  ║ └╥┘ ░  ┌───┐  ┌───┐ \n",
              "  q11: ─░─┤ X ├─░──░──╫──╫──░──┤ X ├──┤ Z ├─\n",
              "        ░ └───┘ ░  ░  ║  ║  ░  └─╥─┘  └─╥─┘ \n",
              "                      ║  ║       ║   ┌──╨──┐\n",
              " c8: 1/═══════════════╩══╬═══════╬═══╡ 0x1 ╞\n",
              "                      0  ║    ┌──╨──┐└─────┘\n",
              " c9: 1/══════════════════╩════╡ 0x1 ╞═══════\n",
              "                         0    └─────┘       </pre>"
            ]
          },
          "metadata": {},
          "execution_count": 16
        }
      ]
    },
    {
      "cell_type": "markdown",
      "source": [
        "### Part II (Graduate section only)\n",
        "Write a quantum program for the following problem:\n",
        "Let d be the number of positions at which two binary strings of equal length differ. For example,\n",
        "if we have two binary numbers \"10101\" and \"11101\", their d is 1, because they differ in only one\n",
        "position (the second bit from the right).\n",
        "Input to your program will be two binary strings and output from classical bits should be binary\n",
        "format of d. Then finally convert d it to decimal format by simple known logic.\n",
        "Example: -\n",
        "If a, b are two inputs to the circuit a = 100011; b = 111111 then classical bits output will be be\n",
        "011 and final output will be 3\n",
        "d (100011,111111) = 3.\n",
        "Notes:\n",
        "1. Do not use Quantum Fourier transforms or Phase estimation.\n",
        "2. Do this assignment with controlled gates and basic known gates.\n",
        "3. Your code should be generalized to any length of the binary strings.\n",
        "Deliverables:\n",
        "1) Submit the code in .py format or .ipynb format with detailed comments.\n",
        "2) Report explaining your circuit with above example. { a = 100011; b = 111111 }\n",
        "Deadline: May 4th, 2023"
      ],
      "metadata": {
        "id": "BACpa3riDzGz"
      }
    },
    {
      "cell_type": "markdown",
      "source": [
        "# First implementation using 6 classical bits for output and counting the number of 1's in the classical output using classical code."
      ],
      "metadata": {
        "id": "eO0nz_rn70Ri"
      }
    },
    {
      "cell_type": "code",
      "source": [
        "from qiskit import QuantumCircuit, Aer, execute\n",
        "\n",
        "# Set the input strings a and b\n",
        "a = \"100011\"\n",
        "b = \"111111\"\n",
        "n = len(a)\n",
        "\n",
        "# Create a quantum circuit with 2n qubits and n classical bits\n",
        "qc = QuantumCircuit(2*n, n)\n",
        "\n",
        "# Encoding the binary strings a and b into the quantum circuit\n",
        "for i in range(n):\n",
        "    if a[i] == \"1\":\n",
        "        qc.x(i)\n",
        "    if b[i] == \"1\":\n",
        "        qc.x(i+n)\n",
        "\n",
        "qc.draw()"
      ],
      "metadata": {
        "colab": {
          "base_uri": "https://localhost:8080/",
          "height": 433
        },
        "id": "8EQYU0I10Hzn",
        "outputId": "31eb7731-2dcc-4184-ad68-cc8b1a40b7e8"
      },
      "execution_count": null,
      "outputs": [
        {
          "output_type": "execute_result",
          "data": {
            "text/plain": [
              "      ┌───┐\n",
              " q_0: ┤ X ├\n",
              "      └───┘\n",
              " q_1: ─────\n",
              "           \n",
              " q_2: ─────\n",
              "           \n",
              " q_3: ─────\n",
              "      ┌───┐\n",
              " q_4: ┤ X ├\n",
              "      ├───┤\n",
              " q_5: ┤ X ├\n",
              "      ├───┤\n",
              " q_6: ┤ X ├\n",
              "      ├───┤\n",
              " q_7: ┤ X ├\n",
              "      ├───┤\n",
              " q_8: ┤ X ├\n",
              "      ├───┤\n",
              " q_9: ┤ X ├\n",
              "      ├───┤\n",
              "q_10: ┤ X ├\n",
              "      ├───┤\n",
              "q_11: ┤ X ├\n",
              "      └───┘\n",
              " c: 6/═════\n",
              "           "
            ],
            "text/html": [
              "<pre style=\"word-wrap: normal;white-space: pre;background: #fff0;line-height: 1.1;font-family: &quot;Courier New&quot;,Courier,monospace\">      ┌───┐\n",
              " q_0: ┤ X ├\n",
              "      └───┘\n",
              " q_1: ─────\n",
              "           \n",
              " q_2: ─────\n",
              "           \n",
              " q_3: ─────\n",
              "      ┌───┐\n",
              " q_4: ┤ X ├\n",
              "      ├───┤\n",
              " q_5: ┤ X ├\n",
              "      ├───┤\n",
              " q_6: ┤ X ├\n",
              "      ├───┤\n",
              " q_7: ┤ X ├\n",
              "      ├───┤\n",
              " q_8: ┤ X ├\n",
              "      ├───┤\n",
              " q_9: ┤ X ├\n",
              "      ├───┤\n",
              "q_10: ┤ X ├\n",
              "      ├───┤\n",
              "q_11: ┤ X ├\n",
              "      └───┘\n",
              " c: 6/═════\n",
              "           </pre>"
            ]
          },
          "metadata": {},
          "execution_count": 105
        }
      ]
    },
    {
      "cell_type": "code",
      "source": [
        "# Applying CNOT gates to get the difference between the two binary numbers\n",
        "qc.barrier()\n",
        "for i in range(n):\n",
        "    qc.cx(i, i+n)\n",
        "\n",
        "qc.draw()"
      ],
      "metadata": {
        "colab": {
          "base_uri": "https://localhost:8080/",
          "height": 433
        },
        "id": "gAZQNzECU83U",
        "outputId": "dfe6a0e0-17e5-4c16-d1c7-2ae445e8e1dc"
      },
      "execution_count": null,
      "outputs": [
        {
          "output_type": "execute_result",
          "data": {
            "text/plain": [
              "      ┌───┐ ░                               \n",
              " q_0: ┤ X ├─░───■───────────────────────────\n",
              "      └───┘ ░   │                           \n",
              " q_1: ──────░───┼────■──────────────────────\n",
              "            ░   │    │                      \n",
              " q_2: ──────░───┼────┼────■─────────────────\n",
              "            ░   │    │    │                 \n",
              " q_3: ──────░───┼────┼────┼────■────────────\n",
              "      ┌───┐ ░   │    │    │    │            \n",
              " q_4: ┤ X ├─░───┼────┼────┼────┼────■───────\n",
              "      ├───┤ ░   │    │    │    │    │       \n",
              " q_5: ┤ X ├─░───┼────┼────┼────┼────┼────■──\n",
              "      ├───┤ ░ ┌─┴─┐  │    │    │    │    │  \n",
              " q_6: ┤ X ├─░─┤ X ├──┼────┼────┼────┼────┼──\n",
              "      ├───┤ ░ └───┘┌─┴─┐  │    │    │    │  \n",
              " q_7: ┤ X ├─░──────┤ X ├──┼────┼────┼────┼──\n",
              "      ├───┤ ░      └───┘┌─┴─┐  │    │    │  \n",
              " q_8: ┤ X ├─░───────────┤ X ├──┼────┼────┼──\n",
              "      ├───┤ ░           └───┘┌─┴─┐  │    │  \n",
              " q_9: ┤ X ├─░────────────────┤ X ├──┼────┼──\n",
              "      ├───┤ ░                └───┘┌─┴─┐  │  \n",
              "q_10: ┤ X ├─░─────────────────────┤ X ├──┼──\n",
              "      ├───┤ ░                     └───┘┌─┴─┐\n",
              "q_11: ┤ X ├─░──────────────────────────┤ X ├\n",
              "      └───┘ ░                          └───┘\n",
              " c: 6/══════════════════════════════════════\n",
              "                                            "
            ],
            "text/html": [
              "<pre style=\"word-wrap: normal;white-space: pre;background: #fff0;line-height: 1.1;font-family: &quot;Courier New&quot;,Courier,monospace\">      ┌───┐ ░                               \n",
              " q_0: ┤ X ├─░───■───────────────────────────\n",
              "      └───┘ ░   │                           \n",
              " q_1: ──────░───┼────■──────────────────────\n",
              "            ░   │    │                      \n",
              " q_2: ──────░───┼────┼────■─────────────────\n",
              "            ░   │    │    │                 \n",
              " q_3: ──────░───┼────┼────┼────■────────────\n",
              "      ┌───┐ ░   │    │    │    │            \n",
              " q_4: ┤ X ├─░───┼────┼────┼────┼────■───────\n",
              "      ├───┤ ░   │    │    │    │    │       \n",
              " q_5: ┤ X ├─░───┼────┼────┼────┼────┼────■──\n",
              "      ├───┤ ░ ┌─┴─┐  │    │    │    │    │  \n",
              " q_6: ┤ X ├─░─┤ X ├──┼────┼────┼────┼────┼──\n",
              "      ├───┤ ░ └───┘┌─┴─┐  │    │    │    │  \n",
              " q_7: ┤ X ├─░──────┤ X ├──┼────┼────┼────┼──\n",
              "      ├───┤ ░      └───┘┌─┴─┐  │    │    │  \n",
              " q_8: ┤ X ├─░───────────┤ X ├──┼────┼────┼──\n",
              "      ├───┤ ░           └───┘┌─┴─┐  │    │  \n",
              " q_9: ┤ X ├─░────────────────┤ X ├──┼────┼──\n",
              "      ├───┤ ░                └───┘┌─┴─┐  │  \n",
              "q_10: ┤ X ├─░─────────────────────┤ X ├──┼──\n",
              "      ├───┤ ░                     └───┘┌─┴─┐\n",
              "q_11: ┤ X ├─░──────────────────────────┤ X ├\n",
              "      └───┘ ░                          └───┘\n",
              " c: 6/══════════════════════════════════════\n",
              "                                            </pre>"
            ]
          },
          "metadata": {},
          "execution_count": 106
        }
      ]
    },
    {
      "cell_type": "code",
      "source": [
        "# Measuring\n",
        "qc.barrier()\n",
        "for i in range(n):\n",
        "    qc.measure(i+n, i)\n",
        "qc.draw()"
      ],
      "metadata": {
        "id": "XSfc12hK7-Yq",
        "colab": {
          "base_uri": "https://localhost:8080/",
          "height": 433
        },
        "outputId": "e3a18647-3499-4ba8-93c2-88d2fe048321"
      },
      "execution_count": null,
      "outputs": [
        {
          "output_type": "execute_result",
          "data": {
            "text/plain": [
              "      ┌───┐ ░                                ░                   \n",
              " q_0: ┤ X ├─░───■────────────────────────────░───────────────────\n",
              "      └───┘ ░   │                            ░                   \n",
              " q_1: ──────░───┼────■───────────────────────░───────────────────\n",
              "            ░   │    │                       ░                   \n",
              " q_2: ──────░───┼────┼────■──────────────────░───────────────────\n",
              "            ░   │    │    │                  ░                   \n",
              " q_3: ──────░───┼────┼────┼────■─────────────░───────────────────\n",
              "      ┌───┐ ░   │    │    │    │             ░                   \n",
              " q_4: ┤ X ├─░───┼────┼────┼────┼────■────────░───────────────────\n",
              "      ├───┤ ░   │    │    │    │    │        ░                   \n",
              " q_5: ┤ X ├─░───┼────┼────┼────┼────┼────■───░───────────────────\n",
              "      ├───┤ ░ ┌─┴─┐  │    │    │    │    │   ░ ┌─┐               \n",
              " q_6: ┤ X ├─░─┤ X ├──┼────┼────┼────┼────┼───░─┤M├───────────────\n",
              "      ├───┤ ░ └───┘┌─┴─┐  │    │    │    │   ░ └╥┘┌─┐            \n",
              " q_7: ┤ X ├─░──────┤ X ├──┼────┼────┼────┼───░──╫─┤M├────────────\n",
              "      ├───┤ ░      └───┘┌─┴─┐  │    │    │   ░  ║ └╥┘┌─┐         \n",
              " q_8: ┤ X ├─░───────────┤ X ├──┼────┼────┼───░──╫──╫─┤M├─────────\n",
              "      ├───┤ ░           └───┘┌─┴─┐  │    │   ░  ║  ║ └╥┘┌─┐      \n",
              " q_9: ┤ X ├─░────────────────┤ X ├──┼────┼───░──╫──╫──╫─┤M├──────\n",
              "      ├───┤ ░                └───┘┌─┴─┐  │   ░  ║  ║  ║ └╥┘┌─┐   \n",
              "q_10: ┤ X ├─░─────────────────────┤ X ├──┼───░──╫──╫──╫──╫─┤M├───\n",
              "      ├───┤ ░                     └───┘┌─┴─┐ ░  ║  ║  ║  ║ └╥┘┌─┐\n",
              "q_11: ┤ X ├─░──────────────────────────┤ X ├─░──╫──╫──╫──╫──╫─┤M├\n",
              "      └───┘ ░                          └───┘ ░  ║  ║  ║  ║  ║ └╥┘\n",
              " c: 6/══════════════════════════════════════════╩══╩══╩══╩══╩══╩═\n",
              "                                                0  1  2  3  4  5 "
            ],
            "text/html": [
              "<pre style=\"word-wrap: normal;white-space: pre;background: #fff0;line-height: 1.1;font-family: &quot;Courier New&quot;,Courier,monospace\">      ┌───┐ ░                                ░                   \n",
              " q_0: ┤ X ├─░───■────────────────────────────░───────────────────\n",
              "      └───┘ ░   │                            ░                   \n",
              " q_1: ──────░───┼────■───────────────────────░───────────────────\n",
              "            ░   │    │                       ░                   \n",
              " q_2: ──────░───┼────┼────■──────────────────░───────────────────\n",
              "            ░   │    │    │                  ░                   \n",
              " q_3: ──────░───┼────┼────┼────■─────────────░───────────────────\n",
              "      ┌───┐ ░   │    │    │    │             ░                   \n",
              " q_4: ┤ X ├─░───┼────┼────┼────┼────■────────░───────────────────\n",
              "      ├───┤ ░   │    │    │    │    │        ░                   \n",
              " q_5: ┤ X ├─░───┼────┼────┼────┼────┼────■───░───────────────────\n",
              "      ├───┤ ░ ┌─┴─┐  │    │    │    │    │   ░ ┌─┐               \n",
              " q_6: ┤ X ├─░─┤ X ├──┼────┼────┼────┼────┼───░─┤M├───────────────\n",
              "      ├───┤ ░ └───┘┌─┴─┐  │    │    │    │   ░ └╥┘┌─┐            \n",
              " q_7: ┤ X ├─░──────┤ X ├──┼────┼────┼────┼───░──╫─┤M├────────────\n",
              "      ├───┤ ░      └───┘┌─┴─┐  │    │    │   ░  ║ └╥┘┌─┐         \n",
              " q_8: ┤ X ├─░───────────┤ X ├──┼────┼────┼───░──╫──╫─┤M├─────────\n",
              "      ├───┤ ░           └───┘┌─┴─┐  │    │   ░  ║  ║ └╥┘┌─┐      \n",
              " q_9: ┤ X ├─░────────────────┤ X ├──┼────┼───░──╫──╫──╫─┤M├──────\n",
              "      ├───┤ ░                └───┘┌─┴─┐  │   ░  ║  ║  ║ └╥┘┌─┐   \n",
              "q_10: ┤ X ├─░─────────────────────┤ X ├──┼───░──╫──╫──╫──╫─┤M├───\n",
              "      ├───┤ ░                     └───┘┌─┴─┐ ░  ║  ║  ║  ║ └╥┘┌─┐\n",
              "q_11: ┤ X ├─░──────────────────────────┤ X ├─░──╫──╫──╫──╫──╫─┤M├\n",
              "      └───┘ ░                          └───┘ ░  ║  ║  ║  ║  ║ └╥┘\n",
              " c: 6/══════════════════════════════════════════╩══╩══╩══╩══╩══╩═\n",
              "                                                0  1  2  3  4  5 </pre>"
            ]
          },
          "metadata": {},
          "execution_count": 107
        }
      ]
    },
    {
      "cell_type": "code",
      "source": [
        "simulator = Aer.get_backend('qasm_simulator')\n",
        "result = execute(qc, simulator, shots=1024).result()\n",
        "counts = result.get_counts(qc)\n",
        "plot_histogram(counts)"
      ],
      "metadata": {
        "colab": {
          "base_uri": "https://localhost:8080/",
          "height": 507
        },
        "id": "BjXYr_l3HmS5",
        "outputId": "2fd4d017-8c12-47e6-cbce-9af601c9ccd2"
      },
      "execution_count": null,
      "outputs": [
        {
          "output_type": "execute_result",
          "data": {
            "text/plain": [
              "<Figure size 700x500 with 1 Axes>"
            ],
            "image/png": "[encoded data removed]"
          },
          "metadata": {},
          "execution_count": 108
        }
      ]
    },
    {
      "cell_type": "code",
      "source": [
        "# Count the number of qubits in the state |1⟩\n",
        "num_ones = 0\n",
        "if a == b:\n",
        "  num_ones = 0\n",
        "else:\n",
        "  for key in counts.keys():\n",
        "      num_ones += key.count(\"1\")\n",
        "\n",
        "print(\"Difference, d:\", num_ones)"
      ],
      "metadata": {
        "colab": {
          "base_uri": "https://localhost:8080/"
        },
        "id": "xwGHxadXFjEW",
        "outputId": "bcf0a010-79ab-4870-8069-a365c8157f44"
      },
      "execution_count": null,
      "outputs": [
        {
          "output_type": "stream",
          "name": "stdout",
          "text": [
            "Difference, d: 3\n"
          ]
        }
      ]
    },
    {
      "cell_type": "markdown",
      "source": [
        "### Implementation 2: Attempt to count the number of 1's after the CNOT layer using adder quantum logic and get the output in log(n) bits where n is the length of the binary number."
      ],
      "metadata": {
        "id": "2vxqb2Xv7VAD"
      }
    },
    {
      "cell_type": "code",
      "source": [
        "from qiskit import QuantumCircuit, Aer, execute\n",
        "\n",
        "# Set the input strings a and b\n",
        "a = \"100011\"\n",
        "b = \"111111\"\n",
        "n = len(a)\n",
        "classical_regs = round(math.log(n) + 1) # 1 is added to raise the output up 1, due to rounding taking the output 1 down\n",
        "\n",
        "# Create a quantum circuit with 2n qubits and n classical bits\n",
        "qc = QuantumCircuit(2*n, classical_regs)\n",
        "\n",
        "# Encoding the binary strings a and b into the quantum circuit\n",
        "for i in range(n):\n",
        "    if a[i] == \"1\":\n",
        "        qc.x(i)\n",
        "    if b[i] == \"1\":\n",
        "        qc.x(i+n)\n",
        "\n",
        "qc.draw()"
      ],
      "metadata": {
        "colab": {
          "base_uri": "https://localhost:8080/",
          "height": 433
        },
        "id": "qgEkdsT97uP6",
        "outputId": "3123f985-334e-4566-e8a4-0977a846e616"
      },
      "execution_count": null,
      "outputs": [
        {
          "output_type": "execute_result",
          "data": {
            "text/plain": [
              "      ┌───┐\n",
              " q_0: ┤ X ├\n",
              "      └───┘\n",
              " q_1: ─────\n",
              "           \n",
              " q_2: ─────\n",
              "           \n",
              " q_3: ─────\n",
              "      ┌───┐\n",
              " q_4: ┤ X ├\n",
              "      ├───┤\n",
              " q_5: ┤ X ├\n",
              "      ├───┤\n",
              " q_6: ┤ X ├\n",
              "      ├───┤\n",
              " q_7: ┤ X ├\n",
              "      ├───┤\n",
              " q_8: ┤ X ├\n",
              "      ├───┤\n",
              " q_9: ┤ X ├\n",
              "      ├───┤\n",
              "q_10: ┤ X ├\n",
              "      ├───┤\n",
              "q_11: ┤ X ├\n",
              "      └───┘\n",
              " c: 3/═════\n",
              "           "
            ],
            "text/html": [
              "<pre style=\"word-wrap: normal;white-space: pre;background: #fff0;line-height: 1.1;font-family: &quot;Courier New&quot;,Courier,monospace\">      ┌───┐\n",
              " q_0: ┤ X ├\n",
              "      └───┘\n",
              " q_1: ─────\n",
              "           \n",
              " q_2: ─────\n",
              "           \n",
              " q_3: ─────\n",
              "      ┌───┐\n",
              " q_4: ┤ X ├\n",
              "      ├───┤\n",
              " q_5: ┤ X ├\n",
              "      ├───┤\n",
              " q_6: ┤ X ├\n",
              "      ├───┤\n",
              " q_7: ┤ X ├\n",
              "      ├───┤\n",
              " q_8: ┤ X ├\n",
              "      ├───┤\n",
              " q_9: ┤ X ├\n",
              "      ├───┤\n",
              "q_10: ┤ X ├\n",
              "      ├───┤\n",
              "q_11: ┤ X ├\n",
              "      └───┘\n",
              " c: 3/═════\n",
              "           </pre>"
            ]
          },
          "metadata": {},
          "execution_count": 217
        }
      ]
    },
    {
      "cell_type": "code",
      "source": [
        "# Applying CNOT gates to get the difference between the two binary numbers\n",
        "qc.barrier()\n",
        "for i in range(n):\n",
        "    qc.cx(i, i+n)\n",
        "\n",
        "qc.draw()"
      ],
      "metadata": {
        "colab": {
          "base_uri": "https://localhost:8080/",
          "height": 433
        },
        "id": "0LGMt1BT8CDo",
        "outputId": "131e8cbf-c45c-416c-e711-52c640a9c0c2"
      },
      "execution_count": null,
      "outputs": [
        {
          "output_type": "execute_result",
          "data": {
            "text/plain": [
              "      ┌───┐ ░                               \n",
              " q_0: ┤ X ├─░───■───────────────────────────\n",
              "      └───┘ ░   │                           \n",
              " q_1: ──────░───┼────■──────────────────────\n",
              "            ░   │    │                      \n",
              " q_2: ──────░───┼────┼────■─────────────────\n",
              "            ░   │    │    │                 \n",
              " q_3: ──────░───┼────┼────┼────■────────────\n",
              "      ┌───┐ ░   │    │    │    │            \n",
              " q_4: ┤ X ├─░───┼────┼────┼────┼────■───────\n",
              "      ├───┤ ░   │    │    │    │    │       \n",
              " q_5: ┤ X ├─░───┼────┼────┼────┼────┼────■──\n",
              "      ├───┤ ░ ┌─┴─┐  │    │    │    │    │  \n",
              " q_6: ┤ X ├─░─┤ X ├──┼────┼────┼────┼────┼──\n",
              "      ├───┤ ░ └───┘┌─┴─┐  │    │    │    │  \n",
              " q_7: ┤ X ├─░──────┤ X ├──┼────┼────┼────┼──\n",
              "      ├───┤ ░      └───┘┌─┴─┐  │    │    │  \n",
              " q_8: ┤ X ├─░───────────┤ X ├──┼────┼────┼──\n",
              "      ├───┤ ░           └───┘┌─┴─┐  │    │  \n",
              " q_9: ┤ X ├─░────────────────┤ X ├──┼────┼──\n",
              "      ├───┤ ░                └───┘┌─┴─┐  │  \n",
              "q_10: ┤ X ├─░─────────────────────┤ X ├──┼──\n",
              "      ├───┤ ░                     └───┘┌─┴─┐\n",
              "q_11: ┤ X ├─░──────────────────────────┤ X ├\n",
              "      └───┘ ░                          └───┘\n",
              " c: 3/══════════════════════════════════════\n",
              "                                            "
            ],
            "text/html": [
              "<pre style=\"word-wrap: normal;white-space: pre;background: #fff0;line-height: 1.1;font-family: &quot;Courier New&quot;,Courier,monospace\">      ┌───┐ ░                               \n",
              " q_0: ┤ X ├─░───■───────────────────────────\n",
              "      └───┘ ░   │                           \n",
              " q_1: ──────░───┼────■──────────────────────\n",
              "            ░   │    │                      \n",
              " q_2: ──────░───┼────┼────■─────────────────\n",
              "            ░   │    │    │                 \n",
              " q_3: ──────░───┼────┼────┼────■────────────\n",
              "      ┌───┐ ░   │    │    │    │            \n",
              " q_4: ┤ X ├─░───┼────┼────┼────┼────■───────\n",
              "      ├───┤ ░   │    │    │    │    │       \n",
              " q_5: ┤ X ├─░───┼────┼────┼────┼────┼────■──\n",
              "      ├───┤ ░ ┌─┴─┐  │    │    │    │    │  \n",
              " q_6: ┤ X ├─░─┤ X ├──┼────┼────┼────┼────┼──\n",
              "      ├───┤ ░ └───┘┌─┴─┐  │    │    │    │  \n",
              " q_7: ┤ X ├─░──────┤ X ├──┼────┼────┼────┼──\n",
              "      ├───┤ ░      └───┘┌─┴─┐  │    │    │  \n",
              " q_8: ┤ X ├─░───────────┤ X ├──┼────┼────┼──\n",
              "      ├───┤ ░           └───┘┌─┴─┐  │    │  \n",
              " q_9: ┤ X ├─░────────────────┤ X ├──┼────┼──\n",
              "      ├───┤ ░                └───┘┌─┴─┐  │  \n",
              "q_10: ┤ X ├─░─────────────────────┤ X ├──┼──\n",
              "      ├───┤ ░                     └───┘┌─┴─┐\n",
              "q_11: ┤ X ├─░──────────────────────────┤ X ├\n",
              "      └───┘ ░                          └───┘\n",
              " c: 3/══════════════════════════════════════\n",
              "                                            </pre>"
            ]
          },
          "metadata": {},
          "execution_count": 218
        }
      ]
    },
    {
      "cell_type": "code",
      "source": [
        "# Applying Toffoli gates to count the number of 1's from the output of CNOT gates that represent the bits that are different\n",
        "qc.barrier()\n",
        "for i in range(1, n):\n",
        "    for j in range(n, 2*n - i - 1): # Toffoli gate are applied in the b string part as the CNOT gates result is reflected here\n",
        "        qc.ccx(j, j + i, j + i + 1)\n",
        "qc.draw()"
      ],
      "metadata": {
        "colab": {
          "base_uri": "https://localhost:8080/",
          "height": 848
        },
        "id": "a3zQjyBaNHqX",
        "outputId": "a42a8923-450e-437a-c259-9e82b8c17c99"
      },
      "execution_count": null,
      "outputs": [
        {
          "output_type": "execute_result",
          "data": {
            "text/plain": [
              "      ┌───┐ ░                                ░                               »\n",
              " q_0: ┤ X ├─░───■────────────────────────────░───────────────────────────────»\n",
              "      └───┘ ░   │                            ░                               »\n",
              " q_1: ──────░───┼────■───────────────────────░───────────────────────────────»\n",
              "            ░   │    │                       ░                               »\n",
              " q_2: ──────░───┼────┼────■──────────────────░───────────────────────────────»\n",
              "            ░   │    │    │                  ░                               »\n",
              " q_3: ──────░───┼────┼────┼────■─────────────░───────────────────────────────»\n",
              "      ┌───┐ ░   │    │    │    │             ░                               »\n",
              " q_4: ┤ X ├─░───┼────┼────┼────┼────■────────░───────────────────────────────»\n",
              "      ├───┤ ░   │    │    │    │    │        ░                               »\n",
              " q_5: ┤ X ├─░───┼────┼────┼────┼────┼────■───░───────────────────────────────»\n",
              "      ├───┤ ░ ┌─┴─┐  │    │    │    │    │   ░                               »\n",
              " q_6: ┤ X ├─░─┤ X ├──┼────┼────┼────┼────┼───░───■───────────────────■───────»\n",
              "      ├───┤ ░ └───┘┌─┴─┐  │    │    │    │   ░   │                   │       »\n",
              " q_7: ┤ X ├─░──────┤ X ├──┼────┼────┼────┼───░───■────■──────────────┼────■──»\n",
              "      ├───┤ ░      └───┘┌─┴─┐  │    │    │   ░ ┌─┴─┐  │              │    │  »\n",
              " q_8: ┤ X ├─░───────────┤ X ├──┼────┼────┼───░─┤ X ├──■────■─────────■────┼──»\n",
              "      ├───┤ ░           └───┘┌─┴─┐  │    │   ░ └───┘┌─┴─┐  │       ┌─┴─┐  │  »\n",
              " q_9: ┤ X ├─░────────────────┤ X ├──┼────┼───░──────┤ X ├──■────■──┤ X ├──■──»\n",
              "      ├───┤ ░                └───┘┌─┴─┐  │   ░      └───┘┌─┴─┐  │  └───┘┌─┴─┐»\n",
              "q_10: ┤ X ├─░─────────────────────┤ X ├──┼───░───────────┤ X ├──■───────┤ X ├»\n",
              "      ├───┤ ░                     └───┘┌─┴─┐ ░           └───┘┌─┴─┐     └───┘»\n",
              "q_11: ┤ X ├─░──────────────────────────┤ X ├─░────────────────┤ X ├──────────»\n",
              "      └───┘ ░                          └───┘ ░                └───┘          »\n",
              " c: 3/═══════════════════════════════════════════════════════════════════════»\n",
              "                                                                             »\n",
              "«                          \n",
              "« q_0: ────────────────────\n",
              "«                          \n",
              "« q_1: ────────────────────\n",
              "«                          \n",
              "« q_2: ────────────────────\n",
              "«                          \n",
              "« q_3: ────────────────────\n",
              "«                          \n",
              "« q_4: ────────────────────\n",
              "«                          \n",
              "« q_5: ────────────────────\n",
              "«                          \n",
              "« q_6: ───────■─────────■──\n",
              "«             │         │  \n",
              "« q_7: ───────┼────■────┼──\n",
              "«             │    │    │  \n",
              "« q_8: ──■────┼────┼────┼──\n",
              "«        │    │    │    │  \n",
              "« q_9: ──┼────■────┼────┼──\n",
              "«        │  ┌─┴─┐  │    │  \n",
              "«q_10: ──■──┤ X ├──■────■──\n",
              "«      ┌─┴─┐└───┘┌─┴─┐┌─┴─┐\n",
              "«q_11: ┤ X ├─────┤ X ├┤ X ├\n",
              "«      └───┘     └───┘└───┘\n",
              "« c: 3/════════════════════\n",
              "«                          "
            ],
            "text/html": [
              "<pre style=\"word-wrap: normal;white-space: pre;background: #fff0;line-height: 1.1;font-family: &quot;Courier New&quot;,Courier,monospace\">      ┌───┐ ░                                ░                               »\n",
              " q_0: ┤ X ├─░───■────────────────────────────░───────────────────────────────»\n",
              "      └───┘ ░   │                            ░                               »\n",
              " q_1: ──────░───┼────■───────────────────────░───────────────────────────────»\n",
              "            ░   │    │                       ░                               »\n",
              " q_2: ──────░───┼────┼────■──────────────────░───────────────────────────────»\n",
              "            ░   │    │    │                  ░                               »\n",
              " q_3: ──────░───┼────┼────┼────■─────────────░───────────────────────────────»\n",
              "      ┌───┐ ░   │    │    │    │             ░                               »\n",
              " q_4: ┤ X ├─░───┼────┼────┼────┼────■────────░───────────────────────────────»\n",
              "      ├───┤ ░   │    │    │    │    │        ░                               »\n",
              " q_5: ┤ X ├─░───┼────┼────┼────┼────┼────■───░───────────────────────────────»\n",
              "      ├───┤ ░ ┌─┴─┐  │    │    │    │    │   ░                               »\n",
              " q_6: ┤ X ├─░─┤ X ├──┼────┼────┼────┼────┼───░───■───────────────────■───────»\n",
              "      ├───┤ ░ └───┘┌─┴─┐  │    │    │    │   ░   │                   │       »\n",
              " q_7: ┤ X ├─░──────┤ X ├──┼────┼────┼────┼───░───■────■──────────────┼────■──»\n",
              "      ├───┤ ░      └───┘┌─┴─┐  │    │    │   ░ ┌─┴─┐  │              │    │  »\n",
              " q_8: ┤ X ├─░───────────┤ X ├──┼────┼────┼───░─┤ X ├──■────■─────────■────┼──»\n",
              "      ├───┤ ░           └───┘┌─┴─┐  │    │   ░ └───┘┌─┴─┐  │       ┌─┴─┐  │  »\n",
              " q_9: ┤ X ├─░────────────────┤ X ├──┼────┼───░──────┤ X ├──■────■──┤ X ├──■──»\n",
              "      ├───┤ ░                └───┘┌─┴─┐  │   ░      └───┘┌─┴─┐  │  └───┘┌─┴─┐»\n",
              "q_10: ┤ X ├─░─────────────────────┤ X ├──┼───░───────────┤ X ├──■───────┤ X ├»\n",
              "      ├───┤ ░                     └───┘┌─┴─┐ ░           └───┘┌─┴─┐     └───┘»\n",
              "q_11: ┤ X ├─░──────────────────────────┤ X ├─░────────────────┤ X ├──────────»\n",
              "      └───┘ ░                          └───┘ ░                └───┘          »\n",
              " c: 3/═══════════════════════════════════════════════════════════════════════»\n",
              "                                                                             »\n",
              "«                          \n",
              "« q_0: ────────────────────\n",
              "«                          \n",
              "« q_1: ────────────────────\n",
              "«                          \n",
              "« q_2: ────────────────────\n",
              "«                          \n",
              "« q_3: ────────────────────\n",
              "«                          \n",
              "« q_4: ────────────────────\n",
              "«                          \n",
              "« q_5: ────────────────────\n",
              "«                          \n",
              "« q_6: ───────■─────────■──\n",
              "«             │         │  \n",
              "« q_7: ───────┼────■────┼──\n",
              "«             │    │    │  \n",
              "« q_8: ──■────┼────┼────┼──\n",
              "«        │    │    │    │  \n",
              "« q_9: ──┼────■────┼────┼──\n",
              "«        │  ┌─┴─┐  │    │  \n",
              "«q_10: ──■──┤ X ├──■────■──\n",
              "«      ┌─┴─┐└───┘┌─┴─┐┌─┴─┐\n",
              "«q_11: ┤ X ├─────┤ X ├┤ X ├\n",
              "«      └───┘     └───┘└───┘\n",
              "« c: 3/════════════════════\n",
              "«                          </pre>"
            ]
          },
          "metadata": {},
          "execution_count": 219
        }
      ]
    },
    {
      "cell_type": "code",
      "source": [
        "# Measuring\n",
        "qc.barrier()\n",
        "for i in range(classical_regs):\n",
        "   qc.measure(n+i, i) # The first three bits in the b string would give the binary number associated with the count of 1's\n",
        "qc.draw()"
      ],
      "metadata": {
        "colab": {
          "base_uri": "https://localhost:8080/",
          "height": 848
        },
        "id": "XI1_8mmX8rGr",
        "outputId": "b9ac99fc-9ed2-4cca-9c57-4f3fa251c191"
      },
      "execution_count": null,
      "outputs": [
        {
          "output_type": "execute_result",
          "data": {
            "text/plain": [
              "      ┌───┐ ░                                ░                               »\n",
              " q_0: ┤ X ├─░───■────────────────────────────░───────────────────────────────»\n",
              "      └───┘ ░   │                            ░                               »\n",
              " q_1: ──────░───┼────■───────────────────────░───────────────────────────────»\n",
              "            ░   │    │                       ░                               »\n",
              " q_2: ──────░───┼────┼────■──────────────────░───────────────────────────────»\n",
              "            ░   │    │    │                  ░                               »\n",
              " q_3: ──────░───┼────┼────┼────■─────────────░───────────────────────────────»\n",
              "      ┌───┐ ░   │    │    │    │             ░                               »\n",
              " q_4: ┤ X ├─░───┼────┼────┼────┼────■────────░───────────────────────────────»\n",
              "      ├───┤ ░   │    │    │    │    │        ░                               »\n",
              " q_5: ┤ X ├─░───┼────┼────┼────┼────┼────■───░───────────────────────────────»\n",
              "      ├───┤ ░ ┌─┴─┐  │    │    │    │    │   ░                               »\n",
              " q_6: ┤ X ├─░─┤ X ├──┼────┼────┼────┼────┼───░───■───────────────────■───────»\n",
              "      ├───┤ ░ └───┘┌─┴─┐  │    │    │    │   ░   │                   │       »\n",
              " q_7: ┤ X ├─░──────┤ X ├──┼────┼────┼────┼───░───■────■──────────────┼────■──»\n",
              "      ├───┤ ░      └───┘┌─┴─┐  │    │    │   ░ ┌─┴─┐  │              │    │  »\n",
              " q_8: ┤ X ├─░───────────┤ X ├──┼────┼────┼───░─┤ X ├──■────■─────────■────┼──»\n",
              "      ├───┤ ░           └───┘┌─┴─┐  │    │   ░ └───┘┌─┴─┐  │       ┌─┴─┐  │  »\n",
              " q_9: ┤ X ├─░────────────────┤ X ├──┼────┼───░──────┤ X ├──■────■──┤ X ├──■──»\n",
              "      ├───┤ ░                └───┘┌─┴─┐  │   ░      └───┘┌─┴─┐  │  └───┘┌─┴─┐»\n",
              "q_10: ┤ X ├─░─────────────────────┤ X ├──┼───░───────────┤ X ├──■───────┤ X ├»\n",
              "      ├───┤ ░                     └───┘┌─┴─┐ ░           └───┘┌─┴─┐     └───┘»\n",
              "q_11: ┤ X ├─░──────────────────────────┤ X ├─░────────────────┤ X ├──────────»\n",
              "      └───┘ ░                          └───┘ ░                └───┘          »\n",
              " c: 3/═══════════════════════════════════════════════════════════════════════»\n",
              "                                                                             »\n",
              "«                           ░          \n",
              "« q_0: ─────────────────────░──────────\n",
              "«                           ░          \n",
              "« q_1: ─────────────────────░──────────\n",
              "«                           ░          \n",
              "« q_2: ─────────────────────░──────────\n",
              "«                           ░          \n",
              "« q_3: ─────────────────────░──────────\n",
              "«                           ░          \n",
              "« q_4: ─────────────────────░──────────\n",
              "«                           ░          \n",
              "« q_5: ─────────────────────░──────────\n",
              "«                           ░ ┌─┐      \n",
              "« q_6: ───────■─────────■───░─┤M├──────\n",
              "«             │         │   ░ └╥┘┌─┐   \n",
              "« q_7: ───────┼────■────┼───░──╫─┤M├───\n",
              "«             │    │    │   ░  ║ └╥┘┌─┐\n",
              "« q_8: ──■────┼────┼────┼───░──╫──╫─┤M├\n",
              "«        │    │    │    │   ░  ║  ║ └╥┘\n",
              "« q_9: ──┼────■────┼────┼───░──╫──╫──╫─\n",
              "«        │  ┌─┴─┐  │    │   ░  ║  ║  ║ \n",
              "«q_10: ──■──┤ X ├──■────■───░──╫──╫──╫─\n",
              "«      ┌─┴─┐└───┘┌─┴─┐┌─┴─┐ ░  ║  ║  ║ \n",
              "«q_11: ┤ X ├─────┤ X ├┤ X ├─░──╫──╫──╫─\n",
              "«      └───┘     └───┘└───┘ ░  ║  ║  ║ \n",
              "« c: 3/════════════════════════╩══╩══╩═\n",
              "«                              0  1  2 "
            ],
            "text/html": [
              "<pre style=\"word-wrap: normal;white-space: pre;background: #fff0;line-height: 1.1;font-family: &quot;Courier New&quot;,Courier,monospace\">      ┌───┐ ░                                ░                               »\n",
              " q_0: ┤ X ├─░───■────────────────────────────░───────────────────────────────»\n",
              "      └───┘ ░   │                            ░                               »\n",
              " q_1: ──────░───┼────■───────────────────────░───────────────────────────────»\n",
              "            ░   │    │                       ░                               »\n",
              " q_2: ──────░───┼────┼────■──────────────────░───────────────────────────────»\n",
              "            ░   │    │    │                  ░                               »\n",
              " q_3: ──────░───┼────┼────┼────■─────────────░───────────────────────────────»\n",
              "      ┌───┐ ░   │    │    │    │             ░                               »\n",
              " q_4: ┤ X ├─░───┼────┼────┼────┼────■────────░───────────────────────────────»\n",
              "      ├───┤ ░   │    │    │    │    │        ░                               »\n",
              " q_5: ┤ X ├─░───┼────┼────┼────┼────┼────■───░───────────────────────────────»\n",
              "      ├───┤ ░ ┌─┴─┐  │    │    │    │    │   ░                               »\n",
              " q_6: ┤ X ├─░─┤ X ├──┼────┼────┼────┼────┼───░───■───────────────────■───────»\n",
              "      ├───┤ ░ └───┘┌─┴─┐  │    │    │    │   ░   │                   │       »\n",
              " q_7: ┤ X ├─░──────┤ X ├──┼────┼────┼────┼───░───■────■──────────────┼────■──»\n",
              "      ├───┤ ░      └───┘┌─┴─┐  │    │    │   ░ ┌─┴─┐  │              │    │  »\n",
              " q_8: ┤ X ├─░───────────┤ X ├──┼────┼────┼───░─┤ X ├──■────■─────────■────┼──»\n",
              "      ├───┤ ░           └───┘┌─┴─┐  │    │   ░ └───┘┌─┴─┐  │       ┌─┴─┐  │  »\n",
              " q_9: ┤ X ├─░────────────────┤ X ├──┼────┼───░──────┤ X ├──■────■──┤ X ├──■──»\n",
              "      ├───┤ ░                └───┘┌─┴─┐  │   ░      └───┘┌─┴─┐  │  └───┘┌─┴─┐»\n",
              "q_10: ┤ X ├─░─────────────────────┤ X ├──┼───░───────────┤ X ├──■───────┤ X ├»\n",
              "      ├───┤ ░                     └───┘┌─┴─┐ ░           └───┘┌─┴─┐     └───┘»\n",
              "q_11: ┤ X ├─░──────────────────────────┤ X ├─░────────────────┤ X ├──────────»\n",
              "      └───┘ ░                          └───┘ ░                └───┘          »\n",
              " c: 3/═══════════════════════════════════════════════════════════════════════»\n",
              "                                                                             »\n",
              "«                           ░          \n",
              "« q_0: ─────────────────────░──────────\n",
              "«                           ░          \n",
              "« q_1: ─────────────────────░──────────\n",
              "«                           ░          \n",
              "« q_2: ─────────────────────░──────────\n",
              "«                           ░          \n",
              "« q_3: ─────────────────────░──────────\n",
              "«                           ░          \n",
              "« q_4: ─────────────────────░──────────\n",
              "«                           ░          \n",
              "« q_5: ─────────────────────░──────────\n",
              "«                           ░ ┌─┐      \n",
              "« q_6: ───────■─────────■───░─┤M├──────\n",
              "«             │         │   ░ └╥┘┌─┐   \n",
              "« q_7: ───────┼────■────┼───░──╫─┤M├───\n",
              "«             │    │    │   ░  ║ └╥┘┌─┐\n",
              "« q_8: ──■────┼────┼────┼───░──╫──╫─┤M├\n",
              "«        │    │    │    │   ░  ║  ║ └╥┘\n",
              "« q_9: ──┼────■────┼────┼───░──╫──╫──╫─\n",
              "«        │  ┌─┴─┐  │    │   ░  ║  ║  ║ \n",
              "«q_10: ──■──┤ X ├──■────■───░──╫──╫──╫─\n",
              "«      ┌─┴─┐└───┘┌─┴─┐┌─┴─┐ ░  ║  ║  ║ \n",
              "«q_11: ┤ X ├─────┤ X ├┤ X ├─░──╫──╫──╫─\n",
              "«      └───┘     └───┘└───┘ ░  ║  ║  ║ \n",
              "« c: 3/════════════════════════╩══╩══╩═\n",
              "«                              0  1  2 </pre>"
            ]
          },
          "metadata": {},
          "execution_count": 220
        }
      ]
    },
    {
      "cell_type": "code",
      "source": [
        "simulator = Aer.get_backend('qasm_simulator')\n",
        "result = execute(qc, simulator, shots=1024).result()\n",
        "counts = result.get_counts(qc)\n",
        "plot_histogram(counts)"
      ],
      "metadata": {
        "colab": {
          "base_uri": "https://localhost:8080/",
          "height": 472
        },
        "id": "LAXR9kGs-2MS",
        "outputId": "5cc61234-10e6-4929-e27f-859e28609b40"
      },
      "execution_count": null,
      "outputs": [
        {
          "output_type": "execute_result",
          "data": {
            "text/plain": [
              "<Figure size 700x500 with 1 Axes>"
            ],
            "image/png": "[encoded data removed]"
          },
          "metadata": {},
          "execution_count": 221
        }
      ]
    },
    {
      "cell_type": "code",
      "source": [
        "# Convert the binary result to decimal\n",
        "count_binary_reversed = list(counts.keys()) # The following lines of code is to reverse the key in the counts dictionary\n",
        "count_binary_reversed = count_binary_reversed[0]\n",
        "count_binary = count_binary_reversed[::-1]\n",
        "del counts[count_binary_reversed]\n",
        "counts[count_binary] = 1024\n",
        "\n",
        "d = int(list(counts.keys())[0],2) # 4 * 0 + 2 * 1 + 1 * 1 = 3\n",
        "print(\"Difference, d:\", d)"
      ],
      "metadata": {
        "colab": {
          "base_uri": "https://localhost:8080/"
        },
        "id": "lDk7bMbiFQv1",
        "outputId": "7fef6a8b-b234-4356-9bcf-40e66fbf381e"
      },
      "execution_count": null,
      "outputs": [
        {
          "output_type": "stream",
          "name": "stdout",
          "text": [
            "Difference, d: 3\n"
          ]
        }
      ]
    },
    {
      "cell_type": "markdown",
      "source": [
        "## The End"
      ],
      "metadata": {
        "id": "dwDB0ZH-B575"
      }
    }
  ]
}