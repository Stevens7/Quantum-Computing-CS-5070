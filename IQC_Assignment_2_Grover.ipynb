{
  "nbformat": 4,
  "nbformat_minor": 0,
  "metadata": {
    "colab": {
      "provenance": []
    },
    "kernelspec": {
      "name": "python3",
      "display_name": "Python 3"
    },
    "language_info": {
      "name": "python"
    }
  },
  "cells": [
    {
      "cell_type": "code",
      "execution_count": null,
      "metadata": {
        "colab": {
          "base_uri": "https://localhost:8080/"
        },
        "id": "EyWYJe5fXg79",
        "outputId": "3920addf-4feb-472d-91f6-0ec3c3dad1b8"
      },
      "outputs": [
        {
          "output_type": "stream",
          "name": "stdout",
          "text": [
            "Looking in indexes: https://pypi.org/simple, https://us-python.pkg.dev/colab-wheels/public/simple/\n",
            "Collecting qiskit\n",
            "  Downloading qiskit-0.42.1.tar.gz (14 kB)\n",
            "  Preparing metadata (setup.py) ... \u001b[?25l\u001b[?25hdone\n",
            "Collecting qiskit-terra==0.23.3\n",
            "  Downloading qiskit_terra-0.23.3-cp39-cp39-manylinux_2_17_x86_64.manylinux2014_x86_64.whl (5.1 MB)\n",
            "\u001b[2K     \u001b[90m━━━━━━━━━━━━━━━━━━━━━━━━━━━━━━━━━━━━━━━━\u001b[0m \u001b[32m5.1/5.1 MB\u001b[0m \u001b[31m23.1 MB/s\u001b[0m eta \u001b[36m0:00:00\u001b[0m\n",
            "\u001b[?25hCollecting qiskit-aer==0.12.0\n",
            "  Downloading qiskit_aer-0.12.0-cp39-cp39-manylinux_2_17_x86_64.manylinux2014_x86_64.whl (12.8 MB)\n",
            "\u001b[2K     \u001b[90m━━━━━━━━━━━━━━━━━━━━━━━━━━━━━━━━━━━━━━━━\u001b[0m \u001b[32m12.8/12.8 MB\u001b[0m \u001b[31m42.8 MB/s\u001b[0m eta \u001b[36m0:00:00\u001b[0m\n",
            "\u001b[?25hCollecting qiskit-ibmq-provider==0.20.2\n",
            "  Downloading qiskit_ibmq_provider-0.20.2-py3-none-any.whl (241 kB)\n",
            "\u001b[2K     \u001b[90m━━━━━━━━━━━━━━━━━━━━━━━━━━━━━━━━━━━━━━━\u001b[0m \u001b[32m241.5/241.5 kB\u001b[0m \u001b[31m6.1 MB/s\u001b[0m eta \u001b[36m0:00:00\u001b[0m\n",
            "\u001b[?25hRequirement already satisfied: scipy>=1.0 in /usr/local/lib/python3.9/dist-packages (from qiskit-aer==0.12.0->qiskit) (1.10.1)\n",
            "Requirement already satisfied: numpy>=1.16.3 in /usr/local/lib/python3.9/dist-packages (from qiskit-aer==0.12.0->qiskit) (1.22.4)\n",
            "Requirement already satisfied: python-dateutil>=2.8.0 in /usr/local/lib/python3.9/dist-packages (from qiskit-ibmq-provider==0.20.2->qiskit) (2.8.2)\n",
            "Requirement already satisfied: urllib3>=1.21.1 in /usr/local/lib/python3.9/dist-packages (from qiskit-ibmq-provider==0.20.2->qiskit) (1.26.15)\n",
            "Collecting websockets>=10.0\n",
            "  Downloading websockets-11.0.2-cp39-cp39-manylinux_2_5_x86_64.manylinux1_x86_64.manylinux_2_17_x86_64.manylinux2014_x86_64.whl (129 kB)\n",
            "\u001b[2K     \u001b[90m━━━━━━━━━━━━━━━━━━━━━━━━━━━━━━━━━━━━━━━\u001b[0m \u001b[32m129.7/129.7 kB\u001b[0m \u001b[31m3.4 MB/s\u001b[0m eta \u001b[36m0:00:00\u001b[0m\n",
            "\u001b[?25hCollecting requests-ntlm<=1.1.0\n",
            "  Downloading requests_ntlm-1.1.0-py2.py3-none-any.whl (5.7 kB)\n",
            "Requirement already satisfied: websocket-client>=1.5.1 in /usr/local/lib/python3.9/dist-packages (from qiskit-ibmq-provider==0.20.2->qiskit) (1.5.1)\n",
            "Requirement already satisfied: requests>=2.19 in /usr/local/lib/python3.9/dist-packages (from qiskit-ibmq-provider==0.20.2->qiskit) (2.27.1)\n",
            "Collecting stevedore>=3.0.0\n",
            "  Downloading stevedore-5.0.0-py3-none-any.whl (49 kB)\n",
            "\u001b[2K     \u001b[90m━━━━━━━━━━━━━━━━━━━━━━━━━━━━━━━━━━━━━━━━\u001b[0m \u001b[32m49.6/49.6 kB\u001b[0m \u001b[31m1.6 MB/s\u001b[0m eta \u001b[36m0:00:00\u001b[0m\n",
            "\u001b[?25hRequirement already satisfied: sympy>=1.3 in /usr/local/lib/python3.9/dist-packages (from qiskit-terra==0.23.3->qiskit) (1.11.1)\n",
            "Collecting ply>=3.10\n",
            "  Downloading ply-3.11-py2.py3-none-any.whl (49 kB)\n",
            "\u001b[2K     \u001b[90m━━━━━━━━━━━━━━━━━━━━━━━━━━━━━━━━━━━━━━━━\u001b[0m \u001b[32m49.6/49.6 kB\u001b[0m \u001b[31m3.2 MB/s\u001b[0m eta \u001b[36m0:00:00\u001b[0m\n",
            "\u001b[?25hCollecting dill>=0.3\n",
            "  Downloading dill-0.3.6-py3-none-any.whl (110 kB)\n",
            "\u001b[2K     \u001b[90m━━━━━━━━━━━━━━━━━━━━━━━━━━━━━━━━━━━━━━━\u001b[0m \u001b[32m110.5/110.5 kB\u001b[0m \u001b[31m7.3 MB/s\u001b[0m eta \u001b[36m0:00:00\u001b[0m\n",
            "\u001b[?25hCollecting symengine>=0.9\n",
            "  Downloading symengine-0.10.0-cp39-cp39-manylinux_2_12_x86_64.manylinux2010_x86_64.whl (37.5 MB)\n",
            "\u001b[2K     \u001b[90m━━━━━━━━━━━━━━━━━━━━━━━━━━━━━━━━━━━━━━━━\u001b[0m \u001b[32m37.5/37.5 MB\u001b[0m \u001b[31m18.9 MB/s\u001b[0m eta \u001b[36m0:00:00\u001b[0m\n",
            "\u001b[?25hRequirement already satisfied: psutil>=5 in /usr/local/lib/python3.9/dist-packages (from qiskit-terra==0.23.3->qiskit) (5.9.5)\n",
            "Collecting rustworkx>=0.12.0\n",
            "  Downloading rustworkx-0.12.1-cp39-cp39-manylinux_2_17_x86_64.manylinux2014_x86_64.whl (1.9 MB)\n",
            "\u001b[2K     \u001b[90m━━━━━━━━━━━━━━━━━━━━━━━━━━━━━━━━━━━━━━━━\u001b[0m \u001b[32m1.9/1.9 MB\u001b[0m \u001b[31m22.6 MB/s\u001b[0m eta \u001b[36m0:00:00\u001b[0m\n",
            "\u001b[?25hRequirement already satisfied: six>=1.5 in /usr/local/lib/python3.9/dist-packages (from python-dateutil>=2.8.0->qiskit-ibmq-provider==0.20.2->qiskit) (1.16.0)\n",
            "Requirement already satisfied: charset-normalizer~=2.0.0 in /usr/local/lib/python3.9/dist-packages (from requests>=2.19->qiskit-ibmq-provider==0.20.2->qiskit) (2.0.12)\n",
            "Requirement already satisfied: certifi>=2017.4.17 in /usr/local/lib/python3.9/dist-packages (from requests>=2.19->qiskit-ibmq-provider==0.20.2->qiskit) (2022.12.7)\n",
            "Requirement already satisfied: idna<4,>=2.5 in /usr/local/lib/python3.9/dist-packages (from requests>=2.19->qiskit-ibmq-provider==0.20.2->qiskit) (3.4)\n",
            "Collecting ntlm-auth>=1.0.2\n",
            "  Downloading ntlm_auth-1.5.0-py2.py3-none-any.whl (29 kB)\n",
            "Requirement already satisfied: cryptography>=1.3 in /usr/local/lib/python3.9/dist-packages (from requests-ntlm<=1.1.0->qiskit-ibmq-provider==0.20.2->qiskit) (40.0.2)\n",
            "Collecting pbr!=2.1.0,>=2.0.0\n",
            "  Downloading pbr-5.11.1-py2.py3-none-any.whl (112 kB)\n",
            "\u001b[2K     \u001b[90m━━━━━━━━━━━━━━━━━━━━━━━━━━━━━━━━━━━━━━━\u001b[0m \u001b[32m112.7/112.7 kB\u001b[0m \u001b[31m6.6 MB/s\u001b[0m eta \u001b[36m0:00:00\u001b[0m\n",
            "\u001b[?25hRequirement already satisfied: mpmath>=0.19 in /usr/local/lib/python3.9/dist-packages (from sympy>=1.3->qiskit-terra==0.23.3->qiskit) (1.3.0)\n",
            "Requirement already satisfied: cffi>=1.12 in /usr/local/lib/python3.9/dist-packages (from cryptography>=1.3->requests-ntlm<=1.1.0->qiskit-ibmq-provider==0.20.2->qiskit) (1.15.1)\n",
            "Requirement already satisfied: pycparser in /usr/local/lib/python3.9/dist-packages (from cffi>=1.12->cryptography>=1.3->requests-ntlm<=1.1.0->qiskit-ibmq-provider==0.20.2->qiskit) (2.21)\n",
            "Building wheels for collected packages: qiskit\n",
            "  Building wheel for qiskit (setup.py) ... \u001b[?25l\u001b[?25hdone\n",
            "  Created wheel for qiskit: filename=qiskit-0.42.1-py3-none-any.whl size=12938 sha256=5e7a07213742e7eccec3d3d37d709b0dcdad17fb49cdecb3c41aff065d06e89a\n",
            "  Stored in directory: /root/.cache/pip/wheels/40/64/74/29c046bda04fd60f3f6b2e244fa85b70f219e363fc3373f541\n",
            "Successfully built qiskit\n",
            "Installing collected packages: ply, websockets, symengine, rustworkx, pbr, ntlm-auth, dill, stevedore, requests-ntlm, qiskit-terra, qiskit-ibmq-provider, qiskit-aer, qiskit\n",
            "Successfully installed dill-0.3.6 ntlm-auth-1.5.0 pbr-5.11.1 ply-3.11 qiskit-0.42.1 qiskit-aer-0.12.0 qiskit-ibmq-provider-0.20.2 qiskit-terra-0.23.3 requests-ntlm-1.1.0 rustworkx-0.12.1 stevedore-5.0.0 symengine-0.10.0 websockets-11.0.2\n"
          ]
        }
      ],
      "source": [
        "!pip install qiskit\n",
        "\n",
        "import math\n",
        "\n",
        "from qiskit import QuantumCircuit, transpile, Aer, IBMQ\n",
        "from qiskit.circuit import AncillaQubit\n",
        "from qiskit.providers.aer import QasmSimulator\n",
        "from qiskit.visualization import plot_histogram\n",
        "from qiskit import execute\n",
        "from qiskit.circuit.library import MCMT\n",
        "\n",
        "#!pip install Qconfig\n",
        "#import Qconfig\n",
        "#from IBMQuantumExperience import IBMQuantumExperience\n",
        "#api = IBMQ(Qconfig.APItoken,\n",
        "#{'url':Qconfig.config[\"url\"]})\n",
        "#from qiskit.backends import discover_remote_backends"
      ]
    },
    {
      "cell_type": "code",
      "source": [
        "qc = QuantumCircuit(4,4)\n",
        "\n",
        "\n",
        "n=4\n",
        "c4z = MCMT('cz',n-1,1)\n",
        "\n",
        "# Initialization\n",
        "qc.h(0)\n",
        "qc.h(1)\n",
        "qc.h(2)\n",
        "qc.h(3)\n",
        "\n",
        "qc.draw()"
      ],
      "metadata": {
        "colab": {
          "base_uri": "https://localhost:8080/",
          "height": 186
        },
        "id": "7qwEb5RKLudd",
        "outputId": "4f65b6fb-3859-4973-85f1-dacf1805a9c9"
      },
      "execution_count": null,
      "outputs": [
        {
          "output_type": "execute_result",
          "data": {
            "text/plain": [
              "     ┌───┐\n",
              "q_0: ┤ H ├\n",
              "     ├───┤\n",
              "q_1: ┤ H ├\n",
              "     ├───┤\n",
              "q_2: ┤ H ├\n",
              "     ├───┤\n",
              "q_3: ┤ H ├\n",
              "     └───┘\n",
              "c: 4/═════\n",
              "          "
            ],
            "text/html": [
              "<pre style=\"word-wrap: normal;white-space: pre;background: #fff0;line-height: 1.1;font-family: &quot;Courier New&quot;,Courier,monospace\">     ┌───┐\n",
              "q_0: ┤ H ├\n",
              "     ├───┤\n",
              "q_1: ┤ H ├\n",
              "     ├───┤\n",
              "q_2: ┤ H ├\n",
              "     ├───┤\n",
              "q_3: ┤ H ├\n",
              "     └───┘\n",
              "c: 4/═════\n",
              "          </pre>"
            ]
          },
          "metadata": {},
          "execution_count": 15
        }
      ]
    },
    {
      "cell_type": "code",
      "source": [
        "# CCCZ gate: Multi-controlled Z gate.\n",
        "n=4\n",
        "c4z = MCMT('cz',n-1,1)\n",
        "c4z.draw()"
      ],
      "metadata": {
        "colab": {
          "base_uri": "https://localhost:8080/",
          "height": 156
        },
        "id": "DyAezHa-qQOo",
        "outputId": "1bb3d4fa-2027-49bc-d59b-236f66249fb7"
      },
      "execution_count": null,
      "outputs": [
        {
          "output_type": "execute_result",
          "data": {
            "text/plain": [
              "        \n",
              "q_0: ─■─\n",
              "      │ \n",
              "q_1: ─■─\n",
              "      │ \n",
              "q_2: ─■─\n",
              "      │ \n",
              "q_3: ─■─\n",
              "        "
            ],
            "text/html": [
              "<pre style=\"word-wrap: normal;white-space: pre;background: #fff0;line-height: 1.1;font-family: &quot;Courier New&quot;,Courier,monospace\">        \n",
              "q_0: ─■─\n",
              "      │ \n",
              "q_1: ─■─\n",
              "      │ \n",
              "q_2: ─■─\n",
              "      │ \n",
              "q_3: ─■─\n",
              "        </pre>"
            ]
          },
          "metadata": {},
          "execution_count": 16
        }
      ]
    },
    {
      "cell_type": "code",
      "source": [
        "# Oracle for 0010\n",
        "qc.x(0)\n",
        "qc.x(2)\n",
        "qc.x(3)\n",
        "\n",
        "\n",
        "qc.compose(c4z,qubits=[0,1,2,3],inplace=True)\n",
        "\n",
        "qc.x(0)\n",
        "qc.x(2)\n",
        "qc.x(3)\n",
        "\n",
        "qc.draw()"
      ],
      "metadata": {
        "id": "bCRWwNyLWUp6",
        "colab": {
          "base_uri": "https://localhost:8080/",
          "height": 186
        },
        "outputId": "4e02c52f-1dcd-431b-d1f2-afd51efc15aa"
      },
      "execution_count": null,
      "outputs": [
        {
          "output_type": "execute_result",
          "data": {
            "text/plain": [
              "     ┌───┐┌───┐   ┌───┐\n",
              "q_0: ┤ H ├┤ X ├─■─┤ X ├\n",
              "     ├───┤└───┘ │ └───┘\n",
              "q_1: ┤ H ├──────■──────\n",
              "     ├───┤┌───┐ │ ┌───┐\n",
              "q_2: ┤ H ├┤ X ├─■─┤ X ├\n",
              "     ├───┤├───┤ │ ├───┤\n",
              "q_3: ┤ H ├┤ X ├─■─┤ X ├\n",
              "     └───┘└───┘   └───┘\n",
              "c: 4/══════════════════\n",
              "                       "
            ],
            "text/html": [
              "<pre style=\"word-wrap: normal;white-space: pre;background: #fff0;line-height: 1.1;font-family: &quot;Courier New&quot;,Courier,monospace\">     ┌───┐┌───┐   ┌───┐\n",
              "q_0: ┤ H ├┤ X ├─■─┤ X ├\n",
              "     ├───┤└───┘ │ └───┘\n",
              "q_1: ┤ H ├──────■──────\n",
              "     ├───┤┌───┐ │ ┌───┐\n",
              "q_2: ┤ H ├┤ X ├─■─┤ X ├\n",
              "     ├───┤├───┤ │ ├───┤\n",
              "q_3: ┤ H ├┤ X ├─■─┤ X ├\n",
              "     └───┘└───┘   └───┘\n",
              "c: 4/══════════════════\n",
              "                       </pre>"
            ]
          },
          "metadata": {},
          "execution_count": 236
        }
      ]
    },
    {
      "cell_type": "code",
      "source": [
        "# Oracle for 0000\n",
        "qc.x(0)\n",
        "qc.x(1)\n",
        "qc.x(2)\n",
        "qc.x(3)\n",
        "\n",
        "qc.compose(c4z,qubits=[0,1,2,3],inplace=True)\n",
        "\n",
        "qc.x(0)\n",
        "qc.x(1)\n",
        "qc.x(2)\n",
        "qc.x(3)\n",
        "\n",
        "qc.draw()"
      ],
      "metadata": {
        "id": "ydmZx67marB2",
        "colab": {
          "base_uri": "https://localhost:8080/",
          "height": 186
        },
        "outputId": "673b3292-bafb-4885-fba6-cefeadf01aab"
      },
      "execution_count": null,
      "outputs": [
        {
          "output_type": "execute_result",
          "data": {
            "text/plain": [
              "     ┌───┐┌───┐   ┌───┐\n",
              "q_0: ┤ H ├┤ X ├─■─┤ X ├\n",
              "     ├───┤├───┤ │ ├───┤\n",
              "q_1: ┤ H ├┤ X ├─■─┤ X ├\n",
              "     ├───┤├───┤ │ ├───┤\n",
              "q_2: ┤ H ├┤ X ├─■─┤ X ├\n",
              "     ├───┤├───┤ │ ├───┤\n",
              "q_3: ┤ H ├┤ X ├─■─┤ X ├\n",
              "     └───┘└───┘   └───┘\n",
              "c: 4/══════════════════\n",
              "                       "
            ],
            "text/html": [
              "<pre style=\"word-wrap: normal;white-space: pre;background: #fff0;line-height: 1.1;font-family: &quot;Courier New&quot;,Courier,monospace\">     ┌───┐┌───┐   ┌───┐\n",
              "q_0: ┤ H ├┤ X ├─■─┤ X ├\n",
              "     ├───┤├───┤ │ ├───┤\n",
              "q_1: ┤ H ├┤ X ├─■─┤ X ├\n",
              "     ├───┤├───┤ │ ├───┤\n",
              "q_2: ┤ H ├┤ X ├─■─┤ X ├\n",
              "     ├───┤├───┤ │ ├───┤\n",
              "q_3: ┤ H ├┤ X ├─■─┤ X ├\n",
              "     └───┘└───┘   └───┘\n",
              "c: 4/══════════════════\n",
              "                       </pre>"
            ]
          },
          "metadata": {},
          "execution_count": 239
        }
      ]
    },
    {
      "cell_type": "code",
      "source": [
        "# Oracle for 0001\n",
        "qc.x(1)\n",
        "qc.x(2)\n",
        "qc.x(3)\n",
        "\n",
        "qc.compose(c4z,qubits=[0,1,2,3],inplace=True)\n",
        "\n",
        "qc.x(1)\n",
        "qc.x(2)\n",
        "qc.x(3)\n",
        "\n",
        "qc.draw()"
      ],
      "metadata": {
        "id": "BW5OijFrbCht",
        "colab": {
          "base_uri": "https://localhost:8080/",
          "height": 186
        },
        "outputId": "58037254-7069-41e0-8afe-bb96833fbbee"
      },
      "execution_count": null,
      "outputs": [
        {
          "output_type": "execute_result",
          "data": {
            "text/plain": [
              "     ┌───┐             \n",
              "q_0: ┤ H ├──────■──────\n",
              "     ├───┤┌───┐ │ ┌───┐\n",
              "q_1: ┤ H ├┤ X ├─■─┤ X ├\n",
              "     ├───┤├───┤ │ ├───┤\n",
              "q_2: ┤ H ├┤ X ├─■─┤ X ├\n",
              "     ├───┤├───┤ │ ├───┤\n",
              "q_3: ┤ H ├┤ X ├─■─┤ X ├\n",
              "     └───┘└───┘   └───┘\n",
              "c: 4/══════════════════\n",
              "                       "
            ],
            "text/html": [
              "<pre style=\"word-wrap: normal;white-space: pre;background: #fff0;line-height: 1.1;font-family: &quot;Courier New&quot;,Courier,monospace\">     ┌───┐             \n",
              "q_0: ┤ H ├──────■──────\n",
              "     ├───┤┌───┐ │ ┌───┐\n",
              "q_1: ┤ H ├┤ X ├─■─┤ X ├\n",
              "     ├───┤├───┤ │ ├───┤\n",
              "q_2: ┤ H ├┤ X ├─■─┤ X ├\n",
              "     ├───┤├───┤ │ ├───┤\n",
              "q_3: ┤ H ├┤ X ├─■─┤ X ├\n",
              "     └───┘└───┘   └───┘\n",
              "c: 4/══════════════════\n",
              "                       </pre>"
            ]
          },
          "metadata": {},
          "execution_count": 177
        }
      ]
    },
    {
      "cell_type": "code",
      "source": [
        "# Oracle for 0011\n",
        "qc.x(2)\n",
        "qc.x(3)\n",
        "\n",
        "qc.compose(c4z,qubits=[0,1,2,3],inplace=True)\n",
        "\n",
        "qc.x(2)\n",
        "qc.x(3)\n",
        "\n",
        "qc.draw()"
      ],
      "metadata": {
        "id": "cpivh_ffbCwj",
        "colab": {
          "base_uri": "https://localhost:8080/",
          "height": 186
        },
        "outputId": "ed23aefc-5d96-4dd1-af01-7486a316ca73"
      },
      "execution_count": null,
      "outputs": [
        {
          "output_type": "execute_result",
          "data": {
            "text/plain": [
              "     ┌───┐             \n",
              "q_0: ┤ H ├──────■──────\n",
              "     ├───┤      │      \n",
              "q_1: ┤ H ├──────■──────\n",
              "     ├───┤┌───┐ │ ┌───┐\n",
              "q_2: ┤ H ├┤ X ├─■─┤ X ├\n",
              "     ├───┤├───┤ │ ├───┤\n",
              "q_3: ┤ H ├┤ X ├─■─┤ X ├\n",
              "     └───┘└───┘   └───┘\n",
              "c: 4/══════════════════\n",
              "                       "
            ],
            "text/html": [
              "<pre style=\"word-wrap: normal;white-space: pre;background: #fff0;line-height: 1.1;font-family: &quot;Courier New&quot;,Courier,monospace\">     ┌───┐             \n",
              "q_0: ┤ H ├──────■──────\n",
              "     ├───┤      │      \n",
              "q_1: ┤ H ├──────■──────\n",
              "     ├───┤┌───┐ │ ┌───┐\n",
              "q_2: ┤ H ├┤ X ├─■─┤ X ├\n",
              "     ├───┤├───┤ │ ├───┤\n",
              "q_3: ┤ H ├┤ X ├─■─┤ X ├\n",
              "     └───┘└───┘   └───┘\n",
              "c: 4/══════════════════\n",
              "                       </pre>"
            ]
          },
          "metadata": {},
          "execution_count": 179
        }
      ]
    },
    {
      "cell_type": "code",
      "source": [
        "# Oracle for 0100\n",
        "qc.x(0)\n",
        "qc.x(1)\n",
        "qc.x(3)\n",
        "\n",
        "qc.compose(c4z,qubits=[0,1,2,3],inplace=True)\n",
        "\n",
        "qc.x(0)\n",
        "qc.x(1)\n",
        "qc.x(3)\n",
        "\n",
        "qc.draw()"
      ],
      "metadata": {
        "id": "dxqrTCdybDDF",
        "colab": {
          "base_uri": "https://localhost:8080/",
          "height": 186
        },
        "outputId": "6dc327e4-a61d-4091-ae35-2a9e5dab5d98"
      },
      "execution_count": null,
      "outputs": [
        {
          "output_type": "execute_result",
          "data": {
            "text/plain": [
              "     ┌───┐┌───┐   ┌───┐\n",
              "q_0: ┤ H ├┤ X ├─■─┤ X ├\n",
              "     ├───┤├───┤ │ ├───┤\n",
              "q_1: ┤ H ├┤ X ├─■─┤ X ├\n",
              "     ├───┤└───┘ │ └───┘\n",
              "q_2: ┤ H ├──────■──────\n",
              "     ├───┤┌───┐ │ ┌───┐\n",
              "q_3: ┤ H ├┤ X ├─■─┤ X ├\n",
              "     └───┘└───┘   └───┘\n",
              "c: 4/══════════════════\n",
              "                       "
            ],
            "text/html": [
              "<pre style=\"word-wrap: normal;white-space: pre;background: #fff0;line-height: 1.1;font-family: &quot;Courier New&quot;,Courier,monospace\">     ┌───┐┌───┐   ┌───┐\n",
              "q_0: ┤ H ├┤ X ├─■─┤ X ├\n",
              "     ├───┤├───┤ │ ├───┤\n",
              "q_1: ┤ H ├┤ X ├─■─┤ X ├\n",
              "     ├───┤└───┘ │ └───┘\n",
              "q_2: ┤ H ├──────■──────\n",
              "     ├───┤┌───┐ │ ┌───┐\n",
              "q_3: ┤ H ├┤ X ├─■─┤ X ├\n",
              "     └───┘└───┘   └───┘\n",
              "c: 4/══════════════════\n",
              "                       </pre>"
            ]
          },
          "metadata": {},
          "execution_count": 181
        }
      ]
    },
    {
      "cell_type": "code",
      "source": [
        "# Oracle for 0101\n",
        "qc.x(1)\n",
        "qc.x(3)\n",
        "\n",
        "qc.compose(c4z,qubits=[0,1,2,3],inplace=True)\n",
        "\n",
        "qc.x(1)\n",
        "qc.x(3)\n",
        "\n",
        "qc.draw()"
      ],
      "metadata": {
        "id": "w3IJwju3bDTa",
        "colab": {
          "base_uri": "https://localhost:8080/",
          "height": 186
        },
        "outputId": "fbdda42f-b947-4b38-8644-0bea0fc47d26"
      },
      "execution_count": null,
      "outputs": [
        {
          "output_type": "execute_result",
          "data": {
            "text/plain": [
              "     ┌───┐             \n",
              "q_0: ┤ H ├──────■──────\n",
              "     ├───┤┌───┐ │ ┌───┐\n",
              "q_1: ┤ H ├┤ X ├─■─┤ X ├\n",
              "     ├───┤└───┘ │ └───┘\n",
              "q_2: ┤ H ├──────■──────\n",
              "     ├───┤┌───┐ │ ┌───┐\n",
              "q_3: ┤ H ├┤ X ├─■─┤ X ├\n",
              "     └───┘└───┘   └───┘\n",
              "c: 4/══════════════════\n",
              "                       "
            ],
            "text/html": [
              "<pre style=\"word-wrap: normal;white-space: pre;background: #fff0;line-height: 1.1;font-family: &quot;Courier New&quot;,Courier,monospace\">     ┌───┐             \n",
              "q_0: ┤ H ├──────■──────\n",
              "     ├───┤┌───┐ │ ┌───┐\n",
              "q_1: ┤ H ├┤ X ├─■─┤ X ├\n",
              "     ├───┤└───┘ │ └───┘\n",
              "q_2: ┤ H ├──────■──────\n",
              "     ├───┤┌───┐ │ ┌───┐\n",
              "q_3: ┤ H ├┤ X ├─■─┤ X ├\n",
              "     └───┘└───┘   └───┘\n",
              "c: 4/══════════════════\n",
              "                       </pre>"
            ]
          },
          "metadata": {},
          "execution_count": 183
        }
      ]
    },
    {
      "cell_type": "code",
      "source": [
        "# Oracle for 0110\n",
        "qc.x(0)\n",
        "qc.x(3)\n",
        "\n",
        "qc.compose(c4z,qubits=[0,1,2,3],inplace=True)\n",
        "\n",
        "qc.x(0)\n",
        "qc.x(3)\n",
        "\n",
        "qc.draw()"
      ],
      "metadata": {
        "id": "0xYDGXlWbDeA",
        "colab": {
          "base_uri": "https://localhost:8080/",
          "height": 186
        },
        "outputId": "5a697888-7854-489b-ae29-5b6b518c28b3"
      },
      "execution_count": null,
      "outputs": [
        {
          "output_type": "execute_result",
          "data": {
            "text/plain": [
              "     ┌───┐┌───┐   ┌───┐\n",
              "q_0: ┤ H ├┤ X ├─■─┤ X ├\n",
              "     ├───┤└───┘ │ └───┘\n",
              "q_1: ┤ H ├──────■──────\n",
              "     ├───┤      │      \n",
              "q_2: ┤ H ├──────■──────\n",
              "     ├───┤┌───┐ │ ┌───┐\n",
              "q_3: ┤ H ├┤ X ├─■─┤ X ├\n",
              "     └───┘└───┘   └───┘\n",
              "c: 4/══════════════════\n",
              "                       "
            ],
            "text/html": [
              "<pre style=\"word-wrap: normal;white-space: pre;background: #fff0;line-height: 1.1;font-family: &quot;Courier New&quot;,Courier,monospace\">     ┌───┐┌───┐   ┌───┐\n",
              "q_0: ┤ H ├┤ X ├─■─┤ X ├\n",
              "     ├───┤└───┘ │ └───┘\n",
              "q_1: ┤ H ├──────■──────\n",
              "     ├───┤      │      \n",
              "q_2: ┤ H ├──────■──────\n",
              "     ├───┤┌───┐ │ ┌───┐\n",
              "q_3: ┤ H ├┤ X ├─■─┤ X ├\n",
              "     └───┘└───┘   └───┘\n",
              "c: 4/══════════════════\n",
              "                       </pre>"
            ]
          },
          "metadata": {},
          "execution_count": 185
        }
      ]
    },
    {
      "cell_type": "code",
      "source": [
        "# Oracle for 0111\n",
        "qc.x(3)\n",
        "\n",
        "qc.compose(c4z,qubits=[0,1,2,3],inplace=True)\n",
        "\n",
        "qc.x(3)\n",
        "\n",
        "qc.draw()"
      ],
      "metadata": {
        "id": "3FB040C8bDoq",
        "colab": {
          "base_uri": "https://localhost:8080/",
          "height": 186
        },
        "outputId": "bb0ea48a-aea1-41dd-daa0-fcdb60e41c48"
      },
      "execution_count": null,
      "outputs": [
        {
          "output_type": "execute_result",
          "data": {
            "text/plain": [
              "     ┌───┐             \n",
              "q_0: ┤ H ├──────■──────\n",
              "     ├───┤      │      \n",
              "q_1: ┤ H ├──────■──────\n",
              "     ├───┤      │      \n",
              "q_2: ┤ H ├──────■──────\n",
              "     ├───┤┌───┐ │ ┌───┐\n",
              "q_3: ┤ H ├┤ X ├─■─┤ X ├\n",
              "     └───┘└───┘   └───┘\n",
              "c: 4/══════════════════\n",
              "                       "
            ],
            "text/html": [
              "<pre style=\"word-wrap: normal;white-space: pre;background: #fff0;line-height: 1.1;font-family: &quot;Courier New&quot;,Courier,monospace\">     ┌───┐             \n",
              "q_0: ┤ H ├──────■──────\n",
              "     ├───┤      │      \n",
              "q_1: ┤ H ├──────■──────\n",
              "     ├───┤      │      \n",
              "q_2: ┤ H ├──────■──────\n",
              "     ├───┤┌───┐ │ ┌───┐\n",
              "q_3: ┤ H ├┤ X ├─■─┤ X ├\n",
              "     └───┘└───┘   └───┘\n",
              "c: 4/══════════════════\n",
              "                       </pre>"
            ]
          },
          "metadata": {},
          "execution_count": 187
        }
      ]
    },
    {
      "cell_type": "code",
      "source": [
        "# Oracle for 1000\n",
        "qc.x(0)\n",
        "qc.x(1)\n",
        "qc.x(2)\n",
        "\n",
        "\n",
        "qc.compose(c4z,qubits=[0,1,2,3],inplace=True)\n",
        "\n",
        "qc.x(0)\n",
        "qc.x(1)\n",
        "qc.x(2)\n",
        "\n",
        "qc.draw()"
      ],
      "metadata": {
        "id": "yDcvixsibDxm",
        "colab": {
          "base_uri": "https://localhost:8080/",
          "height": 186
        },
        "outputId": "5ce30b3f-1d22-49a2-ab9e-1bc6b1844c3b"
      },
      "execution_count": null,
      "outputs": [
        {
          "output_type": "execute_result",
          "data": {
            "text/plain": [
              "     ┌───┐┌───┐   ┌───┐\n",
              "q_0: ┤ H ├┤ X ├─■─┤ X ├\n",
              "     ├───┤├───┤ │ ├───┤\n",
              "q_1: ┤ H ├┤ X ├─■─┤ X ├\n",
              "     ├───┤├───┤ │ ├───┤\n",
              "q_2: ┤ H ├┤ X ├─■─┤ X ├\n",
              "     ├───┤└───┘ │ └───┘\n",
              "q_3: ┤ H ├──────■──────\n",
              "     └───┘             \n",
              "c: 4/══════════════════\n",
              "                       "
            ],
            "text/html": [
              "<pre style=\"word-wrap: normal;white-space: pre;background: #fff0;line-height: 1.1;font-family: &quot;Courier New&quot;,Courier,monospace\">     ┌───┐┌───┐   ┌───┐\n",
              "q_0: ┤ H ├┤ X ├─■─┤ X ├\n",
              "     ├───┤├───┤ │ ├───┤\n",
              "q_1: ┤ H ├┤ X ├─■─┤ X ├\n",
              "     ├───┤├───┤ │ ├───┤\n",
              "q_2: ┤ H ├┤ X ├─■─┤ X ├\n",
              "     ├───┤└───┘ │ └───┘\n",
              "q_3: ┤ H ├──────■──────\n",
              "     └───┘             \n",
              "c: 4/══════════════════\n",
              "                       </pre>"
            ]
          },
          "metadata": {},
          "execution_count": 10
        }
      ]
    },
    {
      "cell_type": "code",
      "source": [
        "# Oracle for 1001\n",
        "qc.x(1)\n",
        "qc.x(2)\n",
        "\n",
        "\n",
        "qc.compose(c4z,qubits=[0,1,2,3],inplace=True)\n",
        "\n",
        "qc.x(1)\n",
        "qc.x(2)\n",
        "\n",
        "qc.draw()"
      ],
      "metadata": {
        "id": "slSwUu_2bD7a",
        "colab": {
          "base_uri": "https://localhost:8080/",
          "height": 186
        },
        "outputId": "d539a0fe-e747-4574-f2cb-92936a82ddef"
      },
      "execution_count": null,
      "outputs": [
        {
          "output_type": "execute_result",
          "data": {
            "text/plain": [
              "     ┌───┐             \n",
              "q_0: ┤ H ├──────■──────\n",
              "     ├───┤┌───┐ │ ┌───┐\n",
              "q_1: ┤ H ├┤ X ├─■─┤ X ├\n",
              "     ├───┤├───┤ │ ├───┤\n",
              "q_2: ┤ H ├┤ X ├─■─┤ X ├\n",
              "     ├───┤└───┘ │ └───┘\n",
              "q_3: ┤ H ├──────■──────\n",
              "     └───┘             \n",
              "c: 4/══════════════════\n",
              "                       "
            ],
            "text/html": [
              "<pre style=\"word-wrap: normal;white-space: pre;background: #fff0;line-height: 1.1;font-family: &quot;Courier New&quot;,Courier,monospace\">     ┌───┐             \n",
              "q_0: ┤ H ├──────■──────\n",
              "     ├───┤┌───┐ │ ┌───┐\n",
              "q_1: ┤ H ├┤ X ├─■─┤ X ├\n",
              "     ├───┤├───┤ │ ├───┤\n",
              "q_2: ┤ H ├┤ X ├─■─┤ X ├\n",
              "     ├───┤└───┘ │ └───┘\n",
              "q_3: ┤ H ├──────■──────\n",
              "     └───┘             \n",
              "c: 4/══════════════════\n",
              "                       </pre>"
            ]
          },
          "metadata": {},
          "execution_count": 191
        }
      ]
    },
    {
      "cell_type": "code",
      "source": [
        "# Oracle for 1010\n",
        "qc.x(0)\n",
        "qc.x(2)\n",
        "\n",
        "qc.compose(c4z,qubits=[0,1,2,3],inplace=True)\n",
        "\n",
        "qc.x(0)\n",
        "qc.x(2)\n",
        "\n",
        "qc.draw()"
      ],
      "metadata": {
        "id": "0XSc5EYabEEW",
        "colab": {
          "base_uri": "https://localhost:8080/",
          "height": 186
        },
        "outputId": "ad516f7a-6f47-4d2a-fff1-f7f0473b80ed"
      },
      "execution_count": null,
      "outputs": [
        {
          "output_type": "execute_result",
          "data": {
            "text/plain": [
              "     ┌───┐┌───┐   ┌───┐\n",
              "q_0: ┤ H ├┤ X ├─■─┤ X ├\n",
              "     ├───┤└───┘ │ └───┘\n",
              "q_1: ┤ H ├──────■──────\n",
              "     ├───┤┌───┐ │ ┌───┐\n",
              "q_2: ┤ H ├┤ X ├─■─┤ X ├\n",
              "     ├───┤└───┘ │ └───┘\n",
              "q_3: ┤ H ├──────■──────\n",
              "     └───┘             \n",
              "c: 4/══════════════════\n",
              "                       "
            ],
            "text/html": [
              "<pre style=\"word-wrap: normal;white-space: pre;background: #fff0;line-height: 1.1;font-family: &quot;Courier New&quot;,Courier,monospace\">     ┌───┐┌───┐   ┌───┐\n",
              "q_0: ┤ H ├┤ X ├─■─┤ X ├\n",
              "     ├───┤└───┘ │ └───┘\n",
              "q_1: ┤ H ├──────■──────\n",
              "     ├───┤┌───┐ │ ┌───┐\n",
              "q_2: ┤ H ├┤ X ├─■─┤ X ├\n",
              "     ├───┤└───┘ │ └───┘\n",
              "q_3: ┤ H ├──────■──────\n",
              "     └───┘             \n",
              "c: 4/══════════════════\n",
              "                       </pre>"
            ]
          },
          "metadata": {},
          "execution_count": 193
        }
      ]
    },
    {
      "cell_type": "code",
      "source": [
        "# Oracle for 1011\n",
        "qc.x(3)\n",
        "\n",
        "qc.compose(c4z,qubits=[0,1,2,3],inplace=True)\n",
        "\n",
        "qc.x(3)\n",
        "\n",
        "qc.draw()"
      ],
      "metadata": {
        "id": "uGBLos25bEOb",
        "colab": {
          "base_uri": "https://localhost:8080/",
          "height": 186
        },
        "outputId": "03a7d957-4fcb-4b70-d823-f8dc72215eb7"
      },
      "execution_count": null,
      "outputs": [
        {
          "output_type": "execute_result",
          "data": {
            "text/plain": [
              "     ┌───┐             \n",
              "q_0: ┤ H ├──────■──────\n",
              "     ├───┤      │      \n",
              "q_1: ┤ H ├──────■──────\n",
              "     ├───┤      │      \n",
              "q_2: ┤ H ├──────■──────\n",
              "     ├───┤┌───┐ │ ┌───┐\n",
              "q_3: ┤ H ├┤ X ├─■─┤ X ├\n",
              "     └───┘└───┘   └───┘\n",
              "c: 4/══════════════════\n",
              "                       "
            ],
            "text/html": [
              "<pre style=\"word-wrap: normal;white-space: pre;background: #fff0;line-height: 1.1;font-family: &quot;Courier New&quot;,Courier,monospace\">     ┌───┐             \n",
              "q_0: ┤ H ├──────■──────\n",
              "     ├───┤      │      \n",
              "q_1: ┤ H ├──────■──────\n",
              "     ├───┤      │      \n",
              "q_2: ┤ H ├──────■──────\n",
              "     ├───┤┌───┐ │ ┌───┐\n",
              "q_3: ┤ H ├┤ X ├─■─┤ X ├\n",
              "     └───┘└───┘   └───┘\n",
              "c: 4/══════════════════\n",
              "                       </pre>"
            ]
          },
          "metadata": {},
          "execution_count": 195
        }
      ]
    },
    {
      "cell_type": "code",
      "source": [
        "# Oracle for 1100\n",
        "qc.x(0)\n",
        "qc.x(1)\n",
        "\n",
        "qc.compose(c4z,qubits=[0,1,2,3],inplace=True)\n",
        "\n",
        "qc.x(0)\n",
        "qc.x(1)\n",
        "\n",
        "qc.draw()"
      ],
      "metadata": {
        "id": "ej3xhpBCbEW8",
        "colab": {
          "base_uri": "https://localhost:8080/",
          "height": 186
        },
        "outputId": "6dddc980-ca70-4403-88c5-ab6242c5fa5b"
      },
      "execution_count": null,
      "outputs": [
        {
          "output_type": "execute_result",
          "data": {
            "text/plain": [
              "     ┌───┐┌───┐   ┌───┐\n",
              "q_0: ┤ H ├┤ X ├─■─┤ X ├\n",
              "     ├───┤├───┤ │ ├───┤\n",
              "q_1: ┤ H ├┤ X ├─■─┤ X ├\n",
              "     ├───┤└───┘ │ └───┘\n",
              "q_2: ┤ H ├──────■──────\n",
              "     ├───┤      │      \n",
              "q_3: ┤ H ├──────■──────\n",
              "     └───┘             \n",
              "c: 4/══════════════════\n",
              "                       "
            ],
            "text/html": [
              "<pre style=\"word-wrap: normal;white-space: pre;background: #fff0;line-height: 1.1;font-family: &quot;Courier New&quot;,Courier,monospace\">     ┌───┐┌───┐   ┌───┐\n",
              "q_0: ┤ H ├┤ X ├─■─┤ X ├\n",
              "     ├───┤├───┤ │ ├───┤\n",
              "q_1: ┤ H ├┤ X ├─■─┤ X ├\n",
              "     ├───┤└───┘ │ └───┘\n",
              "q_2: ┤ H ├──────■──────\n",
              "     ├───┤      │      \n",
              "q_3: ┤ H ├──────■──────\n",
              "     └───┘             \n",
              "c: 4/══════════════════\n",
              "                       </pre>"
            ]
          },
          "metadata": {},
          "execution_count": 197
        }
      ]
    },
    {
      "cell_type": "code",
      "source": [
        "# Oracle for 1101\n",
        "qc.x(1)\n",
        "\n",
        "qc.compose(c4z,qubits=[0,1,2,3],inplace=True)\n",
        "\n",
        "qc.x(1)\n",
        "\n",
        "qc.draw()"
      ],
      "metadata": {
        "id": "olQW_5dgbEeo",
        "colab": {
          "base_uri": "https://localhost:8080/",
          "height": 186
        },
        "outputId": "6336466a-039d-4acd-b9cb-e494881ffacf"
      },
      "execution_count": null,
      "outputs": [
        {
          "output_type": "execute_result",
          "data": {
            "text/plain": [
              "     ┌───┐             \n",
              "q_0: ┤ H ├──────■──────\n",
              "     ├───┤┌───┐ │ ┌───┐\n",
              "q_1: ┤ H ├┤ X ├─■─┤ X ├\n",
              "     ├───┤└───┘ │ └───┘\n",
              "q_2: ┤ H ├──────■──────\n",
              "     ├───┤      │      \n",
              "q_3: ┤ H ├──────■──────\n",
              "     └───┘             \n",
              "c: 4/══════════════════\n",
              "                       "
            ],
            "text/html": [
              "<pre style=\"word-wrap: normal;white-space: pre;background: #fff0;line-height: 1.1;font-family: &quot;Courier New&quot;,Courier,monospace\">     ┌───┐             \n",
              "q_0: ┤ H ├──────■──────\n",
              "     ├───┤┌───┐ │ ┌───┐\n",
              "q_1: ┤ H ├┤ X ├─■─┤ X ├\n",
              "     ├───┤└───┘ │ └───┘\n",
              "q_2: ┤ H ├──────■──────\n",
              "     ├───┤      │      \n",
              "q_3: ┤ H ├──────■──────\n",
              "     └───┘             \n",
              "c: 4/══════════════════\n",
              "                       </pre>"
            ]
          },
          "metadata": {},
          "execution_count": 199
        }
      ]
    },
    {
      "cell_type": "code",
      "source": [
        "# Oracle for 1110\n",
        "qc.x(0)\n",
        "qc.compose(c4z,qubits=[0,1,2,3],inplace=True)\n",
        "qc.x(0)\n",
        "qc.draw()"
      ],
      "metadata": {
        "id": "Z9Md3alCbEne",
        "colab": {
          "base_uri": "https://localhost:8080/",
          "height": 186
        },
        "outputId": "ec5533d2-2275-4ec9-83e8-d0710ddf9e04"
      },
      "execution_count": null,
      "outputs": [
        {
          "output_type": "execute_result",
          "data": {
            "text/plain": [
              "     ┌───┐┌───┐   ┌───┐\n",
              "q_0: ┤ H ├┤ X ├─■─┤ X ├\n",
              "     ├───┤└───┘ │ └───┘\n",
              "q_1: ┤ H ├──────■──────\n",
              "     ├───┤      │      \n",
              "q_2: ┤ H ├──────■──────\n",
              "     ├───┤      │      \n",
              "q_3: ┤ H ├──────■──────\n",
              "     └───┘             \n",
              "c: 4/══════════════════\n",
              "                       "
            ],
            "text/html": [
              "<pre style=\"word-wrap: normal;white-space: pre;background: #fff0;line-height: 1.1;font-family: &quot;Courier New&quot;,Courier,monospace\">     ┌───┐┌───┐   ┌───┐\n",
              "q_0: ┤ H ├┤ X ├─■─┤ X ├\n",
              "     ├───┤└───┘ │ └───┘\n",
              "q_1: ┤ H ├──────■──────\n",
              "     ├───┤      │      \n",
              "q_2: ┤ H ├──────■──────\n",
              "     ├───┤      │      \n",
              "q_3: ┤ H ├──────■──────\n",
              "     └───┘             \n",
              "c: 4/══════════════════\n",
              "                       </pre>"
            ]
          },
          "metadata": {},
          "execution_count": 201
        }
      ]
    },
    {
      "cell_type": "code",
      "source": [
        "# Oracle for 1111\n",
        "\n",
        "qc.compose(c4z,qubits=[0,1,2,3],inplace=True)\n",
        "qc.draw()"
      ],
      "metadata": {
        "id": "FCg6nVv7bkOz",
        "colab": {
          "base_uri": "https://localhost:8080/",
          "height": 186
        },
        "outputId": "32045e1d-dc5b-42a4-bc30-89ce9c86560e"
      },
      "execution_count": null,
      "outputs": [
        {
          "output_type": "execute_result",
          "data": {
            "text/plain": [
              "     ┌───┐   \n",
              "q_0: ┤ H ├─■─\n",
              "     ├───┤ │ \n",
              "q_1: ┤ H ├─■─\n",
              "     ├───┤ │ \n",
              "q_2: ┤ H ├─■─\n",
              "     ├───┤ │ \n",
              "q_3: ┤ H ├─■─\n",
              "     └───┘   \n",
              "c: 4/════════\n",
              "             "
            ],
            "text/html": [
              "<pre style=\"word-wrap: normal;white-space: pre;background: #fff0;line-height: 1.1;font-family: &quot;Courier New&quot;,Courier,monospace\">     ┌───┐   \n",
              "q_0: ┤ H ├─■─\n",
              "     ├───┤ │ \n",
              "q_1: ┤ H ├─■─\n",
              "     ├───┤ │ \n",
              "q_2: ┤ H ├─■─\n",
              "     ├───┤ │ \n",
              "q_3: ┤ H ├─■─\n",
              "     └───┘   \n",
              "c: 4/════════\n",
              "             </pre>"
            ]
          },
          "metadata": {},
          "execution_count": 17
        }
      ]
    },
    {
      "cell_type": "code",
      "source": [
        "# Amplification\n",
        "qc.h(0)\n",
        "qc.h(1)\n",
        "qc.h(2)\n",
        "qc.h(3)\n",
        "\n",
        "qc.x(0)\n",
        "qc.x(1)\n",
        "qc.x(2)\n",
        "qc.x(3)\n",
        "\n",
        "\n",
        "qc.compose(c4z,qubits=[0,1,2,3],inplace=True)\n",
        "\n",
        "qc.x(0)\n",
        "qc.x(1)\n",
        "qc.x(2)\n",
        "qc.x(3)\n",
        "\n",
        "\n",
        "qc.h(0)\n",
        "qc.h(1)\n",
        "qc.h(2)\n",
        "qc.h(3)"
      ],
      "metadata": {
        "colab": {
          "base_uri": "https://localhost:8080/"
        },
        "id": "4pDizBnHTWRG",
        "outputId": "1ed837ff-8e3b-4f76-a771-9ca3cdb62c06"
      },
      "execution_count": null,
      "outputs": [
        {
          "output_type": "execute_result",
          "data": {
            "text/plain": [
              "<qiskit.circuit.instructionset.InstructionSet at 0x7f9066170040>"
            ]
          },
          "metadata": {},
          "execution_count": 18
        }
      ]
    },
    {
      "cell_type": "code",
      "source": [
        "qc.draw()"
      ],
      "metadata": {
        "colab": {
          "base_uri": "https://localhost:8080/",
          "height": 186
        },
        "id": "gDS2a1NnW5Rw",
        "outputId": "473655a0-cf43-4a50-ba13-5487826e3f26"
      },
      "execution_count": null,
      "outputs": [
        {
          "output_type": "execute_result",
          "data": {
            "text/plain": [
              "     ┌───┐   ┌───┐┌───┐   ┌───┐┌───┐\n",
              "q_0: ┤ H ├─■─┤ H ├┤ X ├─■─┤ X ├┤ H ├\n",
              "     ├───┤ │ ├───┤├───┤ │ ├───┤├───┤\n",
              "q_1: ┤ H ├─■─┤ H ├┤ X ├─■─┤ X ├┤ H ├\n",
              "     ├───┤ │ ├───┤├───┤ │ ├───┤├───┤\n",
              "q_2: ┤ H ├─■─┤ H ├┤ X ├─■─┤ X ├┤ H ├\n",
              "     ├───┤ │ ├───┤├───┤ │ ├───┤├───┤\n",
              "q_3: ┤ H ├─■─┤ H ├┤ X ├─■─┤ X ├┤ H ├\n",
              "     └───┘   └───┘└───┘   └───┘└───┘\n",
              "c: 4/═══════════════════════════════\n",
              "                                    "
            ],
            "text/html": [
              "<pre style=\"word-wrap: normal;white-space: pre;background: #fff0;line-height: 1.1;font-family: &quot;Courier New&quot;,Courier,monospace\">     ┌───┐   ┌───┐┌───┐   ┌───┐┌───┐\n",
              "q_0: ┤ H ├─■─┤ H ├┤ X ├─■─┤ X ├┤ H ├\n",
              "     ├───┤ │ ├───┤├───┤ │ ├───┤├───┤\n",
              "q_1: ┤ H ├─■─┤ H ├┤ X ├─■─┤ X ├┤ H ├\n",
              "     ├───┤ │ ├───┤├───┤ │ ├───┤├───┤\n",
              "q_2: ┤ H ├─■─┤ H ├┤ X ├─■─┤ X ├┤ H ├\n",
              "     ├───┤ │ ├───┤├───┤ │ ├───┤├───┤\n",
              "q_3: ┤ H ├─■─┤ H ├┤ X ├─■─┤ X ├┤ H ├\n",
              "     └───┘   └───┘└───┘   └───┘└───┘\n",
              "c: 4/═══════════════════════════════\n",
              "                                    </pre>"
            ]
          },
          "metadata": {},
          "execution_count": 19
        }
      ]
    },
    {
      "cell_type": "code",
      "source": [
        "qc.measure([0,1,2,3],[0,1,2,3])\n",
        "qc.draw()"
      ],
      "metadata": {
        "colab": {
          "base_uri": "https://localhost:8080/",
          "height": 186
        },
        "id": "Ul1UeKEaTg2i",
        "outputId": "ba2e1150-13d4-4cdf-bb89-fcc26012fca8"
      },
      "execution_count": null,
      "outputs": [
        {
          "output_type": "execute_result",
          "data": {
            "text/plain": [
              "     ┌───┐   ┌───┐┌───┐   ┌───┐┌───┐┌─┐         \n",
              "q_0: ┤ H ├─■─┤ H ├┤ X ├─■─┤ X ├┤ H ├┤M├─────────\n",
              "     ├───┤ │ ├───┤├───┤ │ ├───┤├───┤└╥┘┌─┐      \n",
              "q_1: ┤ H ├─■─┤ H ├┤ X ├─■─┤ X ├┤ H ├─╫─┤M├──────\n",
              "     ├───┤ │ ├───┤├───┤ │ ├───┤├───┤ ║ └╥┘┌─┐   \n",
              "q_2: ┤ H ├─■─┤ H ├┤ X ├─■─┤ X ├┤ H ├─╫──╫─┤M├───\n",
              "     ├───┤ │ ├───┤├───┤ │ ├───┤├───┤ ║  ║ └╥┘┌─┐\n",
              "q_3: ┤ H ├─■─┤ H ├┤ X ├─■─┤ X ├┤ H ├─╫──╫──╫─┤M├\n",
              "     └───┘   └───┘└───┘   └───┘└───┘ ║  ║  ║ └╥┘\n",
              "c: 4/════════════════════════════════╩══╩══╩══╩═\n",
              "                                     0  1  2  3 "
            ],
            "text/html": [
              "<pre style=\"word-wrap: normal;white-space: pre;background: #fff0;line-height: 1.1;font-family: &quot;Courier New&quot;,Courier,monospace\">     ┌───┐   ┌───┐┌───┐   ┌───┐┌───┐┌─┐         \n",
              "q_0: ┤ H ├─■─┤ H ├┤ X ├─■─┤ X ├┤ H ├┤M├─────────\n",
              "     ├───┤ │ ├───┤├───┤ │ ├───┤├───┤└╥┘┌─┐      \n",
              "q_1: ┤ H ├─■─┤ H ├┤ X ├─■─┤ X ├┤ H ├─╫─┤M├──────\n",
              "     ├───┤ │ ├───┤├───┤ │ ├───┤├───┤ ║ └╥┘┌─┐   \n",
              "q_2: ┤ H ├─■─┤ H ├┤ X ├─■─┤ X ├┤ H ├─╫──╫─┤M├───\n",
              "     ├───┤ │ ├───┤├───┤ │ ├───┤├───┤ ║  ║ └╥┘┌─┐\n",
              "q_3: ┤ H ├─■─┤ H ├┤ X ├─■─┤ X ├┤ H ├─╫──╫──╫─┤M├\n",
              "     └───┘   └───┘└───┘   └───┘└───┘ ║  ║  ║ └╥┘\n",
              "c: 4/════════════════════════════════╩══╩══╩══╩═\n",
              "                                     0  1  2  3 </pre>"
            ]
          },
          "metadata": {},
          "execution_count": 20
        }
      ]
    },
    {
      "cell_type": "code",
      "source": [
        "backend = Aer.get_backend('qasm_simulator')\n",
        "job = execute(qc, backend = backend, shots = 2048)\n",
        "results = job.result()\n",
        "counts = results.get_counts()\n",
        "plot_histogram(counts)"
      ],
      "metadata": {
        "colab": {
          "base_uri": "https://localhost:8080/",
          "height": 484
        },
        "id": "04mX_OryTq2z",
        "outputId": "9709b15b-15d4-44ab-f9eb-0276ea061f56"
      },
      "execution_count": null,
      "outputs": [
        {
          "output_type": "execute_result",
          "data": {
            "text/plain": [
              "<Figure size 700x500 with 1 Axes>"
            ],
            "image/png": "[encoded data removed]"
          },
          "metadata": {},
          "execution_count": 21
        }
      ]
    }
  ]
}