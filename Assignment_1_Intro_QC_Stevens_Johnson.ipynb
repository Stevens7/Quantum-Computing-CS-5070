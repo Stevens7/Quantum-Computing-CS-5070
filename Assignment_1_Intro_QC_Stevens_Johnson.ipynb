{
  "nbformat": 4,
  "nbformat_minor": 0,
  "metadata": {
    "colab": {
      "provenance": []
    },
    "kernelspec": {
      "name": "python3",
      "display_name": "Python 3"
    },
    "language_info": {
      "name": "python"
    }
  },
  "cells": [
    {
      "cell_type": "markdown",
      "source": [
        "## **CS-4570/5070 - Quantum Computing Basics**\n",
        "## **Programming Assignment-1**\n",
        "---\n",
        "\n",
        "[ Syntaxes ](https://docs.google.com/document/d/1GArKBUksi4pMgcEBc4OpvWp2KREPpnQvq0AgyijJnkI/edit?usp=share_link)\n",
        "\n",
        "\n",
        "--> Follow the steps clearly, don't change the given code . Complete the section which need to be completed."
      ],
      "metadata": {
        "id": "bFsmApeNnsGS"
      }
    },
    {
      "cell_type": "code",
      "source": [],
      "metadata": {
        "id": "X1RNl1y3RwsU"
      },
      "execution_count": null,
      "outputs": []
    },
    {
      "cell_type": "markdown",
      "source": [
        "\n",
        "\n",
        "1) Run the cell directly below before doing anything else."
      ],
      "metadata": {
        "id": "-Ya7mLp7o2Ez"
      }
    },
    {
      "cell_type": "code",
      "execution_count": null,
      "metadata": {
        "id": "PTx6HAixlP1o",
        "colab": {
          "base_uri": "https://localhost:8080/"
        },
        "outputId": "50f550ea-aa59-409e-a780-601d4c767a55"
      },
      "outputs": [
        {
          "output_type": "stream",
          "name": "stdout",
          "text": [
            "Looking in indexes: https://pypi.org/simple, https://us-python.pkg.dev/colab-wheels/public/simple/\n",
            "Collecting qiskit\n",
            "  Downloading qiskit-0.42.1.tar.gz (14 kB)\n",
            "  Preparing metadata (setup.py) ... \u001b[?25l\u001b[?25hdone\n",
            "Collecting qiskit-terra==0.23.3\n",
            "  Downloading qiskit_terra-0.23.3-cp39-cp39-manylinux_2_17_x86_64.manylinux2014_x86_64.whl (5.1 MB)\n",
            "\u001b[2K     \u001b[90m━━━━━━━━━━━━━━━━━━━━━━━━━━━━━━━━━━━━━━━━\u001b[0m \u001b[32m5.1/5.1 MB\u001b[0m \u001b[31m31.0 MB/s\u001b[0m eta \u001b[36m0:00:00\u001b[0m\n",
            "\u001b[?25hCollecting qiskit-aer==0.12.0\n",
            "  Downloading qiskit_aer-0.12.0-cp39-cp39-manylinux_2_17_x86_64.manylinux2014_x86_64.whl (12.8 MB)\n",
            "\u001b[2K     \u001b[90m━━━━━━━━━━━━━━━━━━━━━━━━━━━━━━━━━━━━━━━━\u001b[0m \u001b[32m12.8/12.8 MB\u001b[0m \u001b[31m44.6 MB/s\u001b[0m eta \u001b[36m0:00:00\u001b[0m\n",
            "\u001b[?25hCollecting qiskit-ibmq-provider==0.20.2\n",
            "  Downloading qiskit_ibmq_provider-0.20.2-py3-none-any.whl (241 kB)\n",
            "\u001b[2K     \u001b[90m━━━━━━━━━━━━━━━━━━━━━━━━━━━━━━━━━━━━━━\u001b[0m \u001b[32m241.5/241.5 KB\u001b[0m \u001b[31m12.9 MB/s\u001b[0m eta \u001b[36m0:00:00\u001b[0m\n",
            "\u001b[?25hRequirement already satisfied: scipy>=1.0 in /usr/local/lib/python3.9/dist-packages (from qiskit-aer==0.12.0->qiskit) (1.10.1)\n",
            "Requirement already satisfied: numpy>=1.16.3 in /usr/local/lib/python3.9/dist-packages (from qiskit-aer==0.12.0->qiskit) (1.22.4)\n",
            "Collecting websockets>=10.0\n",
            "  Downloading websockets-10.4-cp39-cp39-manylinux_2_5_x86_64.manylinux1_x86_64.manylinux_2_17_x86_64.manylinux2014_x86_64.whl (106 kB)\n",
            "\u001b[2K     \u001b[90m━━━━━━━━━━━━━━━━━━━━━━━━━━━━━━━━━━━━━━━\u001b[0m \u001b[32m106.5/106.5 KB\u001b[0m \u001b[31m5.0 MB/s\u001b[0m eta \u001b[36m0:00:00\u001b[0m\n",
            "\u001b[?25hRequirement already satisfied: requests>=2.19 in /usr/local/lib/python3.9/dist-packages (from qiskit-ibmq-provider==0.20.2->qiskit) (2.27.1)\n",
            "Collecting websocket-client>=1.5.1\n",
            "  Downloading websocket_client-1.5.1-py3-none-any.whl (55 kB)\n",
            "\u001b[2K     \u001b[90m━━━━━━━━━━━━━━━━━━━━━━━━━━━━━━━━━━━━━━━━\u001b[0m \u001b[32m55.9/55.9 KB\u001b[0m \u001b[31m3.4 MB/s\u001b[0m eta \u001b[36m0:00:00\u001b[0m\n",
            "\u001b[?25hCollecting requests-ntlm<=1.1.0\n",
            "  Downloading requests_ntlm-1.1.0-py2.py3-none-any.whl (5.7 kB)\n",
            "Requirement already satisfied: python-dateutil>=2.8.0 in /usr/local/lib/python3.9/dist-packages (from qiskit-ibmq-provider==0.20.2->qiskit) (2.8.2)\n",
            "Requirement already satisfied: urllib3>=1.21.1 in /usr/local/lib/python3.9/dist-packages (from qiskit-ibmq-provider==0.20.2->qiskit) (1.26.15)\n",
            "Requirement already satisfied: psutil>=5 in /usr/local/lib/python3.9/dist-packages (from qiskit-terra==0.23.3->qiskit) (5.9.4)\n",
            "Collecting ply>=3.10\n",
            "  Downloading ply-3.11-py2.py3-none-any.whl (49 kB)\n",
            "\u001b[2K     \u001b[90m━━━━━━━━━━━━━━━━━━━━━━━━━━━━━━━━━━━━━━━━\u001b[0m \u001b[32m49.6/49.6 KB\u001b[0m \u001b[31m4.0 MB/s\u001b[0m eta \u001b[36m0:00:00\u001b[0m\n",
            "\u001b[?25hCollecting symengine>=0.9\n",
            "  Downloading symengine-0.10.0-cp39-cp39-manylinux_2_12_x86_64.manylinux2010_x86_64.whl (37.5 MB)\n",
            "\u001b[2K     \u001b[90m━━━━━━━━━━━━━━━━━━━━━━━━━━━━━━━━━━━━━━━━\u001b[0m \u001b[32m37.5/37.5 MB\u001b[0m \u001b[31m11.2 MB/s\u001b[0m eta \u001b[36m0:00:00\u001b[0m\n",
            "\u001b[?25hRequirement already satisfied: sympy>=1.3 in /usr/local/lib/python3.9/dist-packages (from qiskit-terra==0.23.3->qiskit) (1.11.1)\n",
            "Collecting stevedore>=3.0.0\n",
            "  Downloading stevedore-5.0.0-py3-none-any.whl (49 kB)\n",
            "\u001b[2K     \u001b[90m━━━━━━━━━━━━━━━━━━━━━━━━━━━━━━━━━━━━━━━━\u001b[0m \u001b[32m49.6/49.6 KB\u001b[0m \u001b[31m2.5 MB/s\u001b[0m eta \u001b[36m0:00:00\u001b[0m\n",
            "\u001b[?25hCollecting dill>=0.3\n",
            "  Downloading dill-0.3.6-py3-none-any.whl (110 kB)\n",
            "\u001b[2K     \u001b[90m━━━━━━━━━━━━━━━━━━━━━━━━━━━━━━━━━━━━━━━\u001b[0m \u001b[32m110.5/110.5 KB\u001b[0m \u001b[31m7.1 MB/s\u001b[0m eta \u001b[36m0:00:00\u001b[0m\n",
            "\u001b[?25hCollecting rustworkx>=0.12.0\n",
            "  Downloading rustworkx-0.12.1-cp39-cp39-manylinux_2_17_x86_64.manylinux2014_x86_64.whl (1.9 MB)\n",
            "\u001b[2K     \u001b[90m━━━━━━━━━━━━━━━━━━━━━━━━━━━━━━━━━━━━━━━━\u001b[0m \u001b[32m1.9/1.9 MB\u001b[0m \u001b[31m35.3 MB/s\u001b[0m eta \u001b[36m0:00:00\u001b[0m\n",
            "\u001b[?25hRequirement already satisfied: six>=1.5 in /usr/local/lib/python3.9/dist-packages (from python-dateutil>=2.8.0->qiskit-ibmq-provider==0.20.2->qiskit) (1.16.0)\n",
            "Requirement already satisfied: charset-normalizer~=2.0.0 in /usr/local/lib/python3.9/dist-packages (from requests>=2.19->qiskit-ibmq-provider==0.20.2->qiskit) (2.0.12)\n",
            "Requirement already satisfied: idna<4,>=2.5 in /usr/local/lib/python3.9/dist-packages (from requests>=2.19->qiskit-ibmq-provider==0.20.2->qiskit) (3.4)\n",
            "Requirement already satisfied: certifi>=2017.4.17 in /usr/local/lib/python3.9/dist-packages (from requests>=2.19->qiskit-ibmq-provider==0.20.2->qiskit) (2022.12.7)\n",
            "Collecting ntlm-auth>=1.0.2\n",
            "  Downloading ntlm_auth-1.5.0-py2.py3-none-any.whl (29 kB)\n",
            "Requirement already satisfied: cryptography>=1.3 in /usr/local/lib/python3.9/dist-packages (from requests-ntlm<=1.1.0->qiskit-ibmq-provider==0.20.2->qiskit) (39.0.2)\n",
            "Collecting pbr!=2.1.0,>=2.0.0\n",
            "  Downloading pbr-5.11.1-py2.py3-none-any.whl (112 kB)\n",
            "\u001b[2K     \u001b[90m━━━━━━━━━━━━━━━━━━━━━━━━━━━━━━━━━━━━━━━\u001b[0m \u001b[32m112.7/112.7 KB\u001b[0m \u001b[31m5.5 MB/s\u001b[0m eta \u001b[36m0:00:00\u001b[0m\n",
            "\u001b[?25hRequirement already satisfied: mpmath>=0.19 in /usr/local/lib/python3.9/dist-packages (from sympy>=1.3->qiskit-terra==0.23.3->qiskit) (1.3.0)\n",
            "Requirement already satisfied: cffi>=1.12 in /usr/local/lib/python3.9/dist-packages (from cryptography>=1.3->requests-ntlm<=1.1.0->qiskit-ibmq-provider==0.20.2->qiskit) (1.15.1)\n",
            "Requirement already satisfied: pycparser in /usr/local/lib/python3.9/dist-packages (from cffi>=1.12->cryptography>=1.3->requests-ntlm<=1.1.0->qiskit-ibmq-provider==0.20.2->qiskit) (2.21)\n",
            "Building wheels for collected packages: qiskit\n",
            "  Building wheel for qiskit (setup.py) ... \u001b[?25l\u001b[?25hdone\n",
            "  Created wheel for qiskit: filename=qiskit-0.42.1-py3-none-any.whl size=12938 sha256=e806b940e3bf49d52daee10880ffe2ed96f968588f694698081aa75c36332327\n",
            "  Stored in directory: /root/.cache/pip/wheels/40/64/74/29c046bda04fd60f3f6b2e244fa85b70f219e363fc3373f541\n",
            "Successfully built qiskit\n",
            "Installing collected packages: ply, websockets, websocket-client, symengine, rustworkx, pbr, ntlm-auth, dill, stevedore, requests-ntlm, qiskit-terra, qiskit-ibmq-provider, qiskit-aer, qiskit\n",
            "Successfully installed dill-0.3.6 ntlm-auth-1.5.0 pbr-5.11.1 ply-3.11 qiskit-0.42.1 qiskit-aer-0.12.0 qiskit-ibmq-provider-0.20.2 qiskit-terra-0.23.3 requests-ntlm-1.1.0 rustworkx-0.12.1 stevedore-5.0.0 symengine-0.10.0 websocket-client-1.5.1 websockets-10.4\n",
            "Libraries imported successfully!\n"
          ]
        }
      ],
      "source": [
        "!pip install qiskit\n",
        "\n",
        "# Importing standard Qiskit libraries\n",
        "from qiskit import QuantumCircuit  #Importing the QuantumCircuit function from Qiskit. We will use this to create our quantum circuits!\n",
        "\n",
        "# We will use these functions to run our circuit and visualize its final state\n",
        "from qiskit import Aer, execute\n",
        "from qiskit.visualization import *\n",
        "\n",
        "import warnings  # We are using this library to suppress some warning messages\n",
        "warnings.filterwarnings(\"ignore\")\n",
        "\n",
        "print(\"Libraries imported successfully!\")"
      ]
    },
    {
      "cell_type": "markdown",
      "source": [
        "**Exercise #1**\n",
        "\n",
        "**a) Create and draw a 1-qubit/1-classical bit circuit with 1 X, and a measurement at the end.**"
      ],
      "metadata": {
        "id": "mtPGVEb7pxpG"
      }
    },
    {
      "cell_type": "code",
      "source": [
        "qc = QuantumCircuit(1,1)\n",
        "\n",
        "qc.x(0)\n",
        "\n",
        "qc.measure(0, 0)\n",
        "\n",
        "qc.draw()"
      ],
      "metadata": {
        "id": "3k42h4lmp2wn",
        "colab": {
          "base_uri": "https://localhost:8080/",
          "height": 94
        },
        "outputId": "a659567e-9d60-4aa4-ddfb-e56b6bd1d07d"
      },
      "execution_count": null,
      "outputs": [
        {
          "output_type": "execute_result",
          "data": {
            "text/plain": [
              "     ┌───┐┌─┐\n",
              "  q: ┤ X ├┤M├\n",
              "     └───┘└╥┘\n",
              "c: 1/══════╩═\n",
              "           0 "
            ],
            "text/html": [
              "<pre style=\"word-wrap: normal;white-space: pre;background: #fff0;line-height: 1.1;font-family: &quot;Courier New&quot;,Courier,monospace\">     ┌───┐┌─┐\n",
              "  q: ┤ X ├┤M├\n",
              "     └───┘└╥┘\n",
              "c: 1/══════╩═\n",
              "           0 </pre>"
            ]
          },
          "metadata": {},
          "execution_count": 2
        }
      ]
    },
    {
      "cell_type": "markdown",
      "source": [
        "**b) Create and draw a 1-qubit/1-classical bit circuit with 1 X and 1 H gates, and a measurement at the end**"
      ],
      "metadata": {
        "id": "aymF2Ff8rShR"
      }
    },
    {
      "cell_type": "code",
      "source": [
        "qc = QuantumCircuit(1,1)\n",
        "\n",
        " #Add gates here\n",
        "qc.x(0) # X gate\n",
        "qc.h(0) # Hadamard Gate\n",
        "\n",
        " # Measure in here\n",
        "qc.measure(0,0) # Measuring\n",
        "\n",
        "qc.draw()"
      ],
      "metadata": {
        "id": "5uhI5RHGrmzC",
        "colab": {
          "base_uri": "https://localhost:8080/",
          "height": 94
        },
        "outputId": "4c7186fc-d6a9-41bb-bc7e-0a669a4ebdf2"
      },
      "execution_count": null,
      "outputs": [
        {
          "output_type": "execute_result",
          "data": {
            "text/plain": [
              "     ┌───┐┌───┐┌─┐\n",
              "  q: ┤ X ├┤ H ├┤M├\n",
              "     └───┘└───┘└╥┘\n",
              "c: 1/═══════════╩═\n",
              "                0 "
            ],
            "text/html": [
              "<pre style=\"word-wrap: normal;white-space: pre;background: #fff0;line-height: 1.1;font-family: &quot;Courier New&quot;,Courier,monospace\">     ┌───┐┌───┐┌─┐\n",
              "  q: ┤ X ├┤ H ├┤M├\n",
              "     └───┘└───┘└╥┘\n",
              "c: 1/═══════════╩═\n",
              "                0 </pre>"
            ]
          },
          "metadata": {},
          "execution_count": 3
        }
      ]
    },
    {
      "cell_type": "markdown",
      "source": [
        "**c) Create and draw 1-qubit/1-classical bit circuit with in the order of gates (X , H , Z , X , H ) and a measurement at the end.**"
      ],
      "metadata": {
        "id": "Du5f1GHNr3PH"
      }
    },
    {
      "cell_type": "code",
      "source": [
        "qc = QuantumCircuit(1,1)\n",
        "\n",
        " # Add gates here\n",
        "qc.x(0) # X gate\n",
        "qc.h(0) # Hadamard Gate\n",
        "qc.z(0) # Z gate\n",
        "qc.x(0) # X gate\n",
        "qc.h(0) # Hadamard Gate\n",
        "\n",
        " # Measure in here\n",
        "qc.measure(0,0) # Measuring\n",
        "\n",
        " # draw here\n",
        "qc.draw()"
      ],
      "metadata": {
        "id": "ewJI0Tu_sW03",
        "colab": {
          "base_uri": "https://localhost:8080/",
          "height": 94
        },
        "outputId": "ee89cbe3-2934-4b6c-d773-c1f8ee82069a"
      },
      "execution_count": null,
      "outputs": [
        {
          "output_type": "execute_result",
          "data": {
            "text/plain": [
              "     ┌───┐┌───┐┌───┐┌───┐┌───┐┌─┐\n",
              "  q: ┤ X ├┤ H ├┤ Z ├┤ X ├┤ H ├┤M├\n",
              "     └───┘└───┘└───┘└───┘└───┘└╥┘\n",
              "c: 1/══════════════════════════╩═\n",
              "                               0 "
            ],
            "text/html": [
              "<pre style=\"word-wrap: normal;white-space: pre;background: #fff0;line-height: 1.1;font-family: &quot;Courier New&quot;,Courier,monospace\">     ┌───┐┌───┐┌───┐┌───┐┌───┐┌─┐\n",
              "  q: ┤ X ├┤ H ├┤ Z ├┤ X ├┤ H ├┤M├\n",
              "     └───┘└───┘└───┘└───┘└───┘└╥┘\n",
              "c: 1/══════════════════════════╩═\n",
              "                               0 </pre>"
            ]
          },
          "metadata": {},
          "execution_count": 4
        }
      ]
    },
    {
      "cell_type": "markdown",
      "source": [
        "**Run the code below to simulate the measurement results using QASM.**"
      ],
      "metadata": {
        "id": "spuuI-HnIw81"
      }
    },
    {
      "cell_type": "code",
      "source": [
        "# Simulate using QASM\n",
        "backend = Aer.get_backend('qasm_simulator')\n",
        "job = execute(qc, backend = backend, shots = 1024)  # Make sure you change \"qc\" to the name of your quantum circuit in this line!\n",
        "result = job.result()\n",
        "counts = result.get_counts()\n",
        "plot_histogram(counts)"
      ],
      "metadata": {
        "id": "jEmnhtqnI08p",
        "colab": {
          "base_uri": "https://localhost:8080/",
          "height": 323
        },
        "outputId": "871b2278-3b8a-4e57-c1da-a9167ca29247"
      },
      "execution_count": null,
      "outputs": [
        {
          "output_type": "execute_result",
          "data": {
            "text/plain": [
              "<Figure size 504x360 with 1 Axes>"
            ],
            "image/png": "[encoded data removed]"
          },
          "metadata": {},
          "execution_count": 5
        }
      ]
    },
    {
      "cell_type": "markdown",
      "source": [],
      "metadata": {
        "id": "5owV8Sw_I5Cg"
      }
    },
    {
      "cell_type": "markdown",
      "source": [
        "**Exercise#2**\n",
        "\n",
        "**a) Create and draw a 2-qubit/2-classical bit circuit gates applied as described below and a measurement at the end.**\n",
        "\n",
        "**Gates**:\n",
        "\n",
        "H on qubit 0\n",
        "\n",
        "H on qubit 1\n",
        "\n",
        "CX with qubit 0 as the control and qubit 1 as the target\n"
      ],
      "metadata": {
        "id": "L0T0jW79JETS"
      }
    },
    {
      "cell_type": "code",
      "source": [
        "qc = QuantumCircuit(2,2)\n",
        "\n",
        "#Complete your code\n",
        "\n",
        "# Gates\n",
        "qc.h(0)\n",
        "qc.h(1)\n",
        "qc.cnot(0,1)\n",
        "\n",
        "# Measure\n",
        "qc.measure((0,1), (0,1))\n",
        "\n",
        "# Draw\n",
        "qc.draw()"
      ],
      "metadata": {
        "id": "mKgpVwDHJFpM",
        "colab": {
          "base_uri": "https://localhost:8080/",
          "height": 125
        },
        "outputId": "e0293137-9a7e-47cf-e7e2-76e90ac29bf2"
      },
      "execution_count": null,
      "outputs": [
        {
          "output_type": "execute_result",
          "data": {
            "text/plain": [
              "     ┌───┐     ┌─┐   \n",
              "q_0: ┤ H ├──■──┤M├───\n",
              "     ├───┤┌─┴─┐└╥┘┌─┐\n",
              "q_1: ┤ H ├┤ X ├─╫─┤M├\n",
              "     └───┘└───┘ ║ └╥┘\n",
              "c: 2/═══════════╩══╩═\n",
              "                0  1 "
            ],
            "text/html": [
              "<pre style=\"word-wrap: normal;white-space: pre;background: #fff0;line-height: 1.1;font-family: &quot;Courier New&quot;,Courier,monospace\">     ┌───┐     ┌─┐   \n",
              "q_0: ┤ H ├──■──┤M├───\n",
              "     ├───┤┌─┴─┐└╥┘┌─┐\n",
              "q_1: ┤ H ├┤ X ├─╫─┤M├\n",
              "     └───┘└───┘ ║ └╥┘\n",
              "c: 2/═══════════╩══╩═\n",
              "                0  1 </pre>"
            ]
          },
          "metadata": {},
          "execution_count": 16
        }
      ]
    },
    {
      "cell_type": "markdown",
      "source": [
        "**Complete the code below to simulate the measurement results using QASM ( same as in Exercise 1)**"
      ],
      "metadata": {
        "id": "-qD4vXVRJXBe"
      }
    },
    {
      "cell_type": "code",
      "source": [
        "backend = Aer.get_backend('qasm_simulator')\n",
        "#complete remaining code\n",
        "job = execute(qc, backend = backend, shots = 1024)\n",
        "result = job.result()\n",
        "counts = result.get_counts()\n",
        "plot_histogram(counts)"
      ],
      "metadata": {
        "id": "uLS45_F0JWKw",
        "colab": {
          "base_uri": "https://localhost:8080/",
          "height": 331
        },
        "outputId": "44073be7-9fd4-401a-ccea-703febe2f9f7"
      },
      "execution_count": null,
      "outputs": [
        {
          "output_type": "execute_result",
          "data": {
            "text/plain": [
              "<Figure size 504x360 with 1 Axes>"
            ],
            "image/png": "[encoded data removed]"
          },
          "metadata": {},
          "execution_count": 17
        }
      ]
    },
    {
      "cell_type": "markdown",
      "source": [
        "**b) Create and draw a 2-qubit/2-classical bit circuit gates applied as described below and a measurement at the end. Then, simulate this circuit using the code provided.**\n",
        "\n",
        "**Gates**\n",
        "\n",
        "X on qubit 1\n",
        "\n",
        "H on qubit 0\n",
        "\n",
        "CX with control as 1 and target as 0\n",
        "\n",
        "SWAP gate for 0 and 1 qubit."
      ],
      "metadata": {
        "id": "ejSRjGUUKXgY"
      }
    },
    {
      "cell_type": "code",
      "source": [
        "qc = QuantumCircuit(2,2)\n",
        "\n",
        "# Gates\n",
        "qc.x(1)\n",
        "qc.h(0)\n",
        "qc.cnot(1,0)\n",
        "qc.swap(0,1)\n",
        "# Measure\n",
        "qc.measure((0,1), (0,1))\n",
        "\n",
        "# Draw\n",
        "qc.draw()\n",
        "\n",
        "#Hint:- for simulation you can use Exercise 1 simulation."
      ],
      "metadata": {
        "id": "nOfBHP7yLADn",
        "colab": {
          "base_uri": "https://localhost:8080/",
          "height": 125
        },
        "outputId": "5db29f5b-7cf5-4706-a4b1-b8dddba1bca5"
      },
      "execution_count": null,
      "outputs": [
        {
          "output_type": "execute_result",
          "data": {
            "text/plain": [
              "     ┌───┐┌───┐   ┌─┐   \n",
              "q_0: ┤ H ├┤ X ├─X─┤M├───\n",
              "     ├───┤└─┬─┘ │ └╥┘┌─┐\n",
              "q_1: ┤ X ├──■───X──╫─┤M├\n",
              "     └───┘         ║ └╥┘\n",
              "c: 2/══════════════╩══╩═\n",
              "                   0  1 "
            ],
            "text/html": [
              "<pre style=\"word-wrap: normal;white-space: pre;background: #fff0;line-height: 1.1;font-family: &quot;Courier New&quot;,Courier,monospace\">     ┌───┐┌───┐   ┌─┐   \n",
              "q_0: ┤ H ├┤ X ├─X─┤M├───\n",
              "     ├───┤└─┬─┘ │ └╥┘┌─┐\n",
              "q_1: ┤ X ├──■───X──╫─┤M├\n",
              "     └───┘         ║ └╥┘\n",
              "c: 2/══════════════╩══╩═\n",
              "                   0  1 </pre>"
            ]
          },
          "metadata": {},
          "execution_count": 18
        }
      ]
    },
    {
      "cell_type": "code",
      "source": [
        "# QASM Simulator\n",
        "backend = Aer.get_backend('qasm_simulator')\n",
        "job = execute(qc, backend = backend, shots = 1024)\n",
        "result = job.result()\n",
        "counts = result.get_counts()\n",
        "plot_histogram(counts)"
      ],
      "metadata": {
        "colab": {
          "base_uri": "https://localhost:8080/",
          "height": 331
        },
        "id": "_tcxJ3caDrgS",
        "outputId": "6d906be0-27d3-4b3f-b28b-4284ce06d666"
      },
      "execution_count": null,
      "outputs": [
        {
          "output_type": "execute_result",
          "data": {
            "text/plain": [
              "<Figure size 504x360 with 1 Axes>"
            ],
            "image/png": "[encoded data removed]"
          },
          "metadata": {},
          "execution_count": 19
        }
      ]
    },
    {
      "cell_type": "markdown",
      "source": [
        "#### **Exercise #3**\n",
        "\n",
        "a) Create and draw a 2-qubit/2-classical bit circuit gates applied as described below and a measurement at the end. Then, simulate this circuit using the code provided.\n",
        "\n",
        "**Gates**:\n",
        "\n",
        "H on qubit 0\n",
        "\n",
        "H on qubit 1\n",
        "\n",
        "CX with qubit 0 as the control and qubit 1 as the target\n",
        "\n",
        "H on qubit 0\n",
        "\n",
        "H on qubit 1"
      ],
      "metadata": {
        "id": "VfDd0ZyzL-SJ"
      }
    },
    {
      "cell_type": "code",
      "source": [
        "#complete the code and simulation.\n",
        "qc = QuantumCircuit(2,2)\n",
        "\n",
        "#Complete your code\n",
        "\n",
        "# Gates\n",
        "qc.h(0)\n",
        "qc.h(1)\n",
        "qc.cnot(0,1)\n",
        "qc.h(0)\n",
        "qc.h(1)\n",
        "\n",
        "# Measure\n",
        "qc.measure((0,1), (0,1))\n",
        "\n",
        "# Draw\n",
        "qc.draw()"
      ],
      "metadata": {
        "id": "D6Z4z5OWMBO3",
        "colab": {
          "base_uri": "https://localhost:8080/",
          "height": 125
        },
        "outputId": "742b4345-b062-417e-ea22-3968dc0a5dfa"
      },
      "execution_count": null,
      "outputs": [
        {
          "output_type": "execute_result",
          "data": {
            "text/plain": [
              "     ┌───┐     ┌───┐┌─┐   \n",
              "q_0: ┤ H ├──■──┤ H ├┤M├───\n",
              "     ├───┤┌─┴─┐├───┤└╥┘┌─┐\n",
              "q_1: ┤ H ├┤ X ├┤ H ├─╫─┤M├\n",
              "     └───┘└───┘└───┘ ║ └╥┘\n",
              "c: 2/════════════════╩══╩═\n",
              "                     0  1 "
            ],
            "text/html": [
              "<pre style=\"word-wrap: normal;white-space: pre;background: #fff0;line-height: 1.1;font-family: &quot;Courier New&quot;,Courier,monospace\">     ┌───┐     ┌───┐┌─┐   \n",
              "q_0: ┤ H ├──■──┤ H ├┤M├───\n",
              "     ├───┤┌─┴─┐├───┤└╥┘┌─┐\n",
              "q_1: ┤ H ├┤ X ├┤ H ├─╫─┤M├\n",
              "     └───┘└───┘└───┘ ║ └╥┘\n",
              "c: 2/════════════════╩══╩═\n",
              "                     0  1 </pre>"
            ]
          },
          "metadata": {},
          "execution_count": 20
        }
      ]
    },
    {
      "cell_type": "code",
      "source": [
        "# QASM Simulator\n",
        "backend = Aer.get_backend('qasm_simulator')\n",
        "job = execute(qc, backend = backend, shots = 1024)\n",
        "result = job.result()\n",
        "counts = result.get_counts()\n",
        "plot_histogram(counts)"
      ],
      "metadata": {
        "colab": {
          "base_uri": "https://localhost:8080/",
          "height": 331
        },
        "id": "nD3ayLmLELcJ",
        "outputId": "0935cea7-613c-4dbf-a0e4-bf889be5bbe2"
      },
      "execution_count": null,
      "outputs": [
        {
          "output_type": "execute_result",
          "data": {
            "text/plain": [
              "<Figure size 504x360 with 1 Axes>"
            ],
            "image/png": "[encoded data removed]"
          },
          "metadata": {},
          "execution_count": 21
        }
      ]
    },
    {
      "cell_type": "markdown",
      "source": [
        "b) Create and draw a 2-qubit/2-classical bit circuit gates applied as described below and a measurement at the end. Then, simulate this circuit using the code provided.\n",
        "\n",
        "Gates:\n",
        "\n",
        "\n",
        "\n",
        "CX with qubit 0 as the control and qubit 1 as the target\n",
        "\n"
      ],
      "metadata": {
        "id": "SaoVuwNpXJgM"
      }
    },
    {
      "cell_type": "code",
      "source": [
        "qc = QuantumCircuit(2,2)\n",
        "\n",
        "#Complete your code\n",
        "\n",
        "# Gates\n",
        "qc.cnot(0,1)\n",
        "\n",
        "# Measure\n",
        "qc.measure((0,1), (0,1))\n",
        "\n",
        "# Draw\n",
        "qc.draw()"
      ],
      "metadata": {
        "id": "FY2ZbPhqXR-H",
        "colab": {
          "base_uri": "https://localhost:8080/",
          "height": 125
        },
        "outputId": "2e104250-4fc6-4c75-b798-3823f5ed0bb1"
      },
      "execution_count": null,
      "outputs": [
        {
          "output_type": "execute_result",
          "data": {
            "text/plain": [
              "          ┌─┐   \n",
              "q_0: ──■──┤M├───\n",
              "     ┌─┴─┐└╥┘┌─┐\n",
              "q_1: ┤ X ├─╫─┤M├\n",
              "     └───┘ ║ └╥┘\n",
              "c: 2/══════╩══╩═\n",
              "           0  1 "
            ],
            "text/html": [
              "<pre style=\"word-wrap: normal;white-space: pre;background: #fff0;line-height: 1.1;font-family: &quot;Courier New&quot;,Courier,monospace\">          ┌─┐   \n",
              "q_0: ──■──┤M├───\n",
              "     ┌─┴─┐└╥┘┌─┐\n",
              "q_1: ┤ X ├─╫─┤M├\n",
              "     └───┘ ║ └╥┘\n",
              "c: 2/══════╩══╩═\n",
              "           0  1 </pre>"
            ]
          },
          "metadata": {},
          "execution_count": 22
        }
      ]
    },
    {
      "cell_type": "code",
      "source": [
        "backend = Aer.get_backend('qasm_simulator')\n",
        "job = execute(qc, backend = backend, shots = 1024)\n",
        "result = job.result()\n",
        "counts = result.get_counts()\n",
        "plot_histogram(counts)"
      ],
      "metadata": {
        "colab": {
          "base_uri": "https://localhost:8080/",
          "height": 331
        },
        "id": "vofRG84VEtAC",
        "outputId": "6cdbbc8d-d2d5-46c1-b9e3-d52d8f12ed9c"
      },
      "execution_count": null,
      "outputs": [
        {
          "output_type": "execute_result",
          "data": {
            "text/plain": [
              "<Figure size 504x360 with 1 Axes>"
            ],
            "image/png": "[encoded data removed]"
          },
          "metadata": {},
          "execution_count": 23
        }
      ]
    },
    {
      "cell_type": "markdown",
      "source": [
        "**c) After  geting the results for exercise 3a and 3b , Obersrve it carefully, and mention what you observe below.**\n",
        "\n",
        "\n",
        "**Mention your obervation below**\n",
        "\n",
        "\"\n",
        "The above two circuits yields the sampe output, even though the gates are different. This is because the hadamard gates applied on the respective qubit cancel each other out.\n",
        "\n",
        "\n",
        "\n",
        "\n",
        "\n",
        "\n",
        "\"\n"
      ],
      "metadata": {
        "id": "tPK5L1wQWwBC"
      }
    },
    {
      "cell_type": "markdown",
      "source": [
        "**Exercise #4**\n",
        "\n",
        "a) Create and draw a 2-qubit/2-classical bit circuit with the help of following inputs and outputs . Simulate them with shots = 2048\n",
        "\n",
        "\n",
        "\n",
        "Inputs-->Outputs\n",
        "\n",
        "|00> ---> |00>\n",
        "\n",
        "|01> ---> |11>\n",
        "\n",
        "|10> ---> |01>\n",
        "\n",
        "|11> ---> |10>    \n"
      ],
      "metadata": {
        "id": "XTYlRQoHrO_P"
      }
    },
    {
      "cell_type": "code",
      "source": [
        "# Code the circuit and simulate\n",
        "qc = QuantumCircuit(2,2)\n",
        "\n",
        "#Complete your code\n",
        "\n",
        "# For flipping input qubits\n",
        "#qc.x(0)\n",
        "#qc.x(1)\n",
        "\n",
        "# Gates\n",
        "qc.swap(0,1)\n",
        "qc.cnot(0,1)\n",
        "\n",
        "# Measure\n",
        "qc.measure((0,1), (0,1))\n",
        "\n",
        "# Draw\n",
        "qc.draw()"
      ],
      "metadata": {
        "id": "UXS2ZRehX9TJ",
        "colab": {
          "base_uri": "https://localhost:8080/",
          "height": 122
        },
        "outputId": "860aea51-cddb-474c-fd77-03fd1fad4d27"
      },
      "execution_count": null,
      "outputs": [
        {
          "output_type": "execute_result",
          "data": {
            "text/plain": [
              "             ┌─┐   \n",
              "q_0: ─X───■──┤M├───\n",
              "      │ ┌─┴─┐└╥┘┌─┐\n",
              "q_1: ─X─┤ X ├─╫─┤M├\n",
              "        └───┘ ║ └╥┘\n",
              "c: 2/═════════╩══╩═\n",
              "              0  1 "
            ],
            "text/html": [
              "<pre style=\"word-wrap: normal;white-space: pre;background: #fff0;line-height: 1.1;font-family: &quot;Courier New&quot;,Courier,monospace\">             ┌─┐   \n",
              "q_0: ─X───■──┤M├───\n",
              "      │ ┌─┴─┐└╥┘┌─┐\n",
              "q_1: ─X─┤ X ├─╫─┤M├\n",
              "        └───┘ ║ └╥┘\n",
              "c: 2/═════════╩══╩═\n",
              "              0  1 </pre>"
            ]
          },
          "metadata": {},
          "execution_count": 29
        }
      ]
    },
    {
      "cell_type": "code",
      "source": [
        "backend = Aer.get_backend('qasm_simulator')\n",
        "job = execute(qc, backend = backend, shots = 2048)\n",
        "result = job.result()\n",
        "counts = result.get_counts()\n",
        "plot_histogram(counts)"
      ],
      "metadata": {
        "colab": {
          "base_uri": "https://localhost:8080/",
          "height": 331
        },
        "id": "qkPsiRhGF-ry",
        "outputId": "66d43a11-a981-497c-beb1-b9f646043c40"
      },
      "execution_count": null,
      "outputs": [
        {
          "output_type": "execute_result",
          "data": {
            "text/plain": [
              "<Figure size 504x360 with 1 Axes>"
            ],
            "image/png": "[encoded data removed]"
          },
          "metadata": {},
          "execution_count": 30
        }
      ]
    },
    {
      "cell_type": "markdown",
      "source": [
        "b)Create and draw a 2-qubit/2-classical bit circuit with the help of following inputs and outputs . Simulate them with shots = 2048\n",
        "\n",
        "Inputs-->Outputs\n",
        "\n",
        "|00> ---> |11>\n",
        "\n",
        "|01> ---> |00>\n",
        "\n",
        "|10> ---> |10>\n",
        "\n",
        "|11> ---> |01>\n"
      ],
      "metadata": {
        "id": "yovb9cZQvIIT"
      }
    },
    {
      "cell_type": "code",
      "source": [
        "# Code the circuit and simulate\n",
        "qc = QuantumCircuit(2,2)\n",
        "\n",
        "#Complete your code\n",
        "\n",
        "# For flipping input qubits\n",
        "qc.x(0)\n",
        "qc.x(1)\n",
        "\n",
        "# Gates\n",
        "qc.swap(0,1)\n",
        "qc.cnot(0,1)\n",
        "qc.x(0)\n",
        "qc.x(1)\n",
        "\n",
        "\n",
        "# Measure\n",
        "qc.measure((0,1), (0,1))\n",
        "\n",
        "# Draw\n",
        "qc.draw()"
      ],
      "metadata": {
        "id": "X8hwPz2fvlJC",
        "colab": {
          "base_uri": "https://localhost:8080/",
          "height": 122
        },
        "outputId": "1a208512-95f0-4c0a-a99d-b9353f3af4f4"
      },
      "execution_count": null,
      "outputs": [
        {
          "output_type": "execute_result",
          "data": {
            "text/plain": [
              "     ┌───┐        ┌───┐┌─┐   \n",
              "q_0: ┤ X ├─X───■──┤ X ├┤M├───\n",
              "     ├───┤ │ ┌─┴─┐├───┤└╥┘┌─┐\n",
              "q_1: ┤ X ├─X─┤ X ├┤ X ├─╫─┤M├\n",
              "     └───┘   └───┘└───┘ ║ └╥┘\n",
              "c: 2/═══════════════════╩══╩═\n",
              "                        0  1 "
            ],
            "text/html": [
              "<pre style=\"word-wrap: normal;white-space: pre;background: #fff0;line-height: 1.1;font-family: &quot;Courier New&quot;,Courier,monospace\">     ┌───┐        ┌───┐┌─┐   \n",
              "q_0: ┤ X ├─X───■──┤ X ├┤M├───\n",
              "     ├───┤ │ ┌─┴─┐├───┤└╥┘┌─┐\n",
              "q_1: ┤ X ├─X─┤ X ├┤ X ├─╫─┤M├\n",
              "     └───┘   └───┘└───┘ ║ └╥┘\n",
              "c: 2/═══════════════════╩══╩═\n",
              "                        0  1 </pre>"
            ]
          },
          "metadata": {},
          "execution_count": 38
        }
      ]
    },
    {
      "cell_type": "code",
      "source": [
        "backend = Aer.get_backend('qasm_simulator')\n",
        "job = execute(qc, backend = backend, shots = 2048)\n",
        "result = job.result()\n",
        "counts = result.get_counts()\n",
        "plot_histogram(counts)"
      ],
      "metadata": {
        "colab": {
          "base_uri": "https://localhost:8080/",
          "height": 331
        },
        "id": "aW4rCU4pQojh",
        "outputId": "49eceb37-3583-4259-b300-baf8c18fa96a"
      },
      "execution_count": null,
      "outputs": [
        {
          "output_type": "execute_result",
          "data": {
            "text/plain": [
              "<Figure size 504x360 with 1 Axes>"
            ],
            "image/png": "[encoded data removed]"
          },
          "metadata": {},
          "execution_count": 39
        }
      ]
    },
    {
      "cell_type": "markdown",
      "source": [
        "**Exercise #5**\n",
        "\n",
        "a) Create and draw a 3-qubit/3-classical bit circuit gates applied as described below and a measurement at the end. Then, simulate this circuit using the code provided.\n",
        "\n",
        "**Gates**:\n",
        "\n",
        "H on qubit 0\n",
        "\n",
        "H on qubit 1\n",
        "\n",
        "CX with qubit 0 as the control and qubit 1 as the target\n",
        "\n",
        "CX with qubit 1 as the control and qubit 2 as the target\n",
        "\n",
        "CX with qubit 2 as the control and qubit 0 as the target"
      ],
      "metadata": {
        "id": "SLgj0fmCwUaZ"
      }
    },
    {
      "cell_type": "code",
      "source": [
        "# Code the circuit and simulate\n",
        "\n",
        "qc = QuantumCircuit(3,3)\n",
        "\n",
        "# Gates\n",
        "qc.h(0)\n",
        "qc.h(1)\n",
        "qc.cnot(0,1)\n",
        "qc.cnot(1,2)\n",
        "qc.cnot(2,0)\n",
        "\n",
        "# Measure\n",
        "qc.measure((0,1,2),(0,1,2))\n",
        "\n",
        "# Draw\n",
        "qc.draw()"
      ],
      "metadata": {
        "id": "EM0SQpHjwn01",
        "colab": {
          "base_uri": "https://localhost:8080/",
          "height": 156
        },
        "outputId": "d49a5dfc-01e3-4b1a-c62b-6d707084c01b"
      },
      "execution_count": null,
      "outputs": [
        {
          "output_type": "execute_result",
          "data": {
            "text/plain": [
              "     ┌───┐          ┌───┐   ┌─┐   \n",
              "q_0: ┤ H ├──■───────┤ X ├───┤M├───\n",
              "     ├───┤┌─┴─┐     └─┬─┘┌─┐└╥┘   \n",
              "q_1: ┤ H ├┤ X ├──■────┼──┤M├─╫────\n",
              "     └───┘└───┘┌─┴─┐  │  └╥┘ ║ ┌─┐\n",
              "q_2: ──────────┤ X ├──■───╫──╫─┤M├\n",
              "               └───┘      ║  ║ └╥┘\n",
              "c: 3/═════════════════════╩══╩══╩═\n",
              "                          1  0  2 "
            ],
            "text/html": [
              "<pre style=\"word-wrap: normal;white-space: pre;background: #fff0;line-height: 1.1;font-family: &quot;Courier New&quot;,Courier,monospace\">     ┌───┐          ┌───┐   ┌─┐   \n",
              "q_0: ┤ H ├──■───────┤ X ├───┤M├───\n",
              "     ├───┤┌─┴─┐     └─┬─┘┌─┐└╥┘   \n",
              "q_1: ┤ H ├┤ X ├──■────┼──┤M├─╫────\n",
              "     └───┘└───┘┌─┴─┐  │  └╥┘ ║ ┌─┐\n",
              "q_2: ──────────┤ X ├──■───╫──╫─┤M├\n",
              "               └───┘      ║  ║ └╥┘\n",
              "c: 3/═════════════════════╩══╩══╩═\n",
              "                          1  0  2 </pre>"
            ]
          },
          "metadata": {},
          "execution_count": 28
        }
      ]
    },
    {
      "cell_type": "code",
      "source": [
        "backend = Aer.get_backend('qasm_simulator')\n",
        "job = execute(qc, backend = backend, shots = 1024)\n",
        "result = job.result()\n",
        "counts = result.get_counts()\n",
        "plot_histogram(counts)"
      ],
      "metadata": {
        "colab": {
          "base_uri": "https://localhost:8080/",
          "height": 340
        },
        "id": "5lC3l6bmRz2P",
        "outputId": "78525a94-d9b0-4ae0-88da-5bf05e449b62"
      },
      "execution_count": null,
      "outputs": [
        {
          "output_type": "execute_result",
          "data": {
            "text/plain": [
              "<Figure size 504x360 with 1 Axes>"
            ],
            "image/png": "[encoded data removed]"
          },
          "metadata": {},
          "execution_count": 29
        }
      ]
    },
    {
      "cell_type": "markdown",
      "source": [
        "b) Create and draw a 3-qubit/3-classical bit circuit gates applied as described below and a measurement at the end. Then, simulate this circuit using the code provided.\n",
        "\n",
        "**Gates**:\n",
        "\n",
        "X on qubit 0\n",
        "\n",
        "H on qubit 1\n",
        "\n",
        "X on qubit 2\n",
        "\n",
        "CCX with qubit 0,1 as the control and qubit 2 as the target\n",
        "\n",
        "CX with qubit 0 as the control and qubit 2 as the target\n",
        "\n",
        "CSWAP with 2 as control and swap the Qubits 0 and 1\n",
        "\n",
        "CCX with qubit 1,2 as the control and qubit 0 as the target"
      ],
      "metadata": {
        "id": "bojq5iRZw2Ya"
      }
    },
    {
      "cell_type": "code",
      "source": [
        "# Code the circuit and simulate\n",
        "qc = QuantumCircuit(3,3)\n",
        "\n",
        "# Gates\n",
        "qc.x(0)\n",
        "qc.h(1)\n",
        "qc.x(2)\n",
        "qc.ccx(0,1,2)\n",
        "qc.cnot(0,2)\n",
        "qc.cswap(2,0,1)\n",
        "qc.ccx(1,2,0)\n",
        "\n",
        "# Measure\n",
        "qc.measure((0,1,2),(0,1,2))\n",
        "\n",
        "# Draw\n",
        "qc.draw()"
      ],
      "metadata": {
        "id": "mu6KzLumw1t6",
        "colab": {
          "base_uri": "https://localhost:8080/",
          "height": 156
        },
        "outputId": "717ff787-a192-4f7a-dcd5-aab18bb3ab7f"
      },
      "execution_count": null,
      "outputs": [
        {
          "output_type": "execute_result",
          "data": {
            "text/plain": [
              "     ┌───┐             ┌───┐┌─┐      \n",
              "q_0: ┤ X ├──■────■───X─┤ X ├┤M├──────\n",
              "     ├───┤  │    │   │ └─┬─┘└╥┘┌─┐   \n",
              "q_1: ┤ H ├──■────┼───X───■───╫─┤M├───\n",
              "     ├───┤┌─┴─┐┌─┴─┐ │   │   ║ └╥┘┌─┐\n",
              "q_2: ┤ X ├┤ X ├┤ X ├─■───■───╫──╫─┤M├\n",
              "     └───┘└───┘└───┘         ║  ║ └╥┘\n",
              "c: 3/════════════════════════╩══╩══╩═\n",
              "                             0  1  2 "
            ],
            "text/html": [
              "<pre style=\"word-wrap: normal;white-space: pre;background: #fff0;line-height: 1.1;font-family: &quot;Courier New&quot;,Courier,monospace\">     ┌───┐             ┌───┐┌─┐      \n",
              "q_0: ┤ X ├──■────■───X─┤ X ├┤M├──────\n",
              "     ├───┤  │    │   │ └─┬─┘└╥┘┌─┐   \n",
              "q_1: ┤ H ├──■────┼───X───■───╫─┤M├───\n",
              "     ├───┤┌─┴─┐┌─┴─┐ │   │   ║ └╥┘┌─┐\n",
              "q_2: ┤ X ├┤ X ├┤ X ├─■───■───╫──╫─┤M├\n",
              "     └───┘└───┘└───┘         ║  ║ └╥┘\n",
              "c: 3/════════════════════════╩══╩══╩═\n",
              "                             0  1  2 </pre>"
            ]
          },
          "metadata": {},
          "execution_count": 30
        }
      ]
    },
    {
      "cell_type": "code",
      "source": [
        "backend = Aer.get_backend('qasm_simulator')\n",
        "job = execute(qc, backend = backend, shots = 1024)\n",
        "result = job.result()\n",
        "counts = result.get_counts()\n",
        "plot_histogram(counts)"
      ],
      "metadata": {
        "colab": {
          "base_uri": "https://localhost:8080/",
          "height": 339
        },
        "id": "Zm7lGOzmVwGL",
        "outputId": "1cdcbdc0-0f46-45db-c52a-ae5dca9d5ba9"
      },
      "execution_count": null,
      "outputs": [
        {
          "output_type": "execute_result",
          "data": {
            "text/plain": [
              "<Figure size 504x360 with 1 Axes>"
            ],
            "image/png": "[encoded data removed]"
          },
          "metadata": {},
          "execution_count": 31
        }
      ]
    },
    {
      "cell_type": "markdown",
      "source": [
        "c) Code the circuit for all the bell states expalined in the class and simulate each of the following.\n",
        "\n",
        "Note:- This part consists of 4 different circuits. You need to write code saperatly for all the circuits.\n",
        "\n",
        "\n",
        "\n",
        "\n",
        "Hint:- As all qubits starts with |0> , Use X gate to change to |1>."
      ],
      "metadata": {
        "id": "fvZpJVJWxks3"
      }
    },
    {
      "cell_type": "code",
      "source": [
        "# 1st bell state circuit and simulate it.\n",
        "# Bell State 1: |Φ⁺> = 1/√2 (|00⟩ + |11⟩)\n",
        "qc = QuantumCircuit(2,2)\n",
        "\n",
        "#gates\n",
        "qc.h(0)\n",
        "qc.cnot(0,1)\n",
        "\n",
        "#measure\n",
        "qc.measure((0,1),(0,1))\n",
        "\n",
        "#draw\n",
        "qc.draw()"
      ],
      "metadata": {
        "id": "pEVEs_gexdFO",
        "colab": {
          "base_uri": "https://localhost:8080/",
          "height": 125
        },
        "outputId": "d1c3d0b6-c1c2-411b-efd2-bf9a1cb00192"
      },
      "execution_count": null,
      "outputs": [
        {
          "output_type": "execute_result",
          "data": {
            "text/plain": [
              "     ┌───┐     ┌─┐   \n",
              "q_0: ┤ H ├──■──┤M├───\n",
              "     └───┘┌─┴─┐└╥┘┌─┐\n",
              "q_1: ─────┤ X ├─╫─┤M├\n",
              "          └───┘ ║ └╥┘\n",
              "c: 2/═══════════╩══╩═\n",
              "                0  1 "
            ],
            "text/html": [
              "<pre style=\"word-wrap: normal;white-space: pre;background: #fff0;line-height: 1.1;font-family: &quot;Courier New&quot;,Courier,monospace\">     ┌───┐     ┌─┐   \n",
              "q_0: ┤ H ├──■──┤M├───\n",
              "     └───┘┌─┴─┐└╥┘┌─┐\n",
              "q_1: ─────┤ X ├─╫─┤M├\n",
              "          └───┘ ║ └╥┘\n",
              "c: 2/═══════════╩══╩═\n",
              "                0  1 </pre>"
            ]
          },
          "metadata": {},
          "execution_count": 40
        }
      ]
    },
    {
      "cell_type": "code",
      "source": [
        "backend = Aer.get_backend('qasm_simulator')\n",
        "job = execute(qc, backend = backend, shots = 1024)\n",
        "result = job.result()\n",
        "counts = result.get_counts()\n",
        "plot_histogram(counts)"
      ],
      "metadata": {
        "colab": {
          "base_uri": "https://localhost:8080/",
          "height": 331
        },
        "id": "cFJjWp6AenPz",
        "outputId": "e8a523cc-64de-45fc-8f4d-95d764bb5ab6"
      },
      "execution_count": null,
      "outputs": [
        {
          "output_type": "execute_result",
          "data": {
            "text/plain": [
              "<Figure size 504x360 with 1 Axes>"
            ],
            "image/png": "[encoded data removed]"
          },
          "metadata": {},
          "execution_count": 41
        }
      ]
    },
    {
      "cell_type": "code",
      "source": [
        "# 2nd bell state circuit and simulate it.\n",
        "# Bell State 2: |Φ-> = 1/√2 (|00> - |11>)\n",
        "qc = QuantumCircuit(2,2)\n",
        "\n",
        "#gates\n",
        "qc.h(0)\n",
        "qc.x(1)\n",
        "qc.cnot(0,1)\n",
        "\n",
        "#measure\n",
        "qc.measure((0,1),(0,1))\n",
        "\n",
        "#draw\n",
        "qc.draw()"
      ],
      "metadata": {
        "id": "5k3MSqD5yaiG",
        "colab": {
          "base_uri": "https://localhost:8080/",
          "height": 125
        },
        "outputId": "becce9e9-d6e1-48b9-8dae-397a4802c29d"
      },
      "execution_count": null,
      "outputs": [
        {
          "output_type": "execute_result",
          "data": {
            "text/plain": [
              "     ┌───┐     ┌─┐   \n",
              "q_0: ┤ H ├──■──┤M├───\n",
              "     ├───┤┌─┴─┐└╥┘┌─┐\n",
              "q_1: ┤ X ├┤ X ├─╫─┤M├\n",
              "     └───┘└───┘ ║ └╥┘\n",
              "c: 2/═══════════╩══╩═\n",
              "                0  1 "
            ],
            "text/html": [
              "<pre style=\"word-wrap: normal;white-space: pre;background: #fff0;line-height: 1.1;font-family: &quot;Courier New&quot;,Courier,monospace\">     ┌───┐     ┌─┐   \n",
              "q_0: ┤ H ├──■──┤M├───\n",
              "     ├───┤┌─┴─┐└╥┘┌─┐\n",
              "q_1: ┤ X ├┤ X ├─╫─┤M├\n",
              "     └───┘└───┘ ║ └╥┘\n",
              "c: 2/═══════════╩══╩═\n",
              "                0  1 </pre>"
            ]
          },
          "metadata": {},
          "execution_count": 38
        }
      ]
    },
    {
      "cell_type": "code",
      "source": [
        "backend = Aer.get_backend('qasm_simulator')\n",
        "job = execute(qc, backend = backend, shots = 1024)\n",
        "result = job.result()\n",
        "counts = result.get_counts()\n",
        "plot_histogram(counts)"
      ],
      "metadata": {
        "colab": {
          "base_uri": "https://localhost:8080/",
          "height": 331
        },
        "id": "Mq-AGmz5eqes",
        "outputId": "a2a67270-fd60-4a88-e70b-e13abe6b11ed"
      },
      "execution_count": null,
      "outputs": [
        {
          "output_type": "execute_result",
          "data": {
            "text/plain": [
              "<Figure size 504x360 with 1 Axes>"
            ],
            "image/png": "[encoded data removed]"
          },
          "metadata": {},
          "execution_count": 39
        }
      ]
    },
    {
      "cell_type": "code",
      "source": [
        "# 3rd Bell state circuit and simlate it.\n",
        "# Bell State 3: |Ψ⁺> = 1/√2 (|01> + |10>)\n",
        "qc = QuantumCircuit(2,2)\n",
        "\n",
        "#gates\n",
        "qc.x(0)\n",
        "qc.h(0)\n",
        "qc.cnot(0,1)\n",
        "\n",
        "#measure\n",
        "qc.measure((0,1),(0,1))\n",
        "\n",
        "#draw\n",
        "qc.draw()"
      ],
      "metadata": {
        "id": "7br6epo9yhtl",
        "colab": {
          "base_uri": "https://localhost:8080/",
          "height": 125
        },
        "outputId": "928483ce-76b5-46ef-e7b0-37cee1f2884e"
      },
      "execution_count": null,
      "outputs": [
        {
          "output_type": "execute_result",
          "data": {
            "text/plain": [
              "     ┌───┐┌───┐     ┌─┐   \n",
              "q_0: ┤ X ├┤ H ├──■──┤M├───\n",
              "     └───┘└───┘┌─┴─┐└╥┘┌─┐\n",
              "q_1: ──────────┤ X ├─╫─┤M├\n",
              "               └───┘ ║ └╥┘\n",
              "c: 2/════════════════╩══╩═\n",
              "                     0  1 "
            ],
            "text/html": [
              "<pre style=\"word-wrap: normal;white-space: pre;background: #fff0;line-height: 1.1;font-family: &quot;Courier New&quot;,Courier,monospace\">     ┌───┐┌───┐     ┌─┐   \n",
              "q_0: ┤ X ├┤ H ├──■──┤M├───\n",
              "     └───┘└───┘┌─┴─┐└╥┘┌─┐\n",
              "q_1: ──────────┤ X ├─╫─┤M├\n",
              "               └───┘ ║ └╥┘\n",
              "c: 2/════════════════╩══╩═\n",
              "                     0  1 </pre>"
            ]
          },
          "metadata": {},
          "execution_count": 44
        }
      ]
    },
    {
      "cell_type": "code",
      "source": [
        "backend = Aer.get_backend('qasm_simulator')\n",
        "job = execute(qc, backend = backend, shots = 1024)\n",
        "result = job.result()\n",
        "counts = result.get_counts()\n",
        "plot_histogram(counts)"
      ],
      "metadata": {
        "colab": {
          "base_uri": "https://localhost:8080/",
          "height": 331
        },
        "id": "ZV9LLNdKfJ9y",
        "outputId": "f93bc45a-693e-4929-ea0c-f2264fef3cc1"
      },
      "execution_count": null,
      "outputs": [
        {
          "output_type": "execute_result",
          "data": {
            "text/plain": [
              "<Figure size 504x360 with 1 Axes>"
            ],
            "image/png": "[encoded data removed]"
          },
          "metadata": {},
          "execution_count": 45
        }
      ]
    },
    {
      "cell_type": "code",
      "source": [
        "# 4th Bell state circuit and simlate it.\n",
        "# Bell State 4: |Ψ⁺> = 1/√2 (|01> - |10>)\n",
        "qc = QuantumCircuit(2,2)\n",
        "\n",
        "#gates\n",
        "qc.x(0)\n",
        "qc.h(0)\n",
        "qc.x(1)\n",
        "qc.cnot(0,1)\n",
        "\n",
        "#measure\n",
        "qc.measure((0,1),(0,1))\n",
        "\n",
        "#draw\n",
        "qc.draw()"
      ],
      "metadata": {
        "id": "xuEewm0mynuo",
        "colab": {
          "base_uri": "https://localhost:8080/",
          "height": 125
        },
        "outputId": "8bd8c7d9-850a-4de9-d4c0-704dfc02175e"
      },
      "execution_count": null,
      "outputs": [
        {
          "output_type": "execute_result",
          "data": {
            "text/plain": [
              "     ┌───┐┌───┐     ┌─┐   \n",
              "q_0: ┤ X ├┤ H ├──■──┤M├───\n",
              "     ├───┤└───┘┌─┴─┐└╥┘┌─┐\n",
              "q_1: ┤ X ├─────┤ X ├─╫─┤M├\n",
              "     └───┘     └───┘ ║ └╥┘\n",
              "c: 2/════════════════╩══╩═\n",
              "                     0  1 "
            ],
            "text/html": [
              "<pre style=\"word-wrap: normal;white-space: pre;background: #fff0;line-height: 1.1;font-family: &quot;Courier New&quot;,Courier,monospace\">     ┌───┐┌───┐     ┌─┐   \n",
              "q_0: ┤ X ├┤ H ├──■──┤M├───\n",
              "     ├───┤└───┘┌─┴─┐└╥┘┌─┐\n",
              "q_1: ┤ X ├─────┤ X ├─╫─┤M├\n",
              "     └───┘     └───┘ ║ └╥┘\n",
              "c: 2/════════════════╩══╩═\n",
              "                     0  1 </pre>"
            ]
          },
          "metadata": {},
          "execution_count": 46
        }
      ]
    },
    {
      "cell_type": "code",
      "source": [
        "backend = Aer.get_backend('qasm_simulator')\n",
        "job = execute(qc, backend = backend, shots = 1024)\n",
        "result = job.result()\n",
        "counts = result.get_counts()\n",
        "plot_histogram(counts)"
      ],
      "metadata": {
        "colab": {
          "base_uri": "https://localhost:8080/",
          "height": 331
        },
        "id": "-0S1ihJFfgo5",
        "outputId": "1a9a9388-ea10-449c-8943-95c7662efa33"
      },
      "execution_count": null,
      "outputs": [
        {
          "output_type": "execute_result",
          "data": {
            "text/plain": [
              "<Figure size 504x360 with 1 Axes>"
            ],
            "image/png": "[encoded data removed]"
          },
          "metadata": {},
          "execution_count": 47
        }
      ]
    },
    {
      "cell_type": "markdown",
      "source": [
        "**Exercise 6**\n",
        "\n",
        "\n",
        "a)Create and draw a 6-qubit/6-classical bit quantum circuit where you apply an X followed by H gate to each qubit using a for loop and measure all the bits.\n"
      ],
      "metadata": {
        "id": "5_ePlIDTy2wZ"
      }
    },
    {
      "cell_type": "code",
      "source": [
        "qc = QuantumCircuit(6, 6)\n",
        "\n",
        "for qubit in range(6):\n",
        "  qc.x(qubit)\n",
        "  qc.h(qubit)\n",
        "  # COMPLETE THIS LINE\n",
        "\n",
        "# COMPLETE THIS LINE TO MEASURE\n",
        "qc.measure((0,1,2,3,4,5),(0,1,2,3,4,5))\n",
        "qc.draw()"
      ],
      "metadata": {
        "id": "4eltknlNUsvH",
        "colab": {
          "base_uri": "https://localhost:8080/",
          "height": 248
        },
        "outputId": "e09188dc-bd6e-413c-f683-1d8c99528cb3"
      },
      "execution_count": null,
      "outputs": [
        {
          "output_type": "execute_result",
          "data": {
            "text/plain": [
              "     ┌───┐┌───┐┌─┐               \n",
              "q_0: ┤ X ├┤ H ├┤M├───────────────\n",
              "     ├───┤├───┤└╥┘┌─┐            \n",
              "q_1: ┤ X ├┤ H ├─╫─┤M├────────────\n",
              "     ├───┤├───┤ ║ └╥┘┌─┐         \n",
              "q_2: ┤ X ├┤ H ├─╫──╫─┤M├─────────\n",
              "     ├───┤├───┤ ║  ║ └╥┘┌─┐      \n",
              "q_3: ┤ X ├┤ H ├─╫──╫──╫─┤M├──────\n",
              "     ├───┤├───┤ ║  ║  ║ └╥┘┌─┐   \n",
              "q_4: ┤ X ├┤ H ├─╫──╫──╫──╫─┤M├───\n",
              "     ├───┤├───┤ ║  ║  ║  ║ └╥┘┌─┐\n",
              "q_5: ┤ X ├┤ H ├─╫──╫──╫──╫──╫─┤M├\n",
              "     └───┘└───┘ ║  ║  ║  ║  ║ └╥┘\n",
              "c: 6/═══════════╩══╩══╩══╩══╩══╩═\n",
              "                0  1  2  3  4  5 "
            ],
            "text/html": [
              "<pre style=\"word-wrap: normal;white-space: pre;background: #fff0;line-height: 1.1;font-family: &quot;Courier New&quot;,Courier,monospace\">     ┌───┐┌───┐┌─┐               \n",
              "q_0: ┤ X ├┤ H ├┤M├───────────────\n",
              "     ├───┤├───┤└╥┘┌─┐            \n",
              "q_1: ┤ X ├┤ H ├─╫─┤M├────────────\n",
              "     ├───┤├───┤ ║ └╥┘┌─┐         \n",
              "q_2: ┤ X ├┤ H ├─╫──╫─┤M├─────────\n",
              "     ├───┤├───┤ ║  ║ └╥┘┌─┐      \n",
              "q_3: ┤ X ├┤ H ├─╫──╫──╫─┤M├──────\n",
              "     ├───┤├───┤ ║  ║  ║ └╥┘┌─┐   \n",
              "q_4: ┤ X ├┤ H ├─╫──╫──╫──╫─┤M├───\n",
              "     ├───┤├───┤ ║  ║  ║  ║ └╥┘┌─┐\n",
              "q_5: ┤ X ├┤ H ├─╫──╫──╫──╫──╫─┤M├\n",
              "     └───┘└───┘ ║  ║  ║  ║  ║ └╥┘\n",
              "c: 6/═══════════╩══╩══╩══╩══╩══╩═\n",
              "                0  1  2  3  4  5 </pre>"
            ]
          },
          "metadata": {},
          "execution_count": 48
        }
      ]
    },
    {
      "cell_type": "markdown",
      "source": [
        "b) Create and draw a 5-qubit/5-classical bit quantum circuit where you apply the gates listed below using a loop and measure.\n",
        "\n",
        "H gate on qubit 0\n",
        "\n",
        "CX with qubit 0 as the control and qubit 1 as the target\n",
        "\n",
        "H gate on qubit 1\n",
        "\n",
        "CX with qubit 1 as the control and qubit 2 as the target\n",
        "\n",
        "H gate on qubit 2\n",
        "\n",
        "CX with qubit 2 as the control and qubit 3 as the target"
      ],
      "metadata": {
        "id": "chuYQgExUykN"
      }
    },
    {
      "cell_type": "code",
      "source": [
        "# write your code here\n",
        "qc = QuantumCircuit(5,5)\n",
        "\n",
        "for qubit in range(5):\n",
        "  if qubit < 4:\n",
        "    qc.h(qubit)\n",
        "    qc.cnot(qubit, qubit + 1)\n",
        "  else:\n",
        "    qc.h(qubit)\n",
        "    qc.cnot(qubit, 0)\n",
        "# Measure\n",
        "qc.measure((0,1,2,3,4),(0,1,2,3,4))\n",
        "\n",
        "# Draw\n",
        "qc.draw()"
      ],
      "metadata": {
        "id": "U3AO0ygAVDWT",
        "colab": {
          "base_uri": "https://localhost:8080/",
          "height": 217
        },
        "outputId": "af5d7a7b-6bb2-4399-a8b2-185c460f1ce9"
      },
      "execution_count": null,
      "outputs": [
        {
          "output_type": "execute_result",
          "data": {
            "text/plain": [
              "     ┌───┐                                                 ┌───┐┌─┐   \n",
              "q_0: ┤ H ├──■──────────────────────────────────────────────┤ X ├┤M├───\n",
              "     └───┘┌─┴─┐┌───┐          ┌─┐                          └─┬─┘└╥┘   \n",
              "q_1: ─────┤ X ├┤ H ├──■───────┤M├────────────────────────────┼───╫────\n",
              "          └───┘└───┘┌─┴─┐┌───┐└╥┘          ┌─┐               │   ║    \n",
              "q_2: ───────────────┤ X ├┤ H ├─╫───■───────┤M├───────────────┼───╫────\n",
              "                    └───┘└───┘ ║ ┌─┴─┐┌───┐└╥┘          ┌─┐  │   ║    \n",
              "q_3: ──────────────────────────╫─┤ X ├┤ H ├─╫───■───────┤M├──┼───╫────\n",
              "                               ║ └───┘└───┘ ║ ┌─┴─┐┌───┐└╥┘  │   ║ ┌─┐\n",
              "q_4: ──────────────────────────╫────────────╫─┤ X ├┤ H ├─╫───■───╫─┤M├\n",
              "                               ║            ║ └───┘└───┘ ║       ║ └╥┘\n",
              "c: 5/══════════════════════════╩════════════╩════════════╩═══════╩══╩═\n",
              "                               1            2            3       0  4 "
            ],
            "text/html": [
              "<pre style=\"word-wrap: normal;white-space: pre;background: #fff0;line-height: 1.1;font-family: &quot;Courier New&quot;,Courier,monospace\">     ┌───┐                                                 ┌───┐┌─┐   \n",
              "q_0: ┤ H ├──■──────────────────────────────────────────────┤ X ├┤M├───\n",
              "     └───┘┌─┴─┐┌───┐          ┌─┐                          └─┬─┘└╥┘   \n",
              "q_1: ─────┤ X ├┤ H ├──■───────┤M├────────────────────────────┼───╫────\n",
              "          └───┘└───┘┌─┴─┐┌───┐└╥┘          ┌─┐               │   ║    \n",
              "q_2: ───────────────┤ X ├┤ H ├─╫───■───────┤M├───────────────┼───╫────\n",
              "                    └───┘└───┘ ║ ┌─┴─┐┌───┐└╥┘          ┌─┐  │   ║    \n",
              "q_3: ──────────────────────────╫─┤ X ├┤ H ├─╫───■───────┤M├──┼───╫────\n",
              "                               ║ └───┘└───┘ ║ ┌─┴─┐┌───┐└╥┘  │   ║ ┌─┐\n",
              "q_4: ──────────────────────────╫────────────╫─┤ X ├┤ H ├─╫───■───╫─┤M├\n",
              "                               ║            ║ └───┘└───┘ ║       ║ └╥┘\n",
              "c: 5/══════════════════════════╩════════════╩════════════╩═══════╩══╩═\n",
              "                               1            2            3       0  4 </pre>"
            ]
          },
          "metadata": {},
          "execution_count": 53
        }
      ]
    },
    {
      "cell_type": "markdown",
      "source": [
        "**Exercise-7**\n",
        "\n",
        "Problem 1:- ( You must generalize it)\n",
        "\n",
        "Create a Quantum Circuit for the following senarios:-\n",
        "\n",
        "Input should be a positive interger in the binary format , For Example if n = 15 , input to the circuit is 1111\n",
        "\n",
        "## EVEN Number\n",
        "a) Consider n is even number then output should be n/2\n",
        "\n",
        "Hints:-\n",
        "\n",
        "1) If input is 1110 then output should be 0111\n",
        "\n",
        "\n",
        "\n"
      ],
      "metadata": {
        "id": "rcQbsjJNVOG8"
      }
    },
    {
      "cell_type": "code",
      "source": [
        "# Enter number here\n",
        "n = 14\n",
        "\n",
        "# Converting to binary\n",
        "binary = bin(n)[2:]\n",
        "print(\"Binary is: \", binary)\n",
        "\n",
        "# Number of qubits required\n",
        "n_qubits = len(binary)\n",
        "print(\"Number of qubits: \", n_qubits)\n",
        "\n",
        "# Create Quantum Circuit\n",
        "qc = QuantumCircuit(n_qubits, n_qubits)\n",
        "\n",
        "# Passing input to the quantum circuit\n",
        "count = 0\n",
        "for i in binary:\n",
        "  if i == '1':\n",
        "    qc.x(count)\n",
        "  count += 1\n",
        "\n",
        "# Here no gates are required.\n",
        "\n",
        "# Here the qubits are measured and sent to the classical bits. The last qubit is the first classical bit and the rest are the same.\n",
        "# This is done because an n/2 operation basically reduces the qubits to three. For example 1110 is a 14, n/2 is 7 which is 111\n",
        "# 0 at the end of 1110 can be measured to the first classical bit and then the rest of the qubits to the remaining classical bits.\n",
        "\n",
        "# Measure\n",
        "for i in range(n_qubits):\n",
        "  if i == n_qubits-1:\n",
        "    qc.measure(i,0)\n",
        "  else:\n",
        "    qc.measure(i,i+1)\n",
        "\n",
        "# Draw circuit\n",
        "qc.draw()"
      ],
      "metadata": {
        "colab": {
          "base_uri": "https://localhost:8080/",
          "height": 216
        },
        "id": "mdONR7JOAnLz",
        "outputId": "d788a973-ed64-4850-f1ce-2d33466d7fe6"
      },
      "execution_count": null,
      "outputs": [
        {
          "output_type": "stream",
          "name": "stdout",
          "text": [
            "Binary is:  1110\n",
            "Number of qubits:  4\n"
          ]
        },
        {
          "output_type": "execute_result",
          "data": {
            "text/plain": [
              "     ┌───┐┌─┐      \n",
              "q_0: ┤ X ├┤M├──────\n",
              "     ├───┤└╥┘┌─┐   \n",
              "q_1: ┤ X ├─╫─┤M├───\n",
              "     ├───┤ ║ └╥┘┌─┐\n",
              "q_2: ┤ X ├─╫──╫─┤M├\n",
              "     └┬─┬┘ ║  ║ └╥┘\n",
              "q_3: ─┤M├──╫──╫──╫─\n",
              "      └╥┘  ║  ║  ║ \n",
              "c: 4/══╩═══╩══╩══╩═\n",
              "       0   1  2  3 "
            ],
            "text/html": [
              "<pre style=\"word-wrap: normal;white-space: pre;background: #fff0;line-height: 1.1;font-family: &quot;Courier New&quot;,Courier,monospace\">     ┌───┐┌─┐      \n",
              "q_0: ┤ X ├┤M├──────\n",
              "     ├───┤└╥┘┌─┐   \n",
              "q_1: ┤ X ├─╫─┤M├───\n",
              "     ├───┤ ║ └╥┘┌─┐\n",
              "q_2: ┤ X ├─╫──╫─┤M├\n",
              "     └┬─┬┘ ║  ║ └╥┘\n",
              "q_3: ─┤M├──╫──╫──╫─\n",
              "      └╥┘  ║  ║  ║ \n",
              "c: 4/══╩═══╩══╩══╩═\n",
              "       0   1  2  3 </pre>"
            ]
          },
          "metadata": {},
          "execution_count": 92
        }
      ]
    },
    {
      "cell_type": "code",
      "source": [
        "# Simulate the circuit\n",
        "backend = Aer.get_backend('qasm_simulator')\n",
        "job = execute(qc, backend, shots=1024)\n",
        "result = job.result()\n",
        "counts = result.get_counts()\n",
        "plot_histogram(counts)"
      ],
      "metadata": {
        "colab": {
          "base_uri": "https://localhost:8080/",
          "height": 348
        },
        "id": "MhaZYngdFkrY",
        "outputId": "abb4c7e3-4f8d-482e-df8b-7c8f7bf997bd"
      },
      "execution_count": null,
      "outputs": [
        {
          "output_type": "execute_result",
          "data": {
            "text/plain": [
              "<Figure size 504x360 with 1 Axes>"
            ],
            "image/png": "[encoded data removed]"
          },
          "metadata": {},
          "execution_count": 93
        }
      ]
    },
    {
      "cell_type": "markdown",
      "source": [
        "## ODD number\n",
        "b)Consider n is odd number then output should be (n+1)/2\n",
        "\n",
        "\n",
        "Hint:-\n",
        "\n",
        "1) If input is 1111 then output should be 1000 { This are in binary format)\n"
      ],
      "metadata": {
        "id": "lkAxayhTXK0R"
      }
    },
    {
      "cell_type": "code",
      "source": [
        "# This approach is using carry qubit and sum qubit\n",
        "\n",
        "# Enter number here.\n",
        "n = 15\n",
        "\n",
        "# Converting to binary\n",
        "binary = bin(n)[2:]\n",
        "print(\"Binary is: \", binary)\n",
        "\n",
        "# Number of qubits required\n",
        "n_qubits = len(binary) + 2 # Plus 2 for the carry qubit and 0001 qubit\n",
        "print(\"Number of qubits: \", n_qubits)\n",
        "\n",
        "# Create Quantum Circuit\n",
        "qc = QuantumCircuit(n_qubits, n_qubits - 2)\n",
        "\n",
        "# Passing input to the quantum circuit\n",
        "count = 0\n",
        "for i in binary:\n",
        "  if i == '1':\n",
        "    qc.x(count)\n",
        "  count += 1\n",
        "\n",
        "# Processing input using gates: n+1 operation\n",
        "# Carry qubit\n",
        "qc.x(n_qubits-2) # adding qubit\n",
        "\n",
        "qc.ccx(n_qubits - 2, n_qubits - 3,n_qubits -1) #Carry bit\n",
        "\n",
        "for i in range(n_qubits - 2,0,-1):\n",
        "  #qc.ccx(n_qubits - 1, i-1, i-2)\n",
        "  #qc.ccx(i-2, i, n_qubits - 1) #updating carry\n",
        "  qc.cnot(n_qubits - 1,i-1)\n",
        "\n",
        "qc.swap(n_qubits - 3,n_qubits - 2)\n",
        "#for i in range(n_qubits-1, 0, -1):\n",
        "  #qc.cnot(i, i-1)\n",
        "\n",
        "\n",
        "# Measure\n",
        "for i in range(n_qubits-2):\n",
        "  if i == n_qubits-3:\n",
        "    qc.measure(i,0)\n",
        "  else:\n",
        "    qc.measure(i,i+1)\n",
        "\n",
        "\n",
        "# Draw circuit\n",
        "qc.draw()"
      ],
      "metadata": {
        "colab": {
          "base_uri": "https://localhost:8080/",
          "height": 276
        },
        "id": "-U65Ys3YAnl2",
        "outputId": "995a6b75-d14c-4023-9142-26e8125d1c9c"
      },
      "execution_count": null,
      "outputs": [
        {
          "output_type": "stream",
          "name": "stdout",
          "text": [
            "Binary is:  1111\n",
            "Number of qubits:  6\n"
          ]
        },
        {
          "output_type": "execute_result",
          "data": {
            "text/plain": [
              "     ┌───┐                             ┌───┐   ┌─┐\n",
              "q_0: ┤ X ├─────────────────────────────┤ X ├───┤M├\n",
              "     ├───┤                  ┌───┐      └─┬─┘┌─┐└╥┘\n",
              "q_1: ┤ X ├──────────────────┤ X ├────────┼──┤M├─╫─\n",
              "     ├───┤          ┌───┐   └─┬─┘┌─┐     │  └╥┘ ║ \n",
              "q_2: ┤ X ├──────────┤ X ├─────┼──┤M├─────┼───╫──╫─\n",
              "     ├───┤     ┌───┐└─┬─┘     │  └╥┘┌─┐  │   ║  ║ \n",
              "q_3: ┤ X ├──■──┤ X ├──┼───X───┼───╫─┤M├──┼───╫──╫─\n",
              "     ├───┤  │  └─┬─┘  │   │   │   ║ └╥┘  │   ║  ║ \n",
              "q_4: ┤ X ├──■────┼────┼───X───┼───╫──╫───┼───╫──╫─\n",
              "     └───┘┌─┴─┐  │    │       │   ║  ║   │   ║  ║ \n",
              "q_5: ─────┤ X ├──■────■───────■───╫──╫───■───╫──╫─\n",
              "          └───┘                   ║  ║       ║  ║ \n",
              "c: 4/═════════════════════════════╩══╩═══════╩══╩═\n",
              "                                  3  0       2  1 "
            ],
            "text/html": [
              "<pre style=\"word-wrap: normal;white-space: pre;background: #fff0;line-height: 1.1;font-family: &quot;Courier New&quot;,Courier,monospace\">     ┌───┐                             ┌───┐   ┌─┐\n",
              "q_0: ┤ X ├─────────────────────────────┤ X ├───┤M├\n",
              "     ├───┤                  ┌───┐      └─┬─┘┌─┐└╥┘\n",
              "q_1: ┤ X ├──────────────────┤ X ├────────┼──┤M├─╫─\n",
              "     ├───┤          ┌───┐   └─┬─┘┌─┐     │  └╥┘ ║ \n",
              "q_2: ┤ X ├──────────┤ X ├─────┼──┤M├─────┼───╫──╫─\n",
              "     ├───┤     ┌───┐└─┬─┘     │  └╥┘┌─┐  │   ║  ║ \n",
              "q_3: ┤ X ├──■──┤ X ├──┼───X───┼───╫─┤M├──┼───╫──╫─\n",
              "     ├───┤  │  └─┬─┘  │   │   │   ║ └╥┘  │   ║  ║ \n",
              "q_4: ┤ X ├──■────┼────┼───X───┼───╫──╫───┼───╫──╫─\n",
              "     └───┘┌─┴─┐  │    │       │   ║  ║   │   ║  ║ \n",
              "q_5: ─────┤ X ├──■────■───────■───╫──╫───■───╫──╫─\n",
              "          └───┘                   ║  ║       ║  ║ \n",
              "c: 4/═════════════════════════════╩══╩═══════╩══╩═\n",
              "                                  3  0       2  1 </pre>"
            ]
          },
          "metadata": {},
          "execution_count": 182
        }
      ]
    },
    {
      "cell_type": "code",
      "source": [
        "# Simulate the circuit\n",
        "backend = Aer.get_backend('qasm_simulator')\n",
        "job = execute(qc, backend, shots=1024)\n",
        "result = job.result()\n",
        "counts = result.get_counts()\n",
        "plot_histogram(counts)"
      ],
      "metadata": {
        "colab": {
          "base_uri": "https://localhost:8080/",
          "height": 347
        },
        "id": "p8jUcqIboNaR",
        "outputId": "1290295a-3a83-40b9-db2d-fc618729728c"
      },
      "execution_count": null,
      "outputs": [
        {
          "output_type": "execute_result",
          "data": {
            "text/plain": [
              "<Figure size 504x360 with 1 Axes>"
            ],
            "image/png": "[encoded data removed]"
          },
          "metadata": {},
          "execution_count": 183
        }
      ]
    },
    {
      "cell_type": "code",
      "source": [
        "# This approach is using simple cnot and swap gates.\n",
        "\n",
        "# Enter number here.\n",
        "n = 15\n",
        "\n",
        "# Converting to binary\n",
        "binary = bin(n)[2:]\n",
        "print(\"Binary is: \", binary)\n",
        "\n",
        "# Number of qubits required\n",
        "n_qubits = len(binary)\n",
        "print(\"Number of qubits: \", n_qubits)\n",
        "\n",
        "# Create Quantum Circuit\n",
        "qc = QuantumCircuit(n_qubits, n_qubits)\n",
        "\n",
        "# Passing input to the quantum circuit\n",
        "count = 0\n",
        "for i in binary:\n",
        "  if i == '1':\n",
        "    qc.x(count)\n",
        "  count += 1\n",
        "\n",
        "# Processing input using gates:\n",
        "for i in range(n_qubits - 1):\n",
        "  qc.cnot(i,i+1)\n",
        "  qc.swap(i,i+1)\n",
        "\n",
        "#qc.cnot(n_qubits - 1, n_qubits - 2)\n",
        "#qc.swap(n_qubits - 2, n_qubits - 3)\n",
        "\n",
        "# Measure\n",
        "for i in range(n_qubits):\n",
        "  if i == n_qubits-1:\n",
        "    qc.measure(i,0)\n",
        "  else:\n",
        "    qc.measure(i,i+1)\n",
        "\n",
        "# Draw circuit\n",
        "qc.draw()"
      ],
      "metadata": {
        "colab": {
          "base_uri": "https://localhost:8080/",
          "height": 216
        },
        "id": "pD4COk0Ai6GH",
        "outputId": "667540c3-e78b-443a-eca3-c5d9e90cf5fe"
      },
      "execution_count": null,
      "outputs": [
        {
          "output_type": "stream",
          "name": "stdout",
          "text": [
            "Binary is:  1111\n",
            "Number of qubits:  4\n"
          ]
        },
        {
          "output_type": "execute_result",
          "data": {
            "text/plain": [
              "     ┌───┐             ┌─┐                    \n",
              "q_0: ┤ X ├──■───X──────┤M├────────────────────\n",
              "     ├───┤┌─┴─┐ │      └╥┘        ┌─┐         \n",
              "q_1: ┤ X ├┤ X ├─X───■───╫──X──────┤M├─────────\n",
              "     ├───┤└───┘   ┌─┴─┐ ║  │      └╥┘   ┌─┐   \n",
              "q_2: ┤ X ├────────┤ X ├─╫──X───■───╫──X─┤M├───\n",
              "     ├───┤        └───┘ ║    ┌─┴─┐ ║  │ └╥┘┌─┐\n",
              "q_3: ┤ X ├──────────────╫────┤ X ├─╫──X──╫─┤M├\n",
              "     └───┘              ║    └───┘ ║     ║ └╥┘\n",
              "c: 4/═══════════════════╩══════════╩═════╩══╩═\n",
              "                        1          2     3  0 "
            ],
            "text/html": [
              "<pre style=\"word-wrap: normal;white-space: pre;background: #fff0;line-height: 1.1;font-family: &quot;Courier New&quot;,Courier,monospace\">     ┌───┐             ┌─┐                    \n",
              "q_0: ┤ X ├──■───X──────┤M├────────────────────\n",
              "     ├───┤┌─┴─┐ │      └╥┘        ┌─┐         \n",
              "q_1: ┤ X ├┤ X ├─X───■───╫──X──────┤M├─────────\n",
              "     ├───┤└───┘   ┌─┴─┐ ║  │      └╥┘   ┌─┐   \n",
              "q_2: ┤ X ├────────┤ X ├─╫──X───■───╫──X─┤M├───\n",
              "     ├───┤        └───┘ ║    ┌─┴─┐ ║  │ └╥┘┌─┐\n",
              "q_3: ┤ X ├──────────────╫────┤ X ├─╫──X──╫─┤M├\n",
              "     └───┘              ║    └───┘ ║     ║ └╥┘\n",
              "c: 4/═══════════════════╩══════════╩═════╩══╩═\n",
              "                        1          2     3  0 </pre>"
            ]
          },
          "metadata": {},
          "execution_count": 180
        }
      ]
    },
    {
      "cell_type": "code",
      "source": [
        "# Simulate the circuit\n",
        "backend = Aer.get_backend('qasm_simulator')\n",
        "job = execute(qc, backend, shots=1024)\n",
        "result = job.result()\n",
        "counts = result.get_counts()\n",
        "plot_histogram(counts)"
      ],
      "metadata": {
        "colab": {
          "base_uri": "https://localhost:8080/",
          "height": 347
        },
        "id": "Cd8BjnuQJahP",
        "outputId": "3a4c8e59-213f-4bc5-bb72-e1807570ff38"
      },
      "execution_count": null,
      "outputs": [
        {
          "output_type": "execute_result",
          "data": {
            "text/plain": [
              "<Figure size 504x360 with 1 Axes>"
            ],
            "image/png": "[encoded data removed]"
          },
          "metadata": {},
          "execution_count": 181
        }
      ]
    },
    {
      "cell_type": "code",
      "source": [
        "# Third approach: doesn't work.\n",
        "\n",
        "# Enter number here.\n",
        "n = 13\n",
        "\n",
        "# Converting to binary\n",
        "binary = bin(n)[2:]\n",
        "print(\"Binary is: \", binary)\n",
        "\n",
        "# Number of qubits required\n",
        "n_qubits = len(binary)\n",
        "print(\"Number of qubits: \", n_qubits)\n",
        "\n",
        "# Create Quantum Circuit\n",
        "qc = QuantumCircuit(n_qubits, n_qubits)\n",
        "\n",
        "# Passing input to the quantum circuit\n",
        "count = 0\n",
        "for i in binary:\n",
        "  if i == '1':\n",
        "    qc.x(count)\n",
        "  count += 1\n",
        "\n",
        "# Processing input using gates:\n",
        "for i in range(n_qubits - 2):\n",
        "  qc.cnot(i,i+2)\n",
        "  qc.swap(i, i+2)\n",
        "\n",
        "#for i in range(n_qubits - 1, 0, -1):\n",
        "  #qc.cnot(i,i-1)\n",
        "  #qc.swap(i-1, i-2)\n",
        "\n",
        "\n",
        "# Measure\n",
        "for i in range(n_qubits):\n",
        "  if i == n_qubits-1:\n",
        "    qc.measure(i,0)\n",
        "  else:\n",
        "    qc.measure(i,i+1)\n",
        "\n",
        "# Draw circuit\n",
        "qc.draw()"
      ],
      "metadata": {
        "colab": {
          "base_uri": "https://localhost:8080/",
          "height": 216
        },
        "id": "AFtq15PGCY0O",
        "outputId": "046cdcda-6ec2-49dd-ffe2-949dd41b7dd8"
      },
      "execution_count": null,
      "outputs": [
        {
          "output_type": "stream",
          "name": "stdout",
          "text": [
            "Binary is:  1101\n",
            "Number of qubits:  4\n"
          ]
        },
        {
          "output_type": "execute_result",
          "data": {
            "text/plain": [
              "     ┌───┐                                ┌─┐         \n",
              "q_0: ┤ X ├──■────────X──────■────────X────┤M├─────────\n",
              "     ├───┤  │        │      │        │    └╥┘┌─┐      \n",
              "q_1: ┤ X ├──┼────■───┼──X───┼────■───┼──X──╫─┤M├──────\n",
              "     └───┘┌─┴─┐  │   │  │ ┌─┴─┐  │   │  │  ║ └╥┘┌─┐   \n",
              "q_2: ─────┤ X ├──┼───X──┼─┤ X ├──┼───X──┼──╫──╫─┤M├───\n",
              "     ┌───┐└───┘┌─┴─┐    │ └───┘┌─┴─┐    │  ║  ║ └╥┘┌─┐\n",
              "q_3: ┤ X ├─────┤ X ├────X──────┤ X ├────X──╫──╫──╫─┤M├\n",
              "     └───┘     └───┘           └───┘       ║  ║  ║ └╥┘\n",
              "c: 4/══════════════════════════════════════╩══╩══╩══╩═\n",
              "                                           1  2  3  0 "
            ],
            "text/html": [
              "<pre style=\"word-wrap: normal;white-space: pre;background: #fff0;line-height: 1.1;font-family: &quot;Courier New&quot;,Courier,monospace\">     ┌───┐                                ┌─┐         \n",
              "q_0: ┤ X ├──■────────X──────■────────X────┤M├─────────\n",
              "     ├───┤  │        │      │        │    └╥┘┌─┐      \n",
              "q_1: ┤ X ├──┼────■───┼──X───┼────■───┼──X──╫─┤M├──────\n",
              "     └───┘┌─┴─┐  │   │  │ ┌─┴─┐  │   │  │  ║ └╥┘┌─┐   \n",
              "q_2: ─────┤ X ├──┼───X──┼─┤ X ├──┼───X──┼──╫──╫─┤M├───\n",
              "     ┌───┐└───┘┌─┴─┐    │ └───┘┌─┴─┐    │  ║  ║ └╥┘┌─┐\n",
              "q_3: ┤ X ├─────┤ X ├────X──────┤ X ├────X──╫──╫──╫─┤M├\n",
              "     └───┘     └───┘           └───┘       ║  ║  ║ └╥┘\n",
              "c: 4/══════════════════════════════════════╩══╩══╩══╩═\n",
              "                                           1  2  3  0 </pre>"
            ]
          },
          "metadata": {},
          "execution_count": 219
        }
      ]
    },
    {
      "cell_type": "code",
      "source": [
        "# Simulate the circuit\n",
        "backend = Aer.get_backend('qasm_simulator')\n",
        "job = execute(qc, backend, shots=1024)\n",
        "result = job.result()\n",
        "counts = result.get_counts()\n",
        "plot_histogram(counts)"
      ],
      "metadata": {
        "colab": {
          "base_uri": "https://localhost:8080/",
          "height": 348
        },
        "id": "-pHOazu6DQiN",
        "outputId": "db0d2dbd-04a3-4c47-a3b9-a4060da17798"
      },
      "execution_count": null,
      "outputs": [
        {
          "output_type": "execute_result",
          "data": {
            "text/plain": [
              "<Figure size 504x360 with 1 Axes>"
            ],
            "image/png": "[encoded data removed]"
          },
          "metadata": {},
          "execution_count": 220
        }
      ]
    },
    {
      "cell_type": "markdown",
      "source": [
        "## The End"
      ],
      "metadata": {
        "id": "4sDXXk60BJ-e"
      }
    }
  ]
}